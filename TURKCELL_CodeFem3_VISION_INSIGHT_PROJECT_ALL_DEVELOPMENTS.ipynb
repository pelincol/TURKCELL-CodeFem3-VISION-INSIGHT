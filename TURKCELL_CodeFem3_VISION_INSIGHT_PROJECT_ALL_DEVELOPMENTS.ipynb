{
  "nbformat": 4,
  "nbformat_minor": 0,
  "metadata": {
    "colab": {
      "provenance": [],
      "collapsed_sections": [
        "nR8PEk2ujP09",
        "daj92754gSDc",
        "o6TljDBucIyj",
        "ViZqD-FYcYlf",
        "pJjmRr_Hca44",
        "Ezqwpb55cc0j",
        "55V_W3L6SeB0",
        "jS7VJhh2Q_Fb"
      ],
      "machine_shape": "hm",
      "gpuType": "V6E1"
    },
    "kernelspec": {
      "name": "python3",
      "display_name": "Python 3"
    },
    "language_info": {
      "name": "python"
    },
    "accelerator": "TPU"
  },
  "cells": [
    {
      "cell_type": "markdown",
      "source": [
        "# **COLAB LOCALDEKİ DOSYA VE KLASÖRLERİ SİLME (DRIVE HARİÇ)**"
      ],
      "metadata": {
        "id": "nR8PEk2ujP09"
      }
    },
    {
      "cell_type": "code",
      "source": [
        "import os, shutil, glob\n",
        "\n",
        "skip = {'drive'}  # isterseniz 'sample_data' da ekleyin\n",
        "for path in glob.glob('/content/*'):\n",
        "    name = os.path.basename(path)\n",
        "    if name in skip:\n",
        "        continue\n",
        "    if os.path.isdir(path):\n",
        "        shutil.rmtree(path, ignore_errors=True)\n",
        "    else:\n",
        "        try:\n",
        "            os.remove(path)\n",
        "        except FileNotFoundError:\n",
        "            pass\n"
      ],
      "metadata": {
        "id": "MeQW5cdEjQns"
      },
      "execution_count": 1,
      "outputs": []
    },
    {
      "cell_type": "markdown",
      "source": [
        "# **DATASET LABEL DOSYALARINI İNCELEME**"
      ],
      "metadata": {
        "id": "daj92754gSDc"
      }
    },
    {
      "cell_type": "code",
      "source": [
        "from glob import glob\n",
        "from pathlib import Path\n",
        "\n",
        "DRIVE_ROOT = \"/content/drive/MyDrive\"\n",
        "BASE_DIR   = f\"{DRIVE_ROOT}/TURKCELL-CodeFem3\"\n",
        "VIDEOS_DIR = f\"{BASE_DIR}/Videos_MERL_Shopping_Dataset\"\n",
        "LABELS_DIR = f\"{BASE_DIR}/Labels_MERL_Shopping_Dataset\"\n",
        "\n",
        "mp4s = sorted(glob(f\"{VIDEOS_DIR}/*.mp4\"))\n",
        "mats = sorted(glob(f\"{LABELS_DIR}/*_label.mat\"))\n",
        "\n",
        "video_bases = {Path(p).stem.replace(\"_crop\",\"\") for p in mp4s}\n",
        "label_bases = {Path(p).stem.replace(\"_label\",\"\") for p in mats}\n",
        "\n",
        "missing_labels = sorted(video_bases - label_bases)  # videosu var, label yok\n",
        "missing_videos = sorted(label_bases - video_bases)  # label var, video yok\n",
        "\n",
        "print(\"Video sayısı:\", len(mp4s))\n",
        "print(\"Label sayısı:\", len(mats))\n",
        "print(\"EKSİK LABEL (ilk 10):\", missing_labels[:10])\n",
        "print(\"EKSİK VIDEO (ilk 10):\", missing_videos[:10])\n"
      ],
      "metadata": {
        "colab": {
          "base_uri": "https://localhost:8080/"
        },
        "id": "zeyHp7J5o9M0",
        "outputId": "71fb0607-50fc-413a-ffb2-c68f60d858d0"
      },
      "execution_count": null,
      "outputs": [
        {
          "output_type": "stream",
          "name": "stdout",
          "text": [
            "Video sayısı: 106\n",
            "Label sayısı: 106\n",
            "EKSİK LABEL (ilk 10): []\n",
            "EKSİK VIDEO (ilk 10): []\n"
          ]
        }
      ]
    },
    {
      "cell_type": "code",
      "source": [
        "import re, numpy as np, scipy.io as sio\n",
        "from pathlib import Path\n",
        "\n",
        "def _coerce_kx2(a):\n",
        "    a = np.array(a)\n",
        "    if a.size == 0: return np.empty((0,2), int)\n",
        "    a = np.atleast_2d(a)\n",
        "    if a.shape[1] != 2 and a.shape[0] == 2: a = a.T\n",
        "    return a.astype(int)\n",
        "\n",
        "def load_tlabs(mat_path):\n",
        "    d = sio.loadmat(mat_path, squeeze_me=True, struct_as_record=False)\n",
        "    tl = d['tlabs']\n",
        "    cells = [tl[i] for i in range(5)] if np.ndim(tl)==1 else list(np.ravel(tl))[:5]\n",
        "    return [_coerce_kx2(c) for c in cells]\n",
        "\n",
        "ID2CLASS = {1:\"Reach_To_Shelf\",2:\"Retract_From_Shelf\",3:\"Hand_In_Shelf\",4:\"Inspect_Product\",5:\"Inspect_Shelf\"}\n",
        "\n",
        "stem = \"33_1_crop\"  # örnek: ekrandaki dosyalardan biri\n",
        "base = stem.replace(\"_crop\",\"\")\n",
        "mat_path = f\"{LABELS_DIR}/{base}_label.mat\"\n",
        "\n",
        "tlabs = load_tlabs(mat_path)\n",
        "print(\"Video:\", stem, \"-> Label:\", Path(mat_path).name)\n",
        "for i, cname in ID2CLASS.items():\n",
        "    arr = tlabs[i-1]\n",
        "    print(f\"{cname:18s}: {arr.shape[0]} interval, first5:\", arr[:5].tolist())\n"
      ],
      "metadata": {
        "colab": {
          "base_uri": "https://localhost:8080/"
        },
        "id": "C7cZHBq-qzaz",
        "outputId": "a501a172-ca61-4716-99f6-0a90051803df"
      },
      "execution_count": null,
      "outputs": [
        {
          "output_type": "stream",
          "name": "stdout",
          "text": [
            "Video: 33_1_crop -> Label: 33_1_label.mat\n",
            "Reach_To_Shelf    : 19 interval, first5: [[228, 259], [442, 458], [750, 762], [1105, 1124], [1247, 1269]]\n",
            "Retract_From_Shelf: 16 interval, first5: [[398, 421], [923, 939], [2438, 2479], [3154, 3185], [3565, 3634]]\n",
            "Hand_In_Shelf     : 7 interval, first5: [[302, 360], [594, 665], [763, 790], [978, 992], [2763, 2847]]\n",
            "Inspect_Product   : 6 interval, first5: [[295, 301], [496, 566], [808, 878], [2208, 2379], [3243, 3374]]\n",
            "Inspect_Shelf     : 7 interval, first5: [[422, 437], [1017, 1104], [1169, 1246], [1314, 1697], [2538, 2711]]\n"
          ]
        }
      ]
    },
    {
      "cell_type": "code",
      "source": [
        "# Tek video label inceleme + örnek frame çıkarma\n",
        "!pip -q install scipy opencv-python\n",
        "\n",
        "import os, cv2, numpy as np, scipy.io as sio\n",
        "from pathlib import Path\n",
        "\n",
        "DRIVE_ROOT = \"/content/drive/MyDrive\"\n",
        "BASE_DIR   = f\"{DRIVE_ROOT}/TURKCELL-CodeFem3\"\n",
        "VIDEOS_DIR = f\"{BASE_DIR}/Videos_MERL_Shopping_Dataset\"\n",
        "LABELS_DIR = f\"{BASE_DIR}/Labels_MERL_Shopping_Dataset\"\n",
        "OUT_DIR    = f\"{BASE_DIR}/MERL_WORK_DRIVE/label_analysis/samples\"\n",
        "os.makedirs(OUT_DIR, exist_ok=True)\n",
        "\n",
        "FPS = 15\n",
        "ID2CLASS = {1:\"Reach_To_Shelf\",2:\"Retract_From_Shelf\",3:\"Hand_In_Shelf\",4:\"Inspect_Product\",5:\"Inspect_Shelf\"}\n",
        "\n",
        "def _coerce_kx2(a):\n",
        "    a = np.array(a);\n",
        "    if a.size==0: return np.empty((0,2), int)\n",
        "    a = np.atleast_2d(a)\n",
        "    if a.shape[1]!=2 and a.shape[0]==2: a=a.T\n",
        "    return a.astype(int)\n",
        "\n",
        "def load_tlabs(mp):\n",
        "    d = sio.loadmat(mp, squeeze_me=True, struct_as_record=False)\n",
        "    tl = d[\"tlabs\"]\n",
        "    cells = [tl[i] for i in range(5)] if np.ndim(tl)==1 else list(np.ravel(tl))[:5]\n",
        "    return [_coerce_kx2(c) for c in cells]\n",
        "\n",
        "stem = \"33_1_crop\"  # <- burada başka bir video adıyla değiştirerek oynayabilirsin\n",
        "base = stem.replace(\"_crop\",\"\")\n",
        "vpath = f\"{VIDEOS_DIR}/{stem}.mp4\"\n",
        "mpath = f\"{LABELS_DIR}/{base}_label.mat\"\n",
        "\n",
        "tlabs = load_tlabs(mpath)\n",
        "max_end = max([arr[:,1].max() if arr.size else 0 for arr in tlabs])\n",
        "print(\"Video:\", stem, \"| tahmini toplam frame (label max_end):\", max_end)\n",
        "\n",
        "# saniyeye çevirip yazdır\n",
        "for i, cname in ID2CLASS.items():\n",
        "    arr = tlabs[i-1]\n",
        "    lens = (arr[:,1]-arr[:,0]+1) if arr.size else np.array([], int)\n",
        "    secs = lens / FPS\n",
        "    print(f\"{cname:18s}: {len(lens)} interval | ort. {secs.mean():.2f}s (n>0 ise)\")\n",
        "    if arr.size:\n",
        "        for st,en in arr[:5]:\n",
        "            L = en-st+1\n",
        "            print(f\"  - [{st},{en}] -> {L} fr ~ {L/FPS:.2f}s\")\n",
        "\n",
        "# overlap kontrolü\n",
        "occ = np.zeros(max_end+1, np.int16)\n",
        "for i in range(5):\n",
        "    for st,en in tlabs[i]:\n",
        "        st=max(int(st),1); en=int(en)\n",
        "        if en>=st: occ[st:en+1]+=1\n",
        "print(\"Overlap frame sayısı:\", int((occ>1).sum()))\n",
        "\n",
        "# örnek frame kaydet (her sınıftan ilk aralığın ortasından 1 kare)\n",
        "cap = cv2.VideoCapture(vpath)\n",
        "def save_frame(index, out_file):\n",
        "    cap.set(cv2.CAP_PROP_POS_FRAMES, max(index-1,0))\n",
        "    ok, img = cap.read()\n",
        "    if ok:\n",
        "        cv2.imwrite(out_file, img)\n",
        "        return True\n",
        "    return False\n",
        "\n",
        "for i, cname in ID2CLASS.items():\n",
        "    arr = tlabs[i-1]\n",
        "    if arr.size:\n",
        "        mid = int((arr[0,0] + arr[0,1])//2)\n",
        "        out = f\"{OUT_DIR}/{stem}_{cname}_midframe_{mid}.jpg\"\n",
        "        if save_frame(mid, out):\n",
        "            print(\"Saved:\", out)\n",
        "cap.release()\n"
      ],
      "metadata": {
        "colab": {
          "base_uri": "https://localhost:8080/"
        },
        "id": "VbgwCuj_rTvP",
        "outputId": "d36a20ee-c326-4c82-c265-0fde4e234ed0"
      },
      "execution_count": null,
      "outputs": [
        {
          "output_type": "stream",
          "name": "stdout",
          "text": [
            "Video: 33_1_crop | tahmini toplam frame (label max_end): 3700\n",
            "Reach_To_Shelf    : 19 interval | ort. 2.07s (n>0 ise)\n",
            "  - [228,259] -> 32 fr ~ 2.13s\n",
            "  - [442,458] -> 17 fr ~ 1.13s\n",
            "  - [750,762] -> 13 fr ~ 0.87s\n",
            "  - [1105,1124] -> 20 fr ~ 1.33s\n",
            "  - [1247,1269] -> 23 fr ~ 1.53s\n",
            "Retract_From_Shelf: 16 interval | ort. 2.80s (n>0 ise)\n",
            "  - [398,421] -> 24 fr ~ 1.60s\n",
            "  - [923,939] -> 17 fr ~ 1.13s\n",
            "  - [2438,2479] -> 42 fr ~ 2.80s\n",
            "  - [3154,3185] -> 32 fr ~ 2.13s\n",
            "  - [3565,3634] -> 70 fr ~ 4.67s\n",
            "Hand_In_Shelf     : 7 interval | ort. 2.99s (n>0 ise)\n",
            "  - [302,360] -> 59 fr ~ 3.93s\n",
            "  - [594,665] -> 72 fr ~ 4.80s\n",
            "  - [763,790] -> 28 fr ~ 1.87s\n",
            "  - [978,992] -> 15 fr ~ 1.00s\n",
            "  - [2763,2847] -> 85 fr ~ 5.67s\n",
            "Inspect_Product   : 6 interval | ort. 5.37s (n>0 ise)\n",
            "  - [295,301] -> 7 fr ~ 0.47s\n",
            "  - [496,566] -> 71 fr ~ 4.73s\n",
            "  - [808,878] -> 71 fr ~ 4.73s\n",
            "  - [2208,2379] -> 172 fr ~ 11.47s\n",
            "  - [3243,3374] -> 132 fr ~ 8.80s\n",
            "Inspect_Shelf     : 7 interval | ort. 9.53s (n>0 ise)\n",
            "  - [422,437] -> 16 fr ~ 1.07s\n",
            "  - [1017,1104] -> 88 fr ~ 5.87s\n",
            "  - [1169,1246] -> 78 fr ~ 5.20s\n",
            "  - [1314,1697] -> 384 fr ~ 25.60s\n",
            "  - [2538,2711] -> 174 fr ~ 11.60s\n",
            "Overlap frame sayısı: 8\n",
            "Saved: /content/drive/MyDrive/TURKCELL-CodeFem3/MERL_WORK_DRIVE/label_analysis/samples/33_1_crop_Reach_To_Shelf_midframe_243.jpg\n",
            "Saved: /content/drive/MyDrive/TURKCELL-CodeFem3/MERL_WORK_DRIVE/label_analysis/samples/33_1_crop_Retract_From_Shelf_midframe_409.jpg\n",
            "Saved: /content/drive/MyDrive/TURKCELL-CodeFem3/MERL_WORK_DRIVE/label_analysis/samples/33_1_crop_Hand_In_Shelf_midframe_331.jpg\n",
            "Saved: /content/drive/MyDrive/TURKCELL-CodeFem3/MERL_WORK_DRIVE/label_analysis/samples/33_1_crop_Inspect_Product_midframe_298.jpg\n",
            "Saved: /content/drive/MyDrive/TURKCELL-CodeFem3/MERL_WORK_DRIVE/label_analysis/samples/33_1_crop_Inspect_Shelf_midframe_429.jpg\n"
          ]
        }
      ]
    },
    {
      "cell_type": "markdown",
      "source": [
        "# **SPLIT THE DATASET: TRAIN, VALIDATION, TEST**"
      ],
      "metadata": {
        "id": "o6TljDBucIyj"
      }
    },
    {
      "cell_type": "markdown",
      "source": [
        "**CREAT THE DATASET IN DRIVE**"
      ],
      "metadata": {
        "id": "W8VblDCs92W9"
      }
    },
    {
      "cell_type": "code",
      "source": [
        "# ============================\n",
        "# A) PREP — Build on Drive (SAFE SAVE, BG=action dışı)\n",
        "# ============================\n",
        "!pip -q install scipy opencv-python tqdm\n",
        "\n",
        "import os, re, json, subprocess, shutil, time, random, hashlib\n",
        "from glob import glob\n",
        "from pathlib import Path\n",
        "import numpy as np\n",
        "import scipy.io as sio\n",
        "from tqdm import tqdm\n",
        "import cv2\n",
        "\n",
        "# --- Drive ---\n",
        "from google.colab import drive\n",
        "try:\n",
        "    drive.mount('/content/drive')\n",
        "except Exception:\n",
        "    drive.mount('/content/drive', force_remount=True)\n",
        "\n",
        "# --- Paths (HEPSİ DRIVE) ---\n",
        "DRIVE_ROOT = \"/content/drive/MyDrive\"\n",
        "BASE_DIR   = f\"{DRIVE_ROOT}/TURKCELL-CodeFem3\"\n",
        "VIDEOS_DIR = f\"{BASE_DIR}/Videos_MERL_Shopping_Dataset\"\n",
        "LABELS_DIR = f\"{BASE_DIR}/Labels_MERL_Shopping_Dataset\"\n",
        "\n",
        "WORK_DRIVE   = f\"{BASE_DIR}/MERL_WORK_DRIVE\"   # tüm çalışma Drive'da\n",
        "DATASET_CLS  = f\"{WORK_DRIVE}/dataset_cls\"     # YOLO-CLS klasör yapısı (Drive)\n",
        "TMP_FRAMES   = \"/content/tmp_frames\"           # geçici (local) — her video bitince silinir\n",
        "LOG_DIR      = f\"{WORK_DRIVE}/prep_logs\"\n",
        "os.makedirs(WORK_DRIVE,  exist_ok=True)\n",
        "os.makedirs(DATASET_CLS, exist_ok=True)\n",
        "os.makedirs(TMP_FRAMES,  exist_ok=True)\n",
        "os.makedirs(LOG_DIR,     exist_ok=True)\n",
        "\n",
        "# --- Parametreler ---\n",
        "FPS = 15\n",
        "FRAME_STEP = 2               # her 2 karede 1\n",
        "BG_KEEP_EVERY = 6            # BG seyrelti (action dışındaki karelerde her 6'da 1)\n",
        "BACKFILL_BG_IF_EMPTY = False # BG'yi artık gerçekten üreteceğiz\n",
        "\n",
        "# SAFE SAVE ayarları\n",
        "RETRIES = 3\n",
        "VERIFY_STRATEGY = 'size'     # 'size' | 'md5' | 'none'\n",
        "MD5_SAMPLE_RATIO = 0.02\n",
        "\n",
        "ID2CLASS = {\n",
        "    0: \"Background\",\n",
        "    1: \"Reach_To_Shelf\",\n",
        "    2: \"Retract_From_Shelf\",\n",
        "    3: \"Hand_In_Shelf\",\n",
        "    4: \"Inspect_Product\",\n",
        "    5: \"Inspect_Shelf\",\n",
        "}\n",
        "CLASSES = list(ID2CLASS.values())\n",
        "\n",
        "# Sabit subject split\n",
        "TRAIN_SUBJ = set(range(1, 21))\n",
        "VAL_SUBJ   = set(range(21, 27))\n",
        "TEST_SUBJ  = set(range(27, 42))\n",
        "\n",
        "# klasörleri hazırla\n",
        "for split in [\"train\",\"val\",\"test\"]:\n",
        "    for cname in CLASSES:\n",
        "        os.makedirs(os.path.join(DATASET_CLS, split, cname), exist_ok=True)\n",
        "\n",
        "def ensure_ffmpeg():\n",
        "    try:\n",
        "        subprocess.run([\"ffmpeg\",\"-version\"], check=True, stdout=subprocess.DEVNULL, stderr=subprocess.DEVNULL)\n",
        "    except Exception:\n",
        "        subprocess.run([\"apt\",\"-y\",\"install\",\"ffmpeg\"], check=True, stdout=subprocess.DEVNULL, stderr=subprocess.DEVNULL)\n",
        "\n",
        "def _coerce_kx2(a):\n",
        "    a = np.array(a)\n",
        "    if a.size == 0: return np.empty((0,2), dtype=int)\n",
        "    a = np.atleast_2d(a)\n",
        "    if a.shape[1] != 2 and a.shape[0] == 2: a = a.T\n",
        "    if a.shape[1] != 2: raise ValueError(f\"Expected Kx2, got {a.shape}\")\n",
        "    return a.astype(int)\n",
        "\n",
        "def load_tlabs(mat_path):\n",
        "    d = sio.loadmat(mat_path, squeeze_me=True, struct_as_record=False)\n",
        "    if 'tlabs' not in d: raise KeyError(f\"'tlabs' not in {mat_path}\")\n",
        "    tl = d['tlabs']\n",
        "    if np.ndim(tl) == 1 and len(tl) == 5: cells = [tl[i] for i in range(5)]\n",
        "    elif isinstance(tl, np.ndarray) and tl.shape == (1,5): cells = [tl[0,i] for i in range(5)]\n",
        "    elif isinstance(tl, np.ndarray) and tl.shape == (5,1): cells = [tl[i,0] for i in range(5)]\n",
        "    else: tl_flat = np.ravel(tl); assert tl_flat.size >= 5; cells = [tl_flat[i] for i in range(5)]\n",
        "    return [_coerce_kx2(c) for c in cells]\n",
        "\n",
        "def parse_subject_session(stem):\n",
        "    m = re.match(r\"^(\\d+)_([0-9]+)_crop$\", stem)\n",
        "    return (int(m.group(1)), int(m.group(2))) if m else (None, None)\n",
        "\n",
        "def split_of_subject(subj):\n",
        "    if subj in TRAIN_SUBJ: return \"train\"\n",
        "    if subj in VAL_SUBJ:   return \"val\"\n",
        "    if subj in TEST_SUBJ:  return \"test\"\n",
        "    return \"train\"\n",
        "\n",
        "def extract_frames_temp(video_path, tmp_out_dir):\n",
        "    os.makedirs(tmp_out_dir, exist_ok=True)\n",
        "    cmd = [\"ffmpeg\",\"-y\",\"-i\",video_path,\"-vf\",f\"fps={FPS}\",\"-q:v\",\"2\",\n",
        "           os.path.join(tmp_out_dir,\"frame_%06d.jpg\")]\n",
        "    subprocess.run(cmd, stdout=subprocess.DEVNULL, stderr=subprocess.DEVNULL, check=True)\n",
        "\n",
        "def dataset_has_video(root, stem):\n",
        "    pat = f\"{stem}_f*.jpg\"\n",
        "    for split in [\"train\",\"val\",\"test\"]:\n",
        "        for cname in CLASSES:\n",
        "            if glob(os.path.join(root, split, cname, pat)):\n",
        "                return True\n",
        "    return False\n",
        "\n",
        "# ---- SAFE COPY to Drive ----\n",
        "def _md5(path, chunk=1024*1024):\n",
        "    h = hashlib.md5()\n",
        "    with open(path, \"rb\") as f:\n",
        "        for b in iter(lambda: f.read(chunk), b\"\"): h.update(b)\n",
        "    return h.hexdigest()\n",
        "\n",
        "def _fsync_dir(dirpath):\n",
        "    try:\n",
        "        fd = os.open(dirpath, os.O_DIRECTORY)\n",
        "        os.fsync(fd); os.close(fd)\n",
        "    except: pass\n",
        "\n",
        "def safe_copy_to_drive(src, dst, verify='size', retries=RETRIES):\n",
        "    os.makedirs(os.path.dirname(dst), exist_ok=True)\n",
        "    tmp = dst + \".tmp\"\n",
        "    src_size = os.path.getsize(src)\n",
        "    src_md5  = None\n",
        "    for attempt in range(1, retries+1):\n",
        "        try:\n",
        "            shutil.copy2(src, tmp)\n",
        "            with open(tmp, \"rb\") as f: os.fsync(f.fileno())\n",
        "            os.replace(tmp, dst); _fsync_dir(os.path.dirname(dst))\n",
        "            if verify == 'none': return True\n",
        "            if verify == 'size' and os.path.getsize(dst) == src_size: return True\n",
        "            if verify == 'md5':\n",
        "                if src_md5 is None: src_md5 = _md5(src)\n",
        "                if _md5(dst) == src_md5: return True\n",
        "            print(f\"Verify failed ({verify}) for {os.path.basename(dst)} (attempt {attempt})\")\n",
        "        except Exception as e:\n",
        "            print(f\"Copy error for {os.path.basename(dst)} (attempt {attempt}): {e}\")\n",
        "        try:\n",
        "            if os.path.exists(tmp): os.remove(tmp)\n",
        "        except: pass\n",
        "        time.sleep(0.8)\n",
        "    raise RuntimeError(f\"FAILED to copy {src} -> {dst} after {retries} retries\")\n",
        "\n",
        "# --- Çalıştır ---\n",
        "assert os.path.isdir(VIDEOS_DIR), f\"Video klasörü yok: {VIDEOS_DIR}\"\n",
        "assert os.path.isdir(LABELS_DIR), f\"Label klasörü yok: {LABELS_DIR}\"\n",
        "ensure_ffmpeg()\n",
        "\n",
        "mp4s = sorted(glob(os.path.join(VIDEOS_DIR, \"*.mp4\")))\n",
        "mats = {Path(p).stem.replace(\"_label\",\"\"): p for p in glob(os.path.join(LABELS_DIR, \"*_label.mat\"))}\n",
        "print(f\"Bulunan video: {len(mp4s)} | label: {len(mats)}\")\n",
        "\n",
        "ts_run = time.strftime(\"%Y%m%d_%H%M%S\")\n",
        "manifest = {\n",
        "    \"run_ts\": ts_run,\n",
        "    \"params\": {\"FPS\": FPS, \"FRAME_STEP\": FRAME_STEP, \"BG_KEEP_EVERY\": BG_KEEP_EVERY,\n",
        "               \"VERIFY_STRATEGY\": VERIFY_STRATEGY},\n",
        "    \"videos\": []\n",
        "}\n",
        "\n",
        "global_counts = {sp:{c:0 for c in CLASSES} for sp in [\"train\",\"val\",\"test\"]}\n",
        "\n",
        "for vpath in tqdm(mp4s, desc=\"PREP (SAFE): build dataset_cls with explicit BG -> Drive\"):\n",
        "    stem = Path(vpath).stem         # \"12_3_crop\"\n",
        "    base = stem.replace(\"_crop\",\"\") # \"12_3\"\n",
        "    if base not in mats:\n",
        "        continue\n",
        "    if dataset_has_video(DATASET_CLS, stem):\n",
        "        continue\n",
        "\n",
        "    subj,_ = parse_subject_session(stem)\n",
        "    split = split_of_subject(subj)\n",
        "\n",
        "    # 1) 15 FPS kare çıkar (LOCAL tmp)\n",
        "    tmp_dir = os.path.join(TMP_FRAMES, stem)\n",
        "    if os.path.exists(tmp_dir): shutil.rmtree(tmp_dir, ignore_errors=True)\n",
        "    extract_frames_temp(vpath, tmp_dir)\n",
        "\n",
        "    frames = sorted(glob(os.path.join(tmp_dir, \"frame_*.jpg\")))\n",
        "    if not frames:\n",
        "        shutil.rmtree(tmp_dir, ignore_errors=True)\n",
        "        continue\n",
        "    num_frames = len(frames)\n",
        "\n",
        "    # 2) label aralıklarını oku -> action-union maskesi + sınıf id ataması\n",
        "    tlabs = load_tlabs(mats[base])  # 5 sınıf\n",
        "    occ = np.zeros(num_frames + 1, dtype=np.uint8)   # 1..N\n",
        "    labels = np.zeros(num_frames + 1, dtype=np.int16)\n",
        "\n",
        "    # action-union\n",
        "    for cls_idx in range(1, 6):\n",
        "        arr = tlabs[cls_idx-1]\n",
        "        if arr.size == 0: continue\n",
        "        for (st, en) in arr:\n",
        "            st = max(int(st), 1); en = min(int(en), num_frames)\n",
        "            if en >= st: occ[st:en+1] = 1\n",
        "\n",
        "    # sınıf id\n",
        "    for cls_idx in range(1, 6):\n",
        "        arr = tlabs[cls_idx-1]\n",
        "        if arr.size == 0: continue\n",
        "        for (st, en) in arr:\n",
        "            st = max(int(st), 1); en = min(int(en), num_frames)\n",
        "            if en >= st: labels[st:en+1] = cls_idx\n",
        "\n",
        "    # 3) kopyalama: action -> sınıfına; action dışı -> Background (seyreltilmiş)\n",
        "    kept_counts = {c:0 for c in CLASSES}\n",
        "    bg_stride_counter = 0\n",
        "\n",
        "    for i, f in enumerate(frames, start=1):\n",
        "        if (i-1) % FRAME_STEP != 0:\n",
        "            continue\n",
        "\n",
        "        if occ[i] == 1:\n",
        "            cls_id = int(labels[i])\n",
        "            cname = ID2CLASS.get(cls_id, \"Background\")\n",
        "            dst = os.path.join(DATASET_CLS, split, cname, f\"{stem}_f{i:06d}.jpg\")\n",
        "            safe_copy_to_drive(f, dst, verify=VERIFY_STRATEGY)\n",
        "            kept_counts[cname] += 1\n",
        "            global_counts[split][cname] += 1\n",
        "        else:\n",
        "            bg_stride_counter += 1\n",
        "            if (bg_stride_counter % BG_KEEP_EVERY) != 0:\n",
        "                continue\n",
        "            dst = os.path.join(DATASET_CLS, split, \"Background\", f\"{stem}_f{i:06d}.jpg\")\n",
        "            safe_copy_to_drive(f, dst, verify=VERIFY_STRATEGY)\n",
        "            kept_counts[\"Background\"] += 1\n",
        "            global_counts[split][\"Background\"] += 1\n",
        "\n",
        "    # 4) tmp temizle\n",
        "    shutil.rmtree(tmp_dir, ignore_errors=True)\n",
        "\n",
        "    # 5) manifest\n",
        "    manifest[\"videos\"].append({\"stem\": stem, \"split\": split, **kept_counts})\n",
        "    man_tmp = f\"/content/prep_manifest_{ts_run}.json\"\n",
        "    with open(man_tmp, \"w\") as f: json.dump(manifest, f, indent=2, ensure_ascii=False)\n",
        "    safe_copy_to_drive(man_tmp, os.path.join(LOG_DIR, f\"prep_manifest_{ts_run}.json\"), verify='size')\n",
        "    try: os.remove(man_tmp)\n",
        "    except: pass\n",
        "\n",
        "    print(f\"{stem} -> {split} | BG:{kept_counts['Background']} \"\n",
        "          f\"R:{kept_counts['Reach_To_Shelf']} Rt:{kept_counts['Retract_From_Shelf']} \"\n",
        "          f\"H:{kept_counts['Hand_In_Shelf']} IP:{kept_counts['Inspect_Product']} IS:{kept_counts['Inspect_Shelf']}\")\n",
        "\n",
        "# classes.json -> Drive (SAFE)\n",
        "classes_json_tmp = \"/content/classes.json\"\n",
        "with open(classes_json_tmp, \"w\") as fh:\n",
        "    json.dump(ID2CLASS, fh, indent=2, ensure_ascii=False)\n",
        "safe_copy_to_drive(classes_json_tmp, os.path.join(DATASET_CLS, \"classes.json\"), verify='size')\n",
        "try: os.remove(classes_json_tmp)\n",
        "except: pass\n",
        "\n",
        "# Özet sayım (Drive üzerindeki gerçek dosya sayısı)\n",
        "def count_split(root, sp):\n",
        "    return {c: len(glob(os.path.join(root, sp, c, '*.jpg'))) for c in CLASSES}\n",
        "\n",
        "print(\"\\nPREP (SAFE) tamam ✅  Drive dataset path:\", DATASET_CLS)\n",
        "for sp in [\"train\",\"val\",\"test\"]:\n",
        "    print(sp, count_split(DATASET_CLS, sp), \"|\", os.path.join(DATASET_CLS, sp))\n",
        "\n",
        "print(\"\\nGlobal counts (accumulated while writing):\")\n",
        "for sp in [\"train\",\"val\",\"test\"]:\n",
        "    print(sp, global_counts[sp])\n",
        "\n",
        "# (Opsiyonel) disk cache flush\n",
        "!sync\n"
      ],
      "metadata": {
        "colab": {
          "base_uri": "https://localhost:8080/"
        },
        "id": "CED2pT-mlUMN",
        "outputId": "85a4a08f-03f8-4b36-9b03-4a82cd75dee9"
      },
      "execution_count": 2,
      "outputs": [
        {
          "output_type": "stream",
          "name": "stdout",
          "text": [
            "\u001b[2K   \u001b[90m━━━━━━━━━━━━━━━━━━━━━━━━━━━━━━━━━━━━━━━━\u001b[0m \u001b[32m67.0/67.0 MB\u001b[0m \u001b[31m26.8 MB/s\u001b[0m eta \u001b[36m0:00:00\u001b[0m\n",
            "\u001b[?25hMounted at /content/drive\n",
            "Bulunan video: 106 | label: 106\n"
          ]
        },
        {
          "output_type": "stream",
          "name": "stderr",
          "text": [
            "PREP (SAFE): build dataset_cls with explicit BG -> Drive:   2%|▏         | 2/106 [00:14<12:31,  7.23s/it]"
          ]
        },
        {
          "output_type": "stream",
          "name": "stdout",
          "text": [
            "10_2_crop -> train | BG:40 R:119 Rt:145 H:174 IP:195 IS:192\n"
          ]
        },
        {
          "output_type": "stream",
          "name": "stderr",
          "text": [
            "\rPREP (SAFE): build dataset_cls with explicit BG -> Drive:   3%|▎         | 3/106 [00:31<19:10, 11.17s/it]"
          ]
        },
        {
          "output_type": "stream",
          "name": "stdout",
          "text": [
            "10_3_crop -> train | BG:70 R:158 Rt:114 H:50 IP:109 IS:200\n"
          ]
        },
        {
          "output_type": "stream",
          "name": "stderr",
          "text": [
            "\rPREP (SAFE): build dataset_cls with explicit BG -> Drive:   4%|▍         | 4/106 [00:42<18:57, 11.15s/it]"
          ]
        },
        {
          "output_type": "stream",
          "name": "stdout",
          "text": [
            "11_1_crop -> train | BG:51 R:131 Rt:118 H:38 IP:185 IS:157\n"
          ]
        },
        {
          "output_type": "stream",
          "name": "stderr",
          "text": [
            "\rPREP (SAFE): build dataset_cls with explicit BG -> Drive:   5%|▍         | 5/106 [01:02<23:55, 14.21s/it]"
          ]
        },
        {
          "output_type": "stream",
          "name": "stdout",
          "text": [
            "11_2_crop -> train | BG:43 R:175 Rt:167 H:161 IP:146 IS:285\n"
          ]
        },
        {
          "output_type": "stream",
          "name": "stderr",
          "text": [
            "\rPREP (SAFE): build dataset_cls with explicit BG -> Drive:   6%|▌         | 6/106 [01:18<24:56, 14.96s/it]"
          ]
        },
        {
          "output_type": "stream",
          "name": "stdout",
          "text": [
            "11_3_crop -> train | BG:24 R:88 Rt:168 H:154 IP:0 IS:394\n"
          ]
        },
        {
          "output_type": "stream",
          "name": "stderr",
          "text": [
            "\rPREP (SAFE): build dataset_cls with explicit BG -> Drive:   7%|▋         | 7/106 [01:32<23:54, 14.49s/it]"
          ]
        },
        {
          "output_type": "stream",
          "name": "stdout",
          "text": [
            "12_1_crop -> train | BG:44 R:130 Rt:159 H:37 IP:260 IS:92\n"
          ]
        },
        {
          "output_type": "stream",
          "name": "stderr",
          "text": [
            "\rPREP (SAFE): build dataset_cls with explicit BG -> Drive:   8%|▊         | 8/106 [01:56<28:57, 17.73s/it]"
          ]
        },
        {
          "output_type": "stream",
          "name": "stdout",
          "text": [
            "12_2_crop -> train | BG:48 R:198 Rt:217 H:53 IP:169 IS:126\n"
          ]
        },
        {
          "output_type": "stream",
          "name": "stderr",
          "text": [
            "\rPREP (SAFE): build dataset_cls with explicit BG -> Drive:   8%|▊         | 9/106 [02:16<29:40, 18.36s/it]"
          ]
        },
        {
          "output_type": "stream",
          "name": "stdout",
          "text": [
            "12_3_crop -> train | BG:40 R:124 Rt:138 H:77 IP:150 IS:242\n"
          ]
        },
        {
          "output_type": "stream",
          "name": "stderr",
          "text": [
            "\rPREP (SAFE): build dataset_cls with explicit BG -> Drive:   9%|▉         | 10/106 [02:37<30:43, 19.20s/it]"
          ]
        },
        {
          "output_type": "stream",
          "name": "stdout",
          "text": [
            "13_1_crop -> train | BG:71 R:61 Rt:83 H:19 IP:290 IS:118\n"
          ]
        },
        {
          "output_type": "stream",
          "name": "stderr",
          "text": [
            "\rPREP (SAFE): build dataset_cls with explicit BG -> Drive:  10%|█         | 11/106 [03:16<39:58, 25.24s/it]"
          ]
        },
        {
          "output_type": "stream",
          "name": "stdout",
          "text": [
            "13_2_crop -> train | BG:71 R:84 Rt:97 H:25 IP:512 IS:16\n"
          ]
        },
        {
          "output_type": "stream",
          "name": "stderr",
          "text": [
            "\rPREP (SAFE): build dataset_cls with explicit BG -> Drive:  11%|█▏        | 12/106 [03:45<40:56, 26.13s/it]"
          ]
        },
        {
          "output_type": "stream",
          "name": "stdout",
          "text": [
            "13_3_crop -> train | BG:37 R:173 Rt:203 H:0 IP:273 IS:147\n"
          ]
        },
        {
          "output_type": "stream",
          "name": "stderr",
          "text": [
            "\rPREP (SAFE): build dataset_cls with explicit BG -> Drive:  12%|█▏        | 13/106 [04:14<42:00, 27.10s/it]"
          ]
        },
        {
          "output_type": "stream",
          "name": "stdout",
          "text": [
            "14_1_crop -> train | BG:68 R:72 Rt:75 H:13 IP:159 IS:388\n"
          ]
        },
        {
          "output_type": "stream",
          "name": "stderr",
          "text": [
            "\rPREP (SAFE): build dataset_cls with explicit BG -> Drive:  13%|█▎        | 14/106 [04:54<47:44, 31.14s/it]"
          ]
        },
        {
          "output_type": "stream",
          "name": "stdout",
          "text": [
            "14_2_crop -> train | BG:29 R:50 Rt:74 H:31 IP:471 IS:250\n"
          ]
        },
        {
          "output_type": "stream",
          "name": "stderr",
          "text": [
            "\rPREP (SAFE): build dataset_cls with explicit BG -> Drive:  14%|█▍        | 15/106 [05:38<52:53, 34.88s/it]"
          ]
        },
        {
          "output_type": "stream",
          "name": "stdout",
          "text": [
            "14_3_crop -> train | BG:34 R:138 Rt:134 H:10 IP:178 IS:348\n"
          ]
        },
        {
          "output_type": "stream",
          "name": "stderr",
          "text": [
            "\rPREP (SAFE): build dataset_cls with explicit BG -> Drive:  15%|█▌        | 16/106 [06:44<1:06:20, 44.23s/it]"
          ]
        },
        {
          "output_type": "stream",
          "name": "stdout",
          "text": [
            "15_1_crop -> train | BG:19 R:90 Rt:67 H:18 IP:119 IS:564\n"
          ]
        },
        {
          "output_type": "stream",
          "name": "stderr",
          "text": [
            "\rPREP (SAFE): build dataset_cls with explicit BG -> Drive:  16%|█▌        | 17/106 [07:55<1:17:37, 52.33s/it]"
          ]
        },
        {
          "output_type": "stream",
          "name": "stdout",
          "text": [
            "15_2_crop -> train | BG:23 R:170 Rt:88 H:124 IP:459 IS:7\n"
          ]
        },
        {
          "output_type": "stream",
          "name": "stderr",
          "text": [
            "\rPREP (SAFE): build dataset_cls with explicit BG -> Drive:  17%|█▋        | 18/106 [08:49<1:17:38, 52.94s/it]"
          ]
        },
        {
          "output_type": "stream",
          "name": "stdout",
          "text": [
            "15_3_crop -> train | BG:31 R:202 Rt:250 H:84 IP:208 IS:51\n"
          ]
        },
        {
          "output_type": "stream",
          "name": "stderr",
          "text": [
            "\rPREP (SAFE): build dataset_cls with explicit BG -> Drive:  18%|█▊        | 19/106 [09:58<1:23:43, 57.75s/it]"
          ]
        },
        {
          "output_type": "stream",
          "name": "stdout",
          "text": [
            "16_1_crop -> train | BG:52 R:126 Rt:130 H:120 IP:160 IS:219\n"
          ]
        },
        {
          "output_type": "stream",
          "name": "stderr",
          "text": [
            "\rPREP (SAFE): build dataset_cls with explicit BG -> Drive:  19%|█▉        | 20/106 [11:06<1:26:50, 60.58s/it]"
          ]
        },
        {
          "output_type": "stream",
          "name": "stdout",
          "text": [
            "16_2_crop -> train | BG:29 R:140 Rt:81 H:59 IP:196 IS:426\n"
          ]
        },
        {
          "output_type": "stream",
          "name": "stderr",
          "text": [
            "\rPREP (SAFE): build dataset_cls with explicit BG -> Drive:  20%|█▉        | 21/106 [13:19<1:56:38, 82.34s/it]"
          ]
        },
        {
          "output_type": "stream",
          "name": "stdout",
          "text": [
            "16_3_crop -> train | BG:46 R:107 Rt:138 H:129 IP:400 IS:118\n"
          ]
        },
        {
          "output_type": "stream",
          "name": "stderr",
          "text": [
            "\rPREP (SAFE): build dataset_cls with explicit BG -> Drive:  21%|██        | 22/106 [15:06<2:05:57, 89.97s/it]"
          ]
        },
        {
          "output_type": "stream",
          "name": "stdout",
          "text": [
            "17_1_crop -> train | BG:28 R:123 Rt:106 H:54 IP:305 IS:229\n"
          ]
        },
        {
          "output_type": "stream",
          "name": "stderr",
          "text": [
            "\rPREP (SAFE): build dataset_cls with explicit BG -> Drive:  22%|██▏       | 23/106 [17:46<2:33:13, 110.76s/it]"
          ]
        },
        {
          "output_type": "stream",
          "name": "stdout",
          "text": [
            "17_2_crop -> train | BG:32 R:182 Rt:95 H:78 IP:410 IS:79\n"
          ]
        },
        {
          "output_type": "stream",
          "name": "stderr",
          "text": [
            "\rPREP (SAFE): build dataset_cls with explicit BG -> Drive:  23%|██▎       | 24/106 [19:41<2:33:19, 112.19s/it]"
          ]
        },
        {
          "output_type": "stream",
          "name": "stdout",
          "text": [
            "17_3_crop -> train | BG:34 R:228 Rt:265 H:101 IP:26 IS:302\n"
          ]
        },
        {
          "output_type": "stream",
          "name": "stderr",
          "text": [
            "\rPREP (SAFE): build dataset_cls with explicit BG -> Drive:  24%|██▎       | 25/106 [21:44<2:35:39, 115.31s/it]"
          ]
        },
        {
          "output_type": "stream",
          "name": "stdout",
          "text": [
            "18_1_crop -> train | BG:26 R:258 Rt:189 H:55 IP:236 IS:76\n"
          ]
        },
        {
          "output_type": "stream",
          "name": "stderr",
          "text": [
            "\rPREP (SAFE): build dataset_cls with explicit BG -> Drive:  25%|██▍       | 26/106 [24:14<2:47:34, 125.68s/it]"
          ]
        },
        {
          "output_type": "stream",
          "name": "stdout",
          "text": [
            "18_2_crop -> train | BG:19 R:182 Rt:163 H:86 IP:172 IS:231\n"
          ]
        },
        {
          "output_type": "stream",
          "name": "stderr",
          "text": [
            "\rPREP (SAFE): build dataset_cls with explicit BG -> Drive:  25%|██▌       | 27/106 [25:49<2:33:28, 116.56s/it]"
          ]
        },
        {
          "output_type": "stream",
          "name": "stdout",
          "text": [
            "18_3_crop -> train | BG:37 R:78 Rt:118 H:225 IP:114 IS:251\n"
          ]
        },
        {
          "output_type": "stream",
          "name": "stderr",
          "text": [
            "\rPREP (SAFE): build dataset_cls with explicit BG -> Drive:  26%|██▋       | 28/106 [29:52<3:20:51, 154.50s/it]"
          ]
        },
        {
          "output_type": "stream",
          "name": "stdout",
          "text": [
            "19_1_crop -> train | BG:32 R:124 Rt:126 H:115 IP:0 IS:420\n"
          ]
        },
        {
          "output_type": "stream",
          "name": "stderr",
          "text": [
            "\rPREP (SAFE): build dataset_cls with explicit BG -> Drive:  27%|██▋       | 29/106 [32:45<3:25:36, 160.21s/it]"
          ]
        },
        {
          "output_type": "stream",
          "name": "stdout",
          "text": [
            "19_2_crop -> train | BG:34 R:175 Rt:162 H:116 IP:28 IS:312\n"
          ]
        },
        {
          "output_type": "stream",
          "name": "stderr",
          "text": [
            "\rPREP (SAFE): build dataset_cls with explicit BG -> Drive:  28%|██▊       | 30/106 [35:50<3:31:59, 167.36s/it]"
          ]
        },
        {
          "output_type": "stream",
          "name": "stdout",
          "text": [
            "19_3_crop -> train | BG:25 R:262 Rt:276 H:113 IP:0 IS:178\n"
          ]
        },
        {
          "output_type": "stream",
          "name": "stderr",
          "text": [
            "\rPREP (SAFE): build dataset_cls with explicit BG -> Drive:  29%|██▉       | 31/106 [37:47<3:10:21, 152.29s/it]"
          ]
        },
        {
          "output_type": "stream",
          "name": "stdout",
          "text": [
            "1_1_crop -> train | BG:56 R:132 Rt:113 H:95 IP:208 IS:95\n"
          ]
        },
        {
          "output_type": "stream",
          "name": "stderr",
          "text": [
            "\rPREP (SAFE): build dataset_cls with explicit BG -> Drive:  30%|███       | 32/106 [39:59<3:00:25, 146.30s/it]"
          ]
        },
        {
          "output_type": "stream",
          "name": "stdout",
          "text": [
            "1_2_crop -> train | BG:22 R:140 Rt:125 H:158 IP:319 IS:94\n"
          ]
        },
        {
          "output_type": "stream",
          "name": "stderr",
          "text": [
            "\rPREP (SAFE): build dataset_cls with explicit BG -> Drive:  31%|███       | 33/106 [44:43<3:48:20, 187.68s/it]"
          ]
        },
        {
          "output_type": "stream",
          "name": "stdout",
          "text": [
            "1_3_crop -> train | BG:55 R:161 Rt:148 H:40 IP:460 IS:187\n"
          ]
        },
        {
          "output_type": "stream",
          "name": "stderr",
          "text": [
            "\rPREP (SAFE): build dataset_cls with explicit BG -> Drive:  32%|███▏      | 34/106 [46:37<3:18:39, 165.55s/it]"
          ]
        },
        {
          "output_type": "stream",
          "name": "stdout",
          "text": [
            "20_1_crop -> train | BG:41 R:132 Rt:132 H:56 IP:21 IS:440\n"
          ]
        },
        {
          "output_type": "stream",
          "name": "stderr",
          "text": [
            "\rPREP (SAFE): build dataset_cls with explicit BG -> Drive:  33%|███▎      | 35/106 [50:59<3:50:13, 194.56s/it]"
          ]
        },
        {
          "output_type": "stream",
          "name": "stdout",
          "text": [
            "20_2_crop -> train | BG:45 R:117 Rt:97 H:174 IP:319 IS:306\n"
          ]
        },
        {
          "output_type": "stream",
          "name": "stderr",
          "text": [
            "\rPREP (SAFE): build dataset_cls with explicit BG -> Drive:  34%|███▍      | 36/106 [56:59<4:44:52, 244.17s/it]"
          ]
        },
        {
          "output_type": "stream",
          "name": "stdout",
          "text": [
            "20_3_crop -> train | BG:40 R:184 Rt:193 H:27 IP:290 IS:279\n"
          ]
        },
        {
          "output_type": "stream",
          "name": "stderr",
          "text": [
            "\rPREP (SAFE): build dataset_cls with explicit BG -> Drive:  35%|███▍      | 37/106 [58:04<3:38:50, 190.30s/it]"
          ]
        },
        {
          "output_type": "stream",
          "name": "stdout",
          "text": [
            "21_1_crop -> val | BG:67 R:95 Rt:139 H:0 IP:197 IS:213\n"
          ]
        },
        {
          "output_type": "stream",
          "name": "stderr",
          "text": [
            "\rPREP (SAFE): build dataset_cls with explicit BG -> Drive:  36%|███▌      | 38/106 [59:12<2:54:13, 153.73s/it]"
          ]
        },
        {
          "output_type": "stream",
          "name": "stdout",
          "text": [
            "21_2_crop -> val | BG:33 R:112 Rt:143 H:131 IP:28 IS:414\n"
          ]
        },
        {
          "output_type": "stream",
          "name": "stderr",
          "text": [
            "\rPREP (SAFE): build dataset_cls with explicit BG -> Drive:  37%|███▋      | 39/106 [1:00:11<2:19:47, 125.19s/it]"
          ]
        },
        {
          "output_type": "stream",
          "name": "stdout",
          "text": [
            "21_3_crop -> val | BG:38 R:109 Rt:135 H:5 IP:263 IS:347\n"
          ]
        },
        {
          "output_type": "stream",
          "name": "stderr",
          "text": [
            "\rPREP (SAFE): build dataset_cls with explicit BG -> Drive:  38%|███▊      | 40/106 [1:00:32<1:43:12, 93.82s/it] "
          ]
        },
        {
          "output_type": "stream",
          "name": "stdout",
          "text": [
            "22_1_crop -> val | BG:46 R:79 Rt:94 H:14 IP:295 IS:337\n"
          ]
        },
        {
          "output_type": "stream",
          "name": "stderr",
          "text": [
            "\rPREP (SAFE): build dataset_cls with explicit BG -> Drive:  39%|███▊      | 41/106 [1:00:53<1:18:06, 72.10s/it]"
          ]
        },
        {
          "output_type": "stream",
          "name": "stdout",
          "text": [
            "22_2_crop -> val | BG:23 R:59 Rt:117 H:0 IP:449 IS:305\n"
          ]
        },
        {
          "output_type": "stream",
          "name": "stderr",
          "text": [
            "\rPREP (SAFE): build dataset_cls with explicit BG -> Drive:  40%|███▉      | 42/106 [1:01:15<1:00:52, 57.07s/it]"
          ]
        },
        {
          "output_type": "stream",
          "name": "stdout",
          "text": [
            "22_3_crop -> val | BG:41 R:104 Rt:149 H:93 IP:169 IS:286\n"
          ]
        },
        {
          "output_type": "stream",
          "name": "stderr",
          "text": [
            "\rPREP (SAFE): build dataset_cls with explicit BG -> Drive:  41%|████      | 43/106 [1:01:36<48:29, 46.18s/it]  "
          ]
        },
        {
          "output_type": "stream",
          "name": "stdout",
          "text": [
            "23_1_crop -> val | BG:49 R:99 Rt:119 H:102 IP:285 IS:143\n"
          ]
        },
        {
          "output_type": "stream",
          "name": "stderr",
          "text": [
            "\rPREP (SAFE): build dataset_cls with explicit BG -> Drive:  42%|████▏     | 44/106 [1:02:02<41:27, 40.12s/it]"
          ]
        },
        {
          "output_type": "stream",
          "name": "stdout",
          "text": [
            "23_2_crop -> val | BG:67 R:141 Rt:151 H:21 IP:383 IS:218\n"
          ]
        },
        {
          "output_type": "stream",
          "name": "stderr",
          "text": [
            "\rPREP (SAFE): build dataset_cls with explicit BG -> Drive:  42%|████▏     | 45/106 [1:02:43<41:15, 40.58s/it]"
          ]
        },
        {
          "output_type": "stream",
          "name": "stdout",
          "text": [
            "23_3_crop -> val | BG:60 R:182 Rt:179 H:142 IP:90 IS:586\n"
          ]
        },
        {
          "output_type": "stream",
          "name": "stderr",
          "text": [
            "\rPREP (SAFE): build dataset_cls with explicit BG -> Drive:  43%|████▎     | 46/106 [1:03:18<38:55, 38.92s/it]"
          ]
        },
        {
          "output_type": "stream",
          "name": "stdout",
          "text": [
            "24_1_crop -> val | BG:38 R:81 Rt:85 H:60 IP:271 IS:329\n"
          ]
        },
        {
          "output_type": "stream",
          "name": "stderr",
          "text": [
            "\rPREP (SAFE): build dataset_cls with explicit BG -> Drive:  44%|████▍     | 47/106 [1:04:13<43:01, 43.76s/it]"
          ]
        },
        {
          "output_type": "stream",
          "name": "stdout",
          "text": [
            "24_2_crop -> val | BG:22 R:223 Rt:153 H:56 IP:325 IS:284\n"
          ]
        },
        {
          "output_type": "stream",
          "name": "stderr",
          "text": [
            "\rPREP (SAFE): build dataset_cls with explicit BG -> Drive:  45%|████▌     | 48/106 [1:05:08<45:19, 46.89s/it]"
          ]
        },
        {
          "output_type": "stream",
          "name": "stdout",
          "text": [
            "24_3_crop -> val | BG:24 R:153 Rt:165 H:31 IP:158 IS:570\n"
          ]
        },
        {
          "output_type": "stream",
          "name": "stderr",
          "text": [
            "\rPREP (SAFE): build dataset_cls with explicit BG -> Drive:  46%|████▌     | 49/106 [1:05:54<44:15, 46.60s/it]"
          ]
        },
        {
          "output_type": "stream",
          "name": "stdout",
          "text": [
            "25_1_crop -> val | BG:49 R:105 Rt:112 H:46 IP:164 IS:363\n"
          ]
        },
        {
          "output_type": "stream",
          "name": "stderr",
          "text": [
            "\rPREP (SAFE): build dataset_cls with explicit BG -> Drive:  47%|████▋     | 50/106 [1:06:37<42:29, 45.53s/it]"
          ]
        },
        {
          "output_type": "stream",
          "name": "stdout",
          "text": [
            "25_2_crop -> val | BG:41 R:151 Rt:143 H:98 IP:302 IS:171\n"
          ]
        },
        {
          "output_type": "stream",
          "name": "stderr",
          "text": [
            "\rPREP (SAFE): build dataset_cls with explicit BG -> Drive:  48%|████▊     | 51/106 [1:07:50<49:28, 53.97s/it]"
          ]
        },
        {
          "output_type": "stream",
          "name": "stdout",
          "text": [
            "25_3_crop -> val | BG:47 R:114 Rt:177 H:112 IP:61 IS:270\n"
          ]
        },
        {
          "output_type": "stream",
          "name": "stderr",
          "text": [
            "\rPREP (SAFE): build dataset_cls with explicit BG -> Drive:  49%|████▉     | 52/106 [1:08:43<48:18, 53.68s/it]"
          ]
        },
        {
          "output_type": "stream",
          "name": "stdout",
          "text": [
            "26_1_crop -> val | BG:59 R:101 Rt:109 H:90 IP:201 IS:267\n"
          ]
        },
        {
          "output_type": "stream",
          "name": "stderr",
          "text": [
            "\rPREP (SAFE): build dataset_cls with explicit BG -> Drive:  50%|█████     | 53/106 [1:10:02<54:09, 61.31s/it]"
          ]
        },
        {
          "output_type": "stream",
          "name": "stdout",
          "text": [
            "26_2_crop -> val | BG:21 R:207 Rt:171 H:73 IP:444 IS:169\n"
          ]
        },
        {
          "output_type": "stream",
          "name": "stderr",
          "text": [
            "\rPREP (SAFE): build dataset_cls with explicit BG -> Drive:  51%|█████     | 54/106 [1:10:53<50:20, 58.09s/it]"
          ]
        },
        {
          "output_type": "stream",
          "name": "stdout",
          "text": [
            "26_3_crop -> val | BG:38 R:121 Rt:119 H:44 IP:149 IS:358\n"
          ]
        },
        {
          "output_type": "stream",
          "name": "stderr",
          "text": [
            "\rPREP (SAFE): build dataset_cls with explicit BG -> Drive:  52%|█████▏    | 55/106 [1:11:06<37:57, 44.66s/it]"
          ]
        },
        {
          "output_type": "stream",
          "name": "stdout",
          "text": [
            "27_1_crop -> test | BG:50 R:98 Rt:94 H:0 IP:320 IS:202\n"
          ]
        },
        {
          "output_type": "stream",
          "name": "stderr",
          "text": [
            "\rPREP (SAFE): build dataset_cls with explicit BG -> Drive:  53%|█████▎    | 56/106 [1:11:23<30:07, 36.16s/it]"
          ]
        },
        {
          "output_type": "stream",
          "name": "stdout",
          "text": [
            "27_2_crop -> test | BG:27 R:137 Rt:129 H:13 IP:268 IS:311\n"
          ]
        },
        {
          "output_type": "stream",
          "name": "stderr",
          "text": [
            "\rPREP (SAFE): build dataset_cls with explicit BG -> Drive:  54%|█████▍    | 57/106 [1:11:36<23:52, 29.24s/it]"
          ]
        },
        {
          "output_type": "stream",
          "name": "stdout",
          "text": [
            "27_3_crop -> test | BG:56 R:118 Rt:105 H:138 IP:138 IS:178\n"
          ]
        },
        {
          "output_type": "stream",
          "name": "stderr",
          "text": [
            "\rPREP (SAFE): build dataset_cls with explicit BG -> Drive:  55%|█████▍    | 58/106 [1:11:51<19:57, 24.94s/it]"
          ]
        },
        {
          "output_type": "stream",
          "name": "stdout",
          "text": [
            "28_1_crop -> test | BG:32 R:83 Rt:110 H:105 IP:199 IS:314\n"
          ]
        },
        {
          "output_type": "stream",
          "name": "stderr",
          "text": [
            "\rPREP (SAFE): build dataset_cls with explicit BG -> Drive:  56%|█████▌    | 59/106 [1:12:09<17:54, 22.87s/it]"
          ]
        },
        {
          "output_type": "stream",
          "name": "stdout",
          "text": [
            "28_2_crop -> test | BG:48 R:109 Rt:146 H:86 IP:194 IS:270\n"
          ]
        },
        {
          "output_type": "stream",
          "name": "stderr",
          "text": [
            "\rPREP (SAFE): build dataset_cls with explicit BG -> Drive:  57%|█████▋    | 60/106 [1:12:24<15:42, 20.48s/it]"
          ]
        },
        {
          "output_type": "stream",
          "name": "stdout",
          "text": [
            "28_3_crop -> test | BG:40 R:128 Rt:131 H:149 IP:112 IS:229\n"
          ]
        },
        {
          "output_type": "stream",
          "name": "stderr",
          "text": [
            "\rPREP (SAFE): build dataset_cls with explicit BG -> Drive:  58%|█████▊    | 61/106 [1:12:46<15:54, 21.20s/it]"
          ]
        },
        {
          "output_type": "stream",
          "name": "stdout",
          "text": [
            "29_1_crop -> test | BG:51 R:67 Rt:76 H:122 IP:0 IS:544\n"
          ]
        },
        {
          "output_type": "stream",
          "name": "stderr",
          "text": [
            "\rPREP (SAFE): build dataset_cls with explicit BG -> Drive:  58%|█████▊    | 62/106 [1:13:10<16:10, 22.06s/it]"
          ]
        },
        {
          "output_type": "stream",
          "name": "stdout",
          "text": [
            "29_2_crop -> test | BG:47 R:115 Rt:114 H:126 IP:363 IS:138\n"
          ]
        },
        {
          "output_type": "stream",
          "name": "stderr",
          "text": [
            "\rPREP (SAFE): build dataset_cls with explicit BG -> Drive:  59%|█████▉    | 63/106 [1:13:40<17:29, 24.40s/it]"
          ]
        },
        {
          "output_type": "stream",
          "name": "stdout",
          "text": [
            "29_3_crop -> test | BG:69 R:89 Rt:63 H:656 IP:44 IS:169\n"
          ]
        },
        {
          "output_type": "stream",
          "name": "stderr",
          "text": [
            "\rPREP (SAFE): build dataset_cls with explicit BG -> Drive:  60%|██████    | 64/106 [1:16:05<42:18, 60.43s/it]"
          ]
        },
        {
          "output_type": "stream",
          "name": "stdout",
          "text": [
            "2_1_crop -> train | BG:40 R:183 Rt:172 H:170 IP:22 IS:162\n"
          ]
        },
        {
          "output_type": "stream",
          "name": "stderr",
          "text": [
            "\rPREP (SAFE): build dataset_cls with explicit BG -> Drive:  61%|██████▏   | 65/106 [1:20:03<1:17:38, 113.63s/it]"
          ]
        },
        {
          "output_type": "stream",
          "name": "stdout",
          "text": [
            "2_2_crop -> train | BG:35 R:140 Rt:121 H:163 IP:0 IS:308\n"
          ]
        },
        {
          "output_type": "stream",
          "name": "stderr",
          "text": [
            "\rPREP (SAFE): build dataset_cls with explicit BG -> Drive:  62%|██████▏   | 66/106 [1:23:23<1:33:02, 139.57s/it]"
          ]
        },
        {
          "output_type": "stream",
          "name": "stdout",
          "text": [
            "2_3_crop -> train | BG:19 R:192 Rt:252 H:216 IP:0 IS:122\n"
          ]
        },
        {
          "output_type": "stream",
          "name": "stderr",
          "text": [
            "\rPREP (SAFE): build dataset_cls with explicit BG -> Drive:  63%|██████▎   | 67/106 [1:24:39<1:18:25, 120.64s/it]"
          ]
        },
        {
          "output_type": "stream",
          "name": "stdout",
          "text": [
            "30_1_crop -> test | BG:36 R:148 Rt:153 H:158 IP:343 IS:69\n"
          ]
        },
        {
          "output_type": "stream",
          "name": "stderr",
          "text": [
            "\rPREP (SAFE): build dataset_cls with explicit BG -> Drive:  64%|██████▍   | 68/106 [1:25:27<1:02:32, 98.75s/it] "
          ]
        },
        {
          "output_type": "stream",
          "name": "stdout",
          "text": [
            "30_2_crop -> test | BG:36 R:85 Rt:64 H:25 IP:572 IS:72\n"
          ]
        },
        {
          "output_type": "stream",
          "name": "stderr",
          "text": [
            "\rPREP (SAFE): build dataset_cls with explicit BG -> Drive:  65%|██████▌   | 69/106 [1:25:59<48:35, 78.81s/it]  "
          ]
        },
        {
          "output_type": "stream",
          "name": "stdout",
          "text": [
            "30_3_crop -> test | BG:32 R:189 Rt:159 H:117 IP:383 IS:67\n"
          ]
        },
        {
          "output_type": "stream",
          "name": "stderr",
          "text": [
            "\rPREP (SAFE): build dataset_cls with explicit BG -> Drive:  66%|██████▌   | 70/106 [1:26:31<38:54, 64.84s/it]"
          ]
        },
        {
          "output_type": "stream",
          "name": "stdout",
          "text": [
            "31_1_crop -> test | BG:29 R:146 Rt:149 H:66 IP:177 IS:311\n"
          ]
        },
        {
          "output_type": "stream",
          "name": "stderr",
          "text": [
            "\rPREP (SAFE): build dataset_cls with explicit BG -> Drive:  67%|██████▋   | 71/106 [1:27:09<33:07, 56.80s/it]"
          ]
        },
        {
          "output_type": "stream",
          "name": "stdout",
          "text": [
            "31_2_crop -> test | BG:27 R:196 Rt:162 H:102 IP:127 IS:267\n"
          ]
        },
        {
          "output_type": "stream",
          "name": "stderr",
          "text": [
            "\rPREP (SAFE): build dataset_cls with explicit BG -> Drive:  68%|██████▊   | 72/106 [1:27:47<28:59, 51.17s/it]"
          ]
        },
        {
          "output_type": "stream",
          "name": "stdout",
          "text": [
            "31_3_crop -> test | BG:39 R:53 Rt:74 H:58 IP:245 IS:276\n"
          ]
        },
        {
          "output_type": "stream",
          "name": "stderr",
          "text": [
            "\rPREP (SAFE): build dataset_cls with explicit BG -> Drive:  69%|██████▉   | 73/106 [1:28:26<26:02, 47.34s/it]"
          ]
        },
        {
          "output_type": "stream",
          "name": "stdout",
          "text": [
            "32_1_crop -> test | BG:32 R:163 Rt:149 H:262 IP:11 IS:269\n"
          ]
        },
        {
          "output_type": "stream",
          "name": "stderr",
          "text": [
            "\rPREP (SAFE): build dataset_cls with explicit BG -> Drive:  70%|██████▉   | 74/106 [1:29:06<24:07, 45.24s/it]"
          ]
        },
        {
          "output_type": "stream",
          "name": "stdout",
          "text": [
            "32_2_crop -> test | BG:17 R:138 Rt:114 H:118 IP:252 IS:241\n"
          ]
        },
        {
          "output_type": "stream",
          "name": "stderr",
          "text": [
            "\rPREP (SAFE): build dataset_cls with explicit BG -> Drive:  71%|███████   | 75/106 [1:30:06<25:40, 49.68s/it]"
          ]
        },
        {
          "output_type": "stream",
          "name": "stdout",
          "text": [
            "32_3_crop -> test | BG:21 R:145 Rt:183 H:245 IP:0 IS:248\n"
          ]
        },
        {
          "output_type": "stream",
          "name": "stderr",
          "text": [
            "\rPREP (SAFE): build dataset_cls with explicit BG -> Drive:  72%|███████▏  | 76/106 [1:31:33<30:25, 60.86s/it]"
          ]
        },
        {
          "output_type": "stream",
          "name": "stdout",
          "text": [
            "33_1_crop -> test | BG:34 R:143 Rt:171 H:86 IP:74 IS:283\n"
          ]
        },
        {
          "output_type": "stream",
          "name": "stderr",
          "text": [
            "\rPREP (SAFE): build dataset_cls with explicit BG -> Drive:  73%|███████▎  | 77/106 [1:32:24<27:56, 57.82s/it]"
          ]
        },
        {
          "output_type": "stream",
          "name": "stdout",
          "text": [
            "34_1_crop -> test | BG:27 R:156 Rt:133 H:28 IP:113 IS:402\n"
          ]
        },
        {
          "output_type": "stream",
          "name": "stderr",
          "text": [
            "\rPREP (SAFE): build dataset_cls with explicit BG -> Drive:  74%|███████▎  | 78/106 [1:33:34<28:39, 61.40s/it]"
          ]
        },
        {
          "output_type": "stream",
          "name": "stdout",
          "text": [
            "35_1_crop -> test | BG:64 R:122 Rt:116 H:54 IP:73 IS:218\n"
          ]
        },
        {
          "output_type": "stream",
          "name": "stderr",
          "text": [
            "\rPREP (SAFE): build dataset_cls with explicit BG -> Drive:  75%|███████▍  | 79/106 [1:34:39<28:08, 62.55s/it]"
          ]
        },
        {
          "output_type": "stream",
          "name": "stdout",
          "text": [
            "36_1_crop -> test | BG:47 R:135 Rt:199 H:51 IP:0 IS:278\n"
          ]
        },
        {
          "output_type": "stream",
          "name": "stderr",
          "text": [
            "\rPREP (SAFE): build dataset_cls with explicit BG -> Drive:  75%|███████▌  | 80/106 [1:35:55<28:49, 66.52s/it]"
          ]
        },
        {
          "output_type": "stream",
          "name": "stdout",
          "text": [
            "37_1_crop -> test | BG:21 R:166 Rt:215 H:137 IP:312 IS:49\n"
          ]
        },
        {
          "output_type": "stream",
          "name": "stderr",
          "text": [
            "\rPREP (SAFE): build dataset_cls with explicit BG -> Drive:  76%|███████▋  | 81/106 [1:37:43<32:56, 79.07s/it]"
          ]
        },
        {
          "output_type": "stream",
          "name": "stdout",
          "text": [
            "38_1_crop -> test | BG:44 R:129 Rt:132 H:81 IP:0 IS:375\n"
          ]
        },
        {
          "output_type": "stream",
          "name": "stderr",
          "text": [
            "\rPREP (SAFE): build dataset_cls with explicit BG -> Drive:  77%|███████▋  | 82/106 [1:40:36<42:51, 107.16s/it]"
          ]
        },
        {
          "output_type": "stream",
          "name": "stdout",
          "text": [
            "39_1_crop -> test | BG:46 R:170 Rt:201 H:32 IP:23 IS:293\n"
          ]
        },
        {
          "output_type": "stream",
          "name": "stderr",
          "text": [
            "\rPREP (SAFE): build dataset_cls with explicit BG -> Drive:  78%|███████▊  | 83/106 [1:44:12<53:39, 139.99s/it]"
          ]
        },
        {
          "output_type": "stream",
          "name": "stdout",
          "text": [
            "3_1_crop -> train | BG:65 R:105 Rt:114 H:37 IP:152 IS:121\n"
          ]
        },
        {
          "output_type": "stream",
          "name": "stderr",
          "text": [
            "\rPREP (SAFE): build dataset_cls with explicit BG -> Drive:  79%|███████▉  | 84/106 [1:48:08<1:01:52, 168.74s/it]"
          ]
        },
        {
          "output_type": "stream",
          "name": "stdout",
          "text": [
            "3_2_crop -> train | BG:45 R:185 Rt:118 H:79 IP:139 IS:144\n"
          ]
        },
        {
          "output_type": "stream",
          "name": "stderr",
          "text": [
            "\rPREP (SAFE): build dataset_cls with explicit BG -> Drive:  80%|████████  | 85/106 [1:52:12<1:06:56, 191.28s/it]"
          ]
        },
        {
          "output_type": "stream",
          "name": "stdout",
          "text": [
            "3_3_crop -> train | BG:32 R:133 Rt:134 H:64 IP:141 IS:210\n"
          ]
        },
        {
          "output_type": "stream",
          "name": "stderr",
          "text": [
            "\rPREP (SAFE): build dataset_cls with explicit BG -> Drive:  81%|████████  | 86/106 [1:53:22<51:38, 154.93s/it]  "
          ]
        },
        {
          "output_type": "stream",
          "name": "stdout",
          "text": [
            "40_1_crop -> test | BG:35 R:109 Rt:114 H:186 IP:0 IS:381\n"
          ]
        },
        {
          "output_type": "stream",
          "name": "stderr",
          "text": [
            "\rPREP (SAFE): build dataset_cls with explicit BG -> Drive:  82%|████████▏ | 87/106 [1:55:25<46:01, 145.34s/it]"
          ]
        },
        {
          "output_type": "stream",
          "name": "stdout",
          "text": [
            "41_1_crop -> test | BG:18 R:207 Rt:204 H:122 IP:258 IS:190\n"
          ]
        },
        {
          "output_type": "stream",
          "name": "stderr",
          "text": [
            "\rPREP (SAFE): build dataset_cls with explicit BG -> Drive:  83%|████████▎ | 88/106 [1:58:36<47:43, 159.11s/it]"
          ]
        },
        {
          "output_type": "stream",
          "name": "stdout",
          "text": [
            "41_2_crop -> test | BG:29 R:169 Rt:157 H:77 IP:45 IS:303\n"
          ]
        },
        {
          "output_type": "stream",
          "name": "stderr",
          "text": [
            "\rPREP (SAFE): build dataset_cls with explicit BG -> Drive:  84%|████████▍ | 89/106 [2:03:04<54:17, 191.60s/it]"
          ]
        },
        {
          "output_type": "stream",
          "name": "stdout",
          "text": [
            "4_1_crop -> train | BG:48 R:110 Rt:114 H:19 IP:211 IS:250\n"
          ]
        },
        {
          "output_type": "stream",
          "name": "stderr",
          "text": [
            "\rPREP (SAFE): build dataset_cls with explicit BG -> Drive:  85%|████████▍ | 90/106 [2:15:03<1:33:17, 349.86s/it]"
          ]
        },
        {
          "output_type": "stream",
          "name": "stdout",
          "text": [
            "4_2_crop -> train | BG:21 R:103 Rt:117 H:25 IP:64 IS:530\n"
          ]
        },
        {
          "output_type": "stream",
          "name": "stderr",
          "text": [
            "\rPREP (SAFE): build dataset_cls with explicit BG -> Drive:  86%|████████▌ | 91/106 [2:22:23<1:34:15, 377.01s/it]"
          ]
        },
        {
          "output_type": "stream",
          "name": "stdout",
          "text": [
            "4_3_crop -> train | BG:29 R:110 Rt:131 H:43 IP:0 IS:481\n"
          ]
        },
        {
          "output_type": "stream",
          "name": "stderr",
          "text": [
            "\rPREP (SAFE): build dataset_cls with explicit BG -> Drive:  87%|████████▋ | 92/106 [2:31:23<1:39:20, 425.74s/it]"
          ]
        },
        {
          "output_type": "stream",
          "name": "stdout",
          "text": [
            "5_1_crop -> train | BG:55 R:89 Rt:69 H:23 IP:13 IS:405\n"
          ]
        },
        {
          "output_type": "stream",
          "name": "stderr",
          "text": [
            "\rPREP (SAFE): build dataset_cls with explicit BG -> Drive:  88%|████████▊ | 93/106 [2:36:57<1:26:17, 398.27s/it]"
          ]
        },
        {
          "output_type": "stream",
          "name": "stdout",
          "text": [
            "5_2_crop -> train | BG:28 R:157 Rt:104 H:57 IP:190 IS:312\n"
          ]
        },
        {
          "output_type": "stream",
          "name": "stderr",
          "text": [
            "\rPREP (SAFE): build dataset_cls with explicit BG -> Drive:  89%|████████▊ | 94/106 [2:46:27<1:29:59, 449.92s/it]"
          ]
        },
        {
          "output_type": "stream",
          "name": "stdout",
          "text": [
            "5_3_crop -> train | BG:28 R:132 Rt:122 H:0 IP:499 IS:136\n"
          ]
        },
        {
          "output_type": "stream",
          "name": "stderr",
          "text": [
            "\rPREP (SAFE): build dataset_cls with explicit BG -> Drive:  90%|████████▉ | 95/106 [2:48:54<1:05:47, 358.83s/it]"
          ]
        },
        {
          "output_type": "stream",
          "name": "stdout",
          "text": [
            "6_1_crop -> train | BG:62 R:143 Rt:157 H:48 IP:116 IS:114\n"
          ]
        },
        {
          "output_type": "stream",
          "name": "stderr",
          "text": [
            "\rPREP (SAFE): build dataset_cls with explicit BG -> Drive:  91%|█████████ | 96/106 [2:58:51<1:11:44, 430.47s/it]"
          ]
        },
        {
          "output_type": "stream",
          "name": "stdout",
          "text": [
            "6_2_crop -> train | BG:36 R:96 Rt:170 H:0 IP:0 IS:494\n"
          ]
        },
        {
          "output_type": "stream",
          "name": "stderr",
          "text": [
            "\rPREP (SAFE): build dataset_cls with explicit BG -> Drive:  92%|█████████▏| 97/106 [3:04:36<1:00:44, 404.89s/it]"
          ]
        },
        {
          "output_type": "stream",
          "name": "stdout",
          "text": [
            "6_3_crop -> train | BG:33 R:168 Rt:299 H:0 IP:154 IS:147\n"
          ]
        },
        {
          "output_type": "stream",
          "name": "stderr",
          "text": [
            "\rPREP (SAFE): build dataset_cls with explicit BG -> Drive:  92%|█████████▏| 98/106 [3:10:25<51:44, 388.04s/it]  "
          ]
        },
        {
          "output_type": "stream",
          "name": "stdout",
          "text": [
            "7_1_crop -> train | BG:34 R:158 Rt:128 H:149 IP:150 IS:169\n"
          ]
        },
        {
          "output_type": "stream",
          "name": "stderr",
          "text": [
            "\rPREP (SAFE): build dataset_cls with explicit BG -> Drive:  93%|█████████▎| 99/106 [3:16:34<44:35, 382.18s/it]"
          ]
        },
        {
          "output_type": "stream",
          "name": "stdout",
          "text": [
            "7_2_crop -> train | BG:16 R:289 Rt:240 H:13 IP:169 IS:171\n"
          ]
        },
        {
          "output_type": "stream",
          "name": "stderr",
          "text": [
            "\rPREP (SAFE): build dataset_cls with explicit BG -> Drive:  94%|█████████▍| 100/106 [3:22:11<36:53, 368.84s/it]"
          ]
        },
        {
          "output_type": "stream",
          "name": "stdout",
          "text": [
            "7_3_crop -> train | BG:46 R:174 Rt:218 H:59 IP:49 IS:199\n"
          ]
        },
        {
          "output_type": "stream",
          "name": "stderr",
          "text": [
            "\rPREP (SAFE): build dataset_cls with explicit BG -> Drive:  95%|█████████▌| 101/106 [3:25:25<26:21, 316.27s/it]"
          ]
        },
        {
          "output_type": "stream",
          "name": "stdout",
          "text": [
            "8_1_crop -> train | BG:57 R:79 Rt:86 H:31 IP:121 IS:248\n"
          ]
        },
        {
          "output_type": "stream",
          "name": "stderr",
          "text": [
            "\rPREP (SAFE): build dataset_cls with explicit BG -> Drive:  96%|█████████▌| 102/106 [3:31:15<21:45, 326.46s/it]"
          ]
        },
        {
          "output_type": "stream",
          "name": "stdout",
          "text": [
            "8_2_crop -> train | BG:51 R:182 Rt:160 H:7 IP:406 IS:151\n"
          ]
        },
        {
          "output_type": "stream",
          "name": "stderr",
          "text": [
            "\rPREP (SAFE): build dataset_cls with explicit BG -> Drive:  97%|█████████▋| 103/106 [3:36:08<15:48, 316.24s/it]"
          ]
        },
        {
          "output_type": "stream",
          "name": "stdout",
          "text": [
            "8_3_crop -> train | BG:39 R:151 Rt:160 H:197 IP:160 IS:163\n"
          ]
        },
        {
          "output_type": "stream",
          "name": "stderr",
          "text": [
            "\rPREP (SAFE): build dataset_cls with explicit BG -> Drive:  98%|█████████▊| 104/106 [3:41:04<10:20, 310.17s/it]"
          ]
        },
        {
          "output_type": "stream",
          "name": "stdout",
          "text": [
            "9_1_crop -> train | BG:30 R:167 Rt:156 H:45 IP:62 IS:322\n"
          ]
        },
        {
          "output_type": "stream",
          "name": "stderr",
          "text": [
            "\rPREP (SAFE): build dataset_cls with explicit BG -> Drive:  99%|█████████▉| 105/106 [3:49:25<06:07, 367.56s/it]"
          ]
        },
        {
          "output_type": "stream",
          "name": "stdout",
          "text": [
            "9_2_crop -> train | BG:30 R:160 Rt:151 H:96 IP:50 IS:325\n"
          ]
        },
        {
          "output_type": "stream",
          "name": "stderr",
          "text": [
            "PREP (SAFE): build dataset_cls with explicit BG -> Drive: 100%|██████████| 106/106 [3:53:29<00:00, 132.16s/it]"
          ]
        },
        {
          "output_type": "stream",
          "name": "stdout",
          "text": [
            "9_3_crop -> train | BG:57 R:78 Rt:130 H:48 IP:180 IS:212\n",
            "\n",
            "PREP (SAFE) tamam ✅  Drive dataset path: /content/drive/MyDrive/TURKCELL-CodeFem3/MERL_WORK_DRIVE/dataset_cls\n"
          ]
        },
        {
          "output_type": "stream",
          "name": "stderr",
          "text": [
            "\n"
          ]
        },
        {
          "output_type": "stream",
          "name": "stdout",
          "text": [
            "train {'Background': 2379, 'Reach_To_Shelf': 8626, 'Retract_From_Shelf': 8736, 'Hand_In_Shelf': 4505, 'Inspect_Product': 10954, 'Inspect_Shelf': 13920} | /content/drive/MyDrive/TURKCELL-CodeFem3/MERL_WORK_DRIVE/dataset_cls/train\n",
            "val {'Background': 763, 'Reach_To_Shelf': 2236, 'Retract_From_Shelf': 2460, 'Hand_In_Shelf': 1118, 'Inspect_Product': 4234, 'Inspect_Shelf': 5630} | /content/drive/MyDrive/TURKCELL-CodeFem3/MERL_WORK_DRIVE/dataset_cls/val\n",
            "test {'Background': 1054, 'Reach_To_Shelf': 3713, 'Retract_From_Shelf': 3817, 'Hand_In_Shelf': 3400, 'Inspect_Product': 4646, 'Inspect_Shelf': 6947} | /content/drive/MyDrive/TURKCELL-CodeFem3/MERL_WORK_DRIVE/dataset_cls/test\n",
            "\n",
            "Global counts (accumulated while writing):\n",
            "train {'Background': 2332, 'Reach_To_Shelf': 8498, 'Retract_From_Shelf': 8577, 'Hand_In_Shelf': 4458, 'Inspect_Product': 10595, 'Inspect_Shelf': 13715}\n",
            "val {'Background': 763, 'Reach_To_Shelf': 2236, 'Retract_From_Shelf': 2460, 'Hand_In_Shelf': 1118, 'Inspect_Product': 4234, 'Inspect_Shelf': 5630}\n",
            "test {'Background': 1054, 'Reach_To_Shelf': 3713, 'Retract_From_Shelf': 3817, 'Hand_In_Shelf': 3400, 'Inspect_Product': 4646, 'Inspect_Shelf': 6947}\n"
          ]
        }
      ]
    },
    {
      "cell_type": "markdown",
      "source": [
        "**CREATE THE DATASET IN COLAB LOCAL**"
      ],
      "metadata": {
        "id": "S84eQn6lUzg9"
      }
    },
    {
      "cell_type": "code",
      "source": [
        "# ============================\n",
        "# A) PREP (LOCAL) — Background = action aralıkları dışı\n",
        "# ============================\n",
        "!pip -q install scipy opencv-python tqdm\n",
        "\n",
        "import os, re, json, subprocess, shutil, time\n",
        "from glob import glob\n",
        "from pathlib import Path\n",
        "import numpy as np\n",
        "import scipy.io as sio\n",
        "from tqdm import tqdm\n",
        "import cv2\n",
        "\n",
        "# --- Drive (kaynakları okumak için) ---\n",
        "from google.colab import drive\n",
        "try:\n",
        "    drive.mount('/content/drive')\n",
        "except Exception:\n",
        "    drive.mount('/content/drive', force_remount=True)\n",
        "\n",
        "# --- KAYNAK (Drive) ---\n",
        "DRIVE_ROOT = \"/content/drive/MyDrive\"\n",
        "BASE_DIR   = f\"{DRIVE_ROOT}/TURKCELL-CodeFem3\"\n",
        "VIDEOS_DIR = f\"{BASE_DIR}/Videos_MERL_Shopping_Dataset\"\n",
        "LABELS_DIR = f\"{BASE_DIR}/Labels_MERL_Shopping_Dataset\"\n",
        "\n",
        "# --- ÇIKTI (LOCAL /content) ---\n",
        "WORK_LOCAL   = \"/content/MERL_WORK_LOCAL\"\n",
        "DATASET_CLS  = f\"{WORK_LOCAL}/dataset_cls\"     # YOLO-CLS klasör yapısı (LOCAL)\n",
        "TMP_FRAMES   = \"/content/tmp_frames\"           # temp frames (LOCAL)\n",
        "LOG_DIR      = f\"{WORK_LOCAL}/prep_logs\"\n",
        "os.makedirs(WORK_LOCAL,  exist_ok=True)\n",
        "os.makedirs(DATASET_CLS, exist_ok=True)\n",
        "os.makedirs(TMP_FRAMES,  exist_ok=True)\n",
        "os.makedirs(LOG_DIR,     exist_ok=True)\n",
        "\n",
        "# --- Parametreler ---\n",
        "FPS = 15\n",
        "FRAME_STEP = 2               # kare seyrelt (tüm karelere değil her 2 karede 1)\n",
        "BG_KEEP_EVERY = 6            # her 6 BG karesinden 1'ini yaz\n",
        "BACKFILL_BG_IF_EMPTY = False # artık BG'yi gerçekten ürettiğimiz için gereksiz\n",
        "\n",
        "ID2CLASS = {\n",
        "    0: \"Background\",\n",
        "    1: \"Reach_To_Shelf\",\n",
        "    2: \"Retract_From_Shelf\",\n",
        "    3: \"Hand_In_Shelf\",\n",
        "    4: \"Inspect_Product\",\n",
        "    5: \"Inspect_Shelf\",\n",
        "}\n",
        "CLASSES = list(ID2CLASS.values())\n",
        "\n",
        "# Sabit subject split (senin kullandığın dağılım)\n",
        "TRAIN_SUBJ = set(range(1, 21))\n",
        "VAL_SUBJ   = set(range(21, 27))\n",
        "TEST_SUBJ  = set(range(27, 42))\n",
        "\n",
        "# klasörleri hazırla\n",
        "for split in [\"train\",\"val\",\"test\"]:\n",
        "    for cname in CLASSES:\n",
        "        os.makedirs(os.path.join(DATASET_CLS, split, cname), exist_ok=True)\n",
        "\n",
        "def ensure_ffmpeg():\n",
        "    try:\n",
        "        subprocess.run([\"ffmpeg\",\"-version\"], check=True, stdout=subprocess.DEVNULL, stderr=subprocess.DEVNULL)\n",
        "    except Exception:\n",
        "        subprocess.run([\"apt\",\"-y\",\"install\",\"ffmpeg\"], check=True, stdout=subprocess.DEVNULL, stderr=subprocess.DEVNULL)\n",
        "\n",
        "def _coerce_kx2(a):\n",
        "    a = np.array(a)\n",
        "    if a.size == 0: return np.empty((0,2), dtype=int)\n",
        "    a = np.atleast_2d(a)\n",
        "    if a.shape[1] != 2 and a.shape[0] == 2: a = a.T\n",
        "    if a.shape[1] != 2: raise ValueError(f\"Expected Kx2, got {a.shape}\")\n",
        "    return a.astype(int)\n",
        "\n",
        "def load_tlabs(mat_path):\n",
        "    d = sio.loadmat(mat_path, squeeze_me=True, struct_as_record=False)\n",
        "    if 'tlabs' not in d: raise KeyError(f\"'tlabs' not in {mat_path}\")\n",
        "    tl = d['tlabs']\n",
        "    # 5 sınıf bekliyoruz: reach, retract, hand-in-shelf, inspect-product, inspect-shelf\n",
        "    if np.ndim(tl) == 1 and len(tl) == 5:\n",
        "        cells = [tl[i] for i in range(5)]\n",
        "    elif isinstance(tl, np.ndarray) and tl.shape == (1,5):\n",
        "        cells = [tl[0,i] for i in range(5)]\n",
        "    elif isinstance(tl, np.ndarray) and tl.shape == (5,1):\n",
        "        cells = [tl[i,0] for i in range(5)]\n",
        "    else:\n",
        "        tl_flat = np.ravel(tl)\n",
        "        assert tl_flat.size >= 5\n",
        "        cells = [tl_flat[i] for i in range(5)]\n",
        "    return [_coerce_kx2(c) for c in cells]\n",
        "\n",
        "def parse_subject_session(stem):\n",
        "    # \"12_3_crop\" -> (12,3)\n",
        "    m = re.match(r\"^(\\d+)_([0-9]+)_crop$\", stem)\n",
        "    return (int(m.group(1)), int(m.group(2))) if m else (None, None)\n",
        "\n",
        "def split_of_subject(subj):\n",
        "    if subj in TRAIN_SUBJ: return \"train\"\n",
        "    if subj in VAL_SUBJ:   return \"val\"\n",
        "    if subj in TEST_SUBJ:  return \"test\"\n",
        "    return \"train\"\n",
        "\n",
        "def extract_frames_temp(video_path, tmp_out_dir):\n",
        "    os.makedirs(tmp_out_dir, exist_ok=True)\n",
        "    cmd = [\"ffmpeg\",\"-y\",\"-i\",video_path,\"-vf\",f\"fps={FPS}\",\"-q:v\",\"2\",\n",
        "           os.path.join(tmp_out_dir,\"frame_%06d.jpg\")]\n",
        "    subprocess.run(cmd, stdout=subprocess.DEVNULL, stderr=subprocess.DEVNULL, check=True)\n",
        "\n",
        "def dataset_has_video(root, stem):\n",
        "    \"\"\"Bu videodan (stem) daha önce kopyalanmış jpg var mı?\"\"\"\n",
        "    pat = f\"{stem}_f*.jpg\"\n",
        "    for split in [\"train\",\"val\",\"test\"]:\n",
        "        for cname in CLASSES:\n",
        "            if glob(os.path.join(root, split, cname, pat)):\n",
        "                return True\n",
        "    return False\n",
        "\n",
        "# LOCAL safe copy (atomic replace)\n",
        "def safe_copy_local(src, dst):\n",
        "    os.makedirs(os.path.dirname(dst), exist_ok=True)\n",
        "    tmp = dst + \".tmp\"\n",
        "    shutil.copy2(src, tmp)\n",
        "    with open(tmp, \"rb\") as f:\n",
        "        os.fsync(f.fileno())\n",
        "    os.replace(tmp, dst)\n",
        "\n",
        "# --- Çalıştır ---\n",
        "assert os.path.isdir(VIDEOS_DIR), f\"Video klasörü yok: {VIDEOS_DIR}\"\n",
        "assert os.path.isdir(LABELS_DIR), f\"Label klasörü yok: {LABELS_DIR}\"\n",
        "ensure_ffmpeg()\n",
        "\n",
        "mp4s = sorted(glob(os.path.join(VIDEOS_DIR, \"*.mp4\")))\n",
        "mats = {Path(p).stem.replace(\"_label\",\"\"): p for p in glob(os.path.join(LABELS_DIR, \"*_label.mat\"))}\n",
        "print(f\"Found videos: {len(mp4s)} | labels: {len(mats)}\")\n",
        "\n",
        "global_counts = {sp:{c:0 for c in CLASSES} for sp in [\"train\",\"val\",\"test\"]}\n",
        "\n",
        "for vpath in tqdm(mp4s, desc=\"PREP (LOCAL): build dataset_cls with explicit BG\"):\n",
        "    stem = Path(vpath).stem         # \"12_3_crop\"\n",
        "    base = stem.replace(\"_crop\",\"\") # \"12_3\"\n",
        "    if base not in mats:\n",
        "        continue\n",
        "    if dataset_has_video(DATASET_CLS, stem):\n",
        "        continue\n",
        "\n",
        "    subj,_ = parse_subject_session(stem)\n",
        "    split = split_of_subject(subj)\n",
        "\n",
        "    # 1) temp'e 15 FPS kare çıkar\n",
        "    tmp_dir = os.path.join(TMP_FRAMES, stem)\n",
        "    if os.path.exists(tmp_dir):\n",
        "        shutil.rmtree(tmp_dir, ignore_errors=True)\n",
        "    extract_frames_temp(vpath, tmp_dir)\n",
        "\n",
        "    frames = sorted(glob(os.path.join(tmp_dir, \"frame_*.jpg\")))\n",
        "    if not frames:\n",
        "        shutil.rmtree(tmp_dir, ignore_errors=True)\n",
        "        continue\n",
        "    num_frames = len(frames)  # 1-indeks ile hizalayacağız\n",
        "\n",
        "    # 2) label aralıklarını oku -> action-union maskesi\n",
        "    tlabs = load_tlabs(mats[base])  # 5 sınıf\n",
        "    occ = np.zeros(num_frames + 1, dtype=np.uint8)  # 1..num_frames kullanılacak\n",
        "    labels = np.zeros(num_frames + 1, dtype=np.int16)  # 0=BG, 1..5 sınıf\n",
        "\n",
        "    # önce hangi frame'lerin ACTION olduğunu işaretle (union)\n",
        "    for cls_idx in range(1, 6):\n",
        "        arr = tlabs[cls_idx-1]\n",
        "        if arr.size == 0:\n",
        "            continue\n",
        "        for (st, en) in arr:\n",
        "            st = max(int(st), 1)\n",
        "            en = min(int(en), num_frames)\n",
        "            if en >= st:\n",
        "                occ[st:en+1] = 1\n",
        "\n",
        "    # sonra sınıf ataması (çakışma varsa son gördüğümüz kazanır; istersen önceliklendirebiliriz)\n",
        "    for cls_idx in range(1, 6):\n",
        "        arr = tlabs[cls_idx-1]\n",
        "        if arr.size == 0:\n",
        "            continue\n",
        "        for (st, en) in arr:\n",
        "            st = max(int(st), 1)\n",
        "            en = min(int(en), num_frames)\n",
        "            if en >= st:\n",
        "                labels[st:en+1] = cls_idx\n",
        "\n",
        "    # 3) kareleri kopyala:\n",
        "    #    - Action kareler: FRAME_STEP filtresinden geçerse kopyala\n",
        "    #    - BG kareler   : Action-union dışında kalanlar; FRAME_STEP filtresi + BG_KEEP_EVERY ile seyrelt\n",
        "    kept_counts = {c:0 for c in CLASSES}\n",
        "    bg_stride_counter = 0  # video içi BG seyrelti sayacı\n",
        "\n",
        "    for i, f in enumerate(frames, start=1):\n",
        "        # subsample\n",
        "        if (i-1) % FRAME_STEP != 0:\n",
        "            continue\n",
        "\n",
        "        if occ[i] == 1:\n",
        "            # action (0 dışı)\n",
        "            cls_id = int(labels[i])\n",
        "            cname = ID2CLASS[cls_id] if cls_id in ID2CLASS else \"Background\"  # güvenlik amaçlı\n",
        "            target_dir = os.path.join(DATASET_CLS, split, cname)\n",
        "            dst = os.path.join(target_dir, f\"{stem}_f{i:06d}.jpg\")\n",
        "            safe_copy_local(f, dst)\n",
        "            kept_counts[cname] += 1\n",
        "            global_counts[split][cname] += 1\n",
        "        else:\n",
        "            # Background: action aralıkları dışında\n",
        "            bg_stride_counter += 1\n",
        "            if (bg_stride_counter % BG_KEEP_EVERY) != 0:\n",
        "                continue  # seyreltiyoruz\n",
        "            target_dir = os.path.join(DATASET_CLS, split, \"Background\")\n",
        "            dst = os.path.join(target_dir, f\"{stem}_f{i:06d}.jpg\")\n",
        "            safe_copy_local(f, dst)\n",
        "            kept_counts[\"Background\"] += 1\n",
        "            global_counts[split][\"Background\"] += 1\n",
        "\n",
        "    # 4) temp temizle\n",
        "    shutil.rmtree(tmp_dir, ignore_errors=True)\n",
        "\n",
        "    # kısa özet\n",
        "    kc = kept_counts\n",
        "    print(f\"{stem} -> {split} | BG:{kc['Background']} \"\n",
        "          f\"R:{kc['Reach_To_Shelf']} Rt:{kc['Retract_From_Shelf']} \"\n",
        "          f\"H:{kc['Hand_In_Shelf']} IP:{kc['Inspect_Product']} IS:{kc['Inspect_Shelf']}\")\n",
        "\n",
        "# classes.json (LOCAL)\n",
        "with open(os.path.join(DATASET_CLS, \"classes.json\"), \"w\") as fh:\n",
        "    json.dump(ID2CLASS, fh, indent=2, ensure_ascii=False)\n",
        "\n",
        "# Genel özet\n",
        "def count_split(root, sp):\n",
        "    return {c: len(glob(os.path.join(root, sp, c, '*.jpg'))) for c in CLASSES}\n",
        "\n",
        "print(\"\\nPREP (LOCAL) done ✅  Path:\", DATASET_CLS)\n",
        "for sp in [\"train\",\"val\",\"test\"]:\n",
        "    print(sp, count_split(DATASET_CLS, sp), \"|\", os.path.join(DATASET_CLS, sp))\n",
        "\n",
        "print(\"\\nGlobal counts (accumulated while writing):\")\n",
        "for sp in [\"train\",\"val\",\"test\"]:\n",
        "    print(sp, global_counts[sp])\n",
        "\n",
        "!sync\n"
      ],
      "metadata": {
        "colab": {
          "base_uri": "https://localhost:8080/"
        },
        "id": "8QpBqtCXUtkH",
        "outputId": "10b3f74c-fb91-4390-c881-00415a0ddb65"
      },
      "execution_count": null,
      "outputs": [
        {
          "output_type": "stream",
          "name": "stdout",
          "text": [
            "Mounted at /content/drive\n",
            "Found videos: 106 | labels: 106\n"
          ]
        },
        {
          "output_type": "stream",
          "name": "stderr",
          "text": [
            "PREP (LOCAL): build dataset_cls with explicit BG:   1%|          | 1/106 [00:12<21:26, 12.25s/it]"
          ]
        },
        {
          "output_type": "stream",
          "name": "stdout",
          "text": [
            "10_1_crop -> train | BG:36 R:87 Rt:127 H:15 IP:294 IS:205\n"
          ]
        },
        {
          "output_type": "stream",
          "name": "stderr",
          "text": [
            "\rPREP (LOCAL): build dataset_cls with explicit BG:   2%|▏         | 2/106 [00:26<22:51, 13.18s/it]"
          ]
        },
        {
          "output_type": "stream",
          "name": "stdout",
          "text": [
            "10_2_crop -> train | BG:40 R:119 Rt:145 H:174 IP:195 IS:192\n"
          ]
        },
        {
          "output_type": "stream",
          "name": "stderr",
          "text": [
            "\rPREP (LOCAL): build dataset_cls with explicit BG:   3%|▎         | 3/106 [00:39<22:38, 13.19s/it]"
          ]
        },
        {
          "output_type": "stream",
          "name": "stdout",
          "text": [
            "10_3_crop -> train | BG:70 R:158 Rt:114 H:50 IP:109 IS:200\n"
          ]
        },
        {
          "output_type": "stream",
          "name": "stderr",
          "text": [
            "\rPREP (LOCAL): build dataset_cls with explicit BG:   4%|▍         | 4/106 [00:51<21:40, 12.75s/it]"
          ]
        },
        {
          "output_type": "stream",
          "name": "stdout",
          "text": [
            "11_1_crop -> train | BG:51 R:131 Rt:118 H:38 IP:185 IS:157\n"
          ]
        },
        {
          "output_type": "stream",
          "name": "stderr",
          "text": [
            "\rPREP (LOCAL): build dataset_cls with explicit BG:   5%|▍         | 5/106 [01:05<22:29, 13.36s/it]"
          ]
        },
        {
          "output_type": "stream",
          "name": "stdout",
          "text": [
            "11_2_crop -> train | BG:43 R:175 Rt:167 H:161 IP:146 IS:285\n"
          ]
        },
        {
          "output_type": "stream",
          "name": "stderr",
          "text": [
            "\rPREP (LOCAL): build dataset_cls with explicit BG:   6%|▌         | 6/106 [01:19<22:39, 13.60s/it]"
          ]
        },
        {
          "output_type": "stream",
          "name": "stdout",
          "text": [
            "11_3_crop -> train | BG:24 R:88 Rt:168 H:154 IP:0 IS:394\n"
          ]
        },
        {
          "output_type": "stream",
          "name": "stderr",
          "text": [
            "\rPREP (LOCAL): build dataset_cls with explicit BG:   7%|▋         | 7/106 [01:32<21:42, 13.16s/it]"
          ]
        },
        {
          "output_type": "stream",
          "name": "stdout",
          "text": [
            "12_1_crop -> train | BG:44 R:130 Rt:159 H:37 IP:260 IS:92\n"
          ]
        },
        {
          "output_type": "stream",
          "name": "stderr",
          "text": [
            "\rPREP (LOCAL): build dataset_cls with explicit BG:   8%|▊         | 8/106 [01:45<21:43, 13.30s/it]"
          ]
        },
        {
          "output_type": "stream",
          "name": "stdout",
          "text": [
            "12_2_crop -> train | BG:48 R:198 Rt:217 H:53 IP:169 IS:126\n"
          ]
        },
        {
          "output_type": "stream",
          "name": "stderr",
          "text": [
            "\rPREP (LOCAL): build dataset_cls with explicit BG:   8%|▊         | 9/106 [01:57<20:45, 12.84s/it]"
          ]
        },
        {
          "output_type": "stream",
          "name": "stdout",
          "text": [
            "12_3_crop -> train | BG:40 R:124 Rt:138 H:77 IP:150 IS:242\n"
          ]
        },
        {
          "output_type": "stream",
          "name": "stderr",
          "text": [
            "\rPREP (LOCAL): build dataset_cls with explicit BG:   9%|▉         | 10/106 [02:10<20:35, 12.87s/it]"
          ]
        },
        {
          "output_type": "stream",
          "name": "stdout",
          "text": [
            "13_1_crop -> train | BG:71 R:61 Rt:83 H:19 IP:290 IS:118\n"
          ]
        },
        {
          "output_type": "stream",
          "name": "stderr",
          "text": [
            "\rPREP (LOCAL): build dataset_cls with explicit BG:  10%|█         | 11/106 [02:25<21:15, 13.43s/it]"
          ]
        },
        {
          "output_type": "stream",
          "name": "stdout",
          "text": [
            "13_2_crop -> train | BG:71 R:84 Rt:97 H:25 IP:512 IS:16\n"
          ]
        },
        {
          "output_type": "stream",
          "name": "stderr",
          "text": [
            "\rPREP (LOCAL): build dataset_cls with explicit BG:  11%|█▏        | 12/106 [02:38<20:58, 13.39s/it]"
          ]
        },
        {
          "output_type": "stream",
          "name": "stdout",
          "text": [
            "13_3_crop -> train | BG:37 R:173 Rt:203 H:0 IP:273 IS:147\n"
          ]
        },
        {
          "output_type": "stream",
          "name": "stderr",
          "text": [
            "\rPREP (LOCAL): build dataset_cls with explicit BG:  12%|█▏        | 13/106 [02:52<20:55, 13.50s/it]"
          ]
        },
        {
          "output_type": "stream",
          "name": "stdout",
          "text": [
            "14_1_crop -> train | BG:68 R:72 Rt:75 H:13 IP:159 IS:388\n"
          ]
        },
        {
          "output_type": "stream",
          "name": "stderr",
          "text": [
            "\rPREP (LOCAL): build dataset_cls with explicit BG:  13%|█▎        | 14/106 [03:05<20:48, 13.57s/it]"
          ]
        },
        {
          "output_type": "stream",
          "name": "stdout",
          "text": [
            "14_2_crop -> train | BG:29 R:50 Rt:74 H:31 IP:471 IS:250\n"
          ]
        },
        {
          "output_type": "stream",
          "name": "stderr",
          "text": [
            "\rPREP (LOCAL): build dataset_cls with explicit BG:  14%|█▍        | 15/106 [03:19<20:44, 13.68s/it]"
          ]
        },
        {
          "output_type": "stream",
          "name": "stdout",
          "text": [
            "14_3_crop -> train | BG:34 R:138 Rt:134 H:10 IP:178 IS:348\n"
          ]
        },
        {
          "output_type": "stream",
          "name": "stderr",
          "text": [
            "\rPREP (LOCAL): build dataset_cls with explicit BG:  15%|█▌        | 16/106 [03:33<20:18, 13.54s/it]"
          ]
        },
        {
          "output_type": "stream",
          "name": "stdout",
          "text": [
            "15_1_crop -> train | BG:19 R:90 Rt:67 H:18 IP:119 IS:564\n"
          ]
        },
        {
          "output_type": "stream",
          "name": "stderr",
          "text": [
            "\rPREP (LOCAL): build dataset_cls with explicit BG:  16%|█▌        | 17/106 [03:46<19:52, 13.40s/it]"
          ]
        },
        {
          "output_type": "stream",
          "name": "stdout",
          "text": [
            "15_2_crop -> train | BG:23 R:170 Rt:88 H:124 IP:459 IS:7\n"
          ]
        },
        {
          "output_type": "stream",
          "name": "stderr",
          "text": [
            "\rPREP (LOCAL): build dataset_cls with explicit BG:  17%|█▋        | 18/106 [03:59<19:37, 13.39s/it]"
          ]
        },
        {
          "output_type": "stream",
          "name": "stdout",
          "text": [
            "15_3_crop -> train | BG:31 R:202 Rt:250 H:84 IP:208 IS:51\n"
          ]
        },
        {
          "output_type": "stream",
          "name": "stderr",
          "text": [
            "\rPREP (LOCAL): build dataset_cls with explicit BG:  18%|█▊        | 19/106 [04:13<19:46, 13.64s/it]"
          ]
        },
        {
          "output_type": "stream",
          "name": "stdout",
          "text": [
            "16_1_crop -> train | BG:52 R:126 Rt:130 H:120 IP:160 IS:219\n"
          ]
        },
        {
          "output_type": "stream",
          "name": "stderr",
          "text": [
            "\rPREP (LOCAL): build dataset_cls with explicit BG:  19%|█▉        | 20/106 [04:27<19:42, 13.75s/it]"
          ]
        },
        {
          "output_type": "stream",
          "name": "stdout",
          "text": [
            "16_2_crop -> train | BG:29 R:140 Rt:81 H:59 IP:196 IS:426\n"
          ]
        },
        {
          "output_type": "stream",
          "name": "stderr",
          "text": [
            "\rPREP (LOCAL): build dataset_cls with explicit BG:  20%|█▉        | 21/106 [04:42<20:01, 14.13s/it]"
          ]
        },
        {
          "output_type": "stream",
          "name": "stdout",
          "text": [
            "16_3_crop -> train | BG:46 R:107 Rt:138 H:129 IP:400 IS:118\n"
          ]
        },
        {
          "output_type": "stream",
          "name": "stderr",
          "text": [
            "\rPREP (LOCAL): build dataset_cls with explicit BG:  21%|██        | 22/106 [04:55<19:17, 13.78s/it]"
          ]
        },
        {
          "output_type": "stream",
          "name": "stdout",
          "text": [
            "17_1_crop -> train | BG:28 R:123 Rt:106 H:54 IP:305 IS:229\n"
          ]
        },
        {
          "output_type": "stream",
          "name": "stderr",
          "text": [
            "\rPREP (LOCAL): build dataset_cls with explicit BG:  22%|██▏       | 23/106 [05:09<18:55, 13.68s/it]"
          ]
        },
        {
          "output_type": "stream",
          "name": "stdout",
          "text": [
            "17_2_crop -> train | BG:32 R:182 Rt:95 H:78 IP:410 IS:79\n"
          ]
        },
        {
          "output_type": "stream",
          "name": "stderr",
          "text": [
            "\rPREP (LOCAL): build dataset_cls with explicit BG:  23%|██▎       | 24/106 [05:23<18:59, 13.90s/it]"
          ]
        },
        {
          "output_type": "stream",
          "name": "stdout",
          "text": [
            "17_3_crop -> train | BG:34 R:228 Rt:265 H:101 IP:26 IS:302\n"
          ]
        },
        {
          "output_type": "stream",
          "name": "stderr",
          "text": [
            "\rPREP (LOCAL): build dataset_cls with explicit BG:  24%|██▎       | 25/106 [05:36<18:30, 13.71s/it]"
          ]
        },
        {
          "output_type": "stream",
          "name": "stdout",
          "text": [
            "18_1_crop -> train | BG:26 R:258 Rt:189 H:55 IP:236 IS:76\n"
          ]
        },
        {
          "output_type": "stream",
          "name": "stderr",
          "text": [
            "\rPREP (LOCAL): build dataset_cls with explicit BG:  25%|██▍       | 26/106 [05:50<18:06, 13.58s/it]"
          ]
        },
        {
          "output_type": "stream",
          "name": "stdout",
          "text": [
            "18_2_crop -> train | BG:19 R:182 Rt:163 H:86 IP:172 IS:231\n"
          ]
        },
        {
          "output_type": "stream",
          "name": "stderr",
          "text": [
            "\rPREP (LOCAL): build dataset_cls with explicit BG:  25%|██▌       | 27/106 [06:03<17:52, 13.58s/it]"
          ]
        },
        {
          "output_type": "stream",
          "name": "stdout",
          "text": [
            "18_3_crop -> train | BG:37 R:78 Rt:118 H:225 IP:114 IS:251\n"
          ]
        },
        {
          "output_type": "stream",
          "name": "stderr",
          "text": [
            "\rPREP (LOCAL): build dataset_cls with explicit BG:  26%|██▋       | 28/106 [06:16<17:08, 13.18s/it]"
          ]
        },
        {
          "output_type": "stream",
          "name": "stdout",
          "text": [
            "19_1_crop -> train | BG:32 R:124 Rt:126 H:115 IP:0 IS:420\n"
          ]
        },
        {
          "output_type": "stream",
          "name": "stderr",
          "text": [
            "\rPREP (LOCAL): build dataset_cls with explicit BG:  27%|██▋       | 29/106 [06:30<17:34, 13.70s/it]"
          ]
        },
        {
          "output_type": "stream",
          "name": "stdout",
          "text": [
            "19_2_crop -> train | BG:34 R:175 Rt:162 H:116 IP:28 IS:312\n"
          ]
        },
        {
          "output_type": "stream",
          "name": "stderr",
          "text": [
            "\rPREP (LOCAL): build dataset_cls with explicit BG:  28%|██▊       | 30/106 [06:44<17:08, 13.53s/it]"
          ]
        },
        {
          "output_type": "stream",
          "name": "stdout",
          "text": [
            "19_3_crop -> train | BG:25 R:262 Rt:276 H:113 IP:0 IS:178\n"
          ]
        },
        {
          "output_type": "stream",
          "name": "stderr",
          "text": [
            "\rPREP (LOCAL): build dataset_cls with explicit BG:  29%|██▉       | 31/106 [06:56<16:30, 13.21s/it]"
          ]
        },
        {
          "output_type": "stream",
          "name": "stdout",
          "text": [
            "1_1_crop -> train | BG:56 R:132 Rt:113 H:95 IP:208 IS:95\n"
          ]
        },
        {
          "output_type": "stream",
          "name": "stderr",
          "text": [
            "\rPREP (LOCAL): build dataset_cls with explicit BG:  30%|███       | 32/106 [07:09<16:12, 13.14s/it]"
          ]
        },
        {
          "output_type": "stream",
          "name": "stdout",
          "text": [
            "1_2_crop -> train | BG:22 R:140 Rt:125 H:158 IP:319 IS:94\n"
          ]
        },
        {
          "output_type": "stream",
          "name": "stderr",
          "text": [
            "\rPREP (LOCAL): build dataset_cls with explicit BG:  31%|███       | 33/106 [07:25<17:05, 14.05s/it]"
          ]
        },
        {
          "output_type": "stream",
          "name": "stdout",
          "text": [
            "1_3_crop -> train | BG:55 R:161 Rt:148 H:40 IP:460 IS:187\n"
          ]
        },
        {
          "output_type": "stream",
          "name": "stderr",
          "text": [
            "\rPREP (LOCAL): build dataset_cls with explicit BG:  32%|███▏      | 34/106 [07:38<16:18, 13.59s/it]"
          ]
        },
        {
          "output_type": "stream",
          "name": "stdout",
          "text": [
            "20_1_crop -> train | BG:41 R:132 Rt:132 H:56 IP:21 IS:440\n"
          ]
        },
        {
          "output_type": "stream",
          "name": "stderr",
          "text": [
            "\rPREP (LOCAL): build dataset_cls with explicit BG:  33%|███▎      | 35/106 [07:53<16:51, 14.25s/it]"
          ]
        },
        {
          "output_type": "stream",
          "name": "stdout",
          "text": [
            "20_2_crop -> train | BG:45 R:117 Rt:97 H:174 IP:319 IS:306\n"
          ]
        },
        {
          "output_type": "stream",
          "name": "stderr",
          "text": [
            "\rPREP (LOCAL): build dataset_cls with explicit BG:  34%|███▍      | 36/106 [08:09<16:55, 14.51s/it]"
          ]
        },
        {
          "output_type": "stream",
          "name": "stdout",
          "text": [
            "20_3_crop -> train | BG:40 R:184 Rt:193 H:27 IP:290 IS:279\n"
          ]
        },
        {
          "output_type": "stream",
          "name": "stderr",
          "text": [
            "\rPREP (LOCAL): build dataset_cls with explicit BG:  35%|███▍      | 37/106 [08:22<16:15, 14.14s/it]"
          ]
        },
        {
          "output_type": "stream",
          "name": "stdout",
          "text": [
            "21_1_crop -> val | BG:67 R:95 Rt:139 H:0 IP:197 IS:213\n"
          ]
        },
        {
          "output_type": "stream",
          "name": "stderr",
          "text": [
            "\rPREP (LOCAL): build dataset_cls with explicit BG:  36%|███▌      | 38/106 [08:35<15:38, 13.80s/it]"
          ]
        },
        {
          "output_type": "stream",
          "name": "stdout",
          "text": [
            "21_2_crop -> val | BG:33 R:112 Rt:143 H:131 IP:28 IS:414\n"
          ]
        },
        {
          "output_type": "stream",
          "name": "stderr",
          "text": [
            "\rPREP (LOCAL): build dataset_cls with explicit BG:  37%|███▋      | 39/106 [08:49<15:35, 13.96s/it]"
          ]
        },
        {
          "output_type": "stream",
          "name": "stdout",
          "text": [
            "21_3_crop -> val | BG:38 R:109 Rt:135 H:5 IP:263 IS:347\n"
          ]
        },
        {
          "output_type": "stream",
          "name": "stderr",
          "text": [
            "\rPREP (LOCAL): build dataset_cls with explicit BG:  38%|███▊      | 40/106 [09:03<15:18, 13.92s/it]"
          ]
        },
        {
          "output_type": "stream",
          "name": "stdout",
          "text": [
            "22_1_crop -> val | BG:46 R:79 Rt:94 H:14 IP:295 IS:337\n"
          ]
        },
        {
          "output_type": "stream",
          "name": "stderr",
          "text": [
            "\rPREP (LOCAL): build dataset_cls with explicit BG:  39%|███▊      | 41/106 [09:17<15:02, 13.88s/it]"
          ]
        },
        {
          "output_type": "stream",
          "name": "stdout",
          "text": [
            "22_2_crop -> val | BG:23 R:59 Rt:117 H:0 IP:449 IS:305\n"
          ]
        },
        {
          "output_type": "stream",
          "name": "stderr",
          "text": [
            "\rPREP (LOCAL): build dataset_cls with explicit BG:  40%|███▉      | 42/106 [09:30<14:37, 13.72s/it]"
          ]
        },
        {
          "output_type": "stream",
          "name": "stdout",
          "text": [
            "22_3_crop -> val | BG:41 R:104 Rt:149 H:93 IP:169 IS:286\n"
          ]
        },
        {
          "output_type": "stream",
          "name": "stderr",
          "text": [
            "\rPREP (LOCAL): build dataset_cls with explicit BG:  41%|████      | 43/106 [09:43<14:14, 13.57s/it]"
          ]
        },
        {
          "output_type": "stream",
          "name": "stdout",
          "text": [
            "23_1_crop -> val | BG:49 R:99 Rt:119 H:102 IP:285 IS:143\n"
          ]
        },
        {
          "output_type": "stream",
          "name": "stderr",
          "text": [
            "\rPREP (LOCAL): build dataset_cls with explicit BG:  42%|████▏     | 44/106 [09:59<14:46, 14.30s/it]"
          ]
        },
        {
          "output_type": "stream",
          "name": "stdout",
          "text": [
            "23_2_crop -> val | BG:67 R:141 Rt:151 H:21 IP:383 IS:218\n"
          ]
        },
        {
          "output_type": "stream",
          "name": "stderr",
          "text": [
            "\rPREP (LOCAL): build dataset_cls with explicit BG:  42%|████▏     | 45/106 [10:18<15:43, 15.46s/it]"
          ]
        },
        {
          "output_type": "stream",
          "name": "stdout",
          "text": [
            "23_3_crop -> val | BG:60 R:182 Rt:179 H:142 IP:90 IS:586\n"
          ]
        },
        {
          "output_type": "stream",
          "name": "stderr",
          "text": [
            "\rPREP (LOCAL): build dataset_cls with explicit BG:  43%|████▎     | 46/106 [10:32<15:03, 15.06s/it]"
          ]
        },
        {
          "output_type": "stream",
          "name": "stdout",
          "text": [
            "24_1_crop -> val | BG:38 R:81 Rt:85 H:60 IP:271 IS:329\n"
          ]
        },
        {
          "output_type": "stream",
          "name": "stderr",
          "text": [
            "\rPREP (LOCAL): build dataset_cls with explicit BG:  44%|████▍     | 47/106 [10:46<14:34, 14.83s/it]"
          ]
        },
        {
          "output_type": "stream",
          "name": "stdout",
          "text": [
            "24_2_crop -> val | BG:22 R:223 Rt:153 H:56 IP:325 IS:284\n"
          ]
        },
        {
          "output_type": "stream",
          "name": "stderr",
          "text": [
            "\rPREP (LOCAL): build dataset_cls with explicit BG:  45%|████▌     | 48/106 [11:02<14:36, 15.11s/it]"
          ]
        },
        {
          "output_type": "stream",
          "name": "stdout",
          "text": [
            "24_3_crop -> val | BG:24 R:153 Rt:165 H:31 IP:158 IS:570\n"
          ]
        },
        {
          "output_type": "stream",
          "name": "stderr",
          "text": [
            "\rPREP (LOCAL): build dataset_cls with explicit BG:  46%|████▌     | 49/106 [11:16<14:02, 14.77s/it]"
          ]
        },
        {
          "output_type": "stream",
          "name": "stdout",
          "text": [
            "25_1_crop -> val | BG:49 R:105 Rt:112 H:46 IP:164 IS:363\n"
          ]
        },
        {
          "output_type": "stream",
          "name": "stderr",
          "text": [
            "\rPREP (LOCAL): build dataset_cls with explicit BG:  47%|████▋     | 50/106 [11:30<13:36, 14.58s/it]"
          ]
        },
        {
          "output_type": "stream",
          "name": "stdout",
          "text": [
            "25_2_crop -> val | BG:41 R:151 Rt:143 H:98 IP:302 IS:171\n"
          ]
        },
        {
          "output_type": "stream",
          "name": "stderr",
          "text": [
            "\rPREP (LOCAL): build dataset_cls with explicit BG:  48%|████▊     | 51/106 [11:43<13:04, 14.26s/it]"
          ]
        },
        {
          "output_type": "stream",
          "name": "stdout",
          "text": [
            "25_3_crop -> val | BG:47 R:114 Rt:177 H:112 IP:61 IS:270\n"
          ]
        },
        {
          "output_type": "stream",
          "name": "stderr",
          "text": [
            "\rPREP (LOCAL): build dataset_cls with explicit BG:  49%|████▉     | 52/106 [11:57<12:40, 14.07s/it]"
          ]
        },
        {
          "output_type": "stream",
          "name": "stdout",
          "text": [
            "26_1_crop -> val | BG:59 R:101 Rt:109 H:90 IP:201 IS:267\n"
          ]
        },
        {
          "output_type": "stream",
          "name": "stderr",
          "text": [
            "\rPREP (LOCAL): build dataset_cls with explicit BG:  50%|█████     | 53/106 [12:11<12:26, 14.09s/it]"
          ]
        },
        {
          "output_type": "stream",
          "name": "stdout",
          "text": [
            "26_2_crop -> val | BG:21 R:207 Rt:171 H:73 IP:444 IS:169\n"
          ]
        },
        {
          "output_type": "stream",
          "name": "stderr",
          "text": [
            "\rPREP (LOCAL): build dataset_cls with explicit BG:  51%|█████     | 54/106 [12:25<12:07, 13.99s/it]"
          ]
        },
        {
          "output_type": "stream",
          "name": "stdout",
          "text": [
            "26_3_crop -> val | BG:38 R:121 Rt:119 H:44 IP:149 IS:358\n"
          ]
        },
        {
          "output_type": "stream",
          "name": "stderr",
          "text": [
            "\rPREP (LOCAL): build dataset_cls with explicit BG:  52%|█████▏    | 55/106 [12:38<11:43, 13.79s/it]"
          ]
        },
        {
          "output_type": "stream",
          "name": "stdout",
          "text": [
            "27_1_crop -> test | BG:50 R:98 Rt:94 H:0 IP:320 IS:202\n"
          ]
        },
        {
          "output_type": "stream",
          "name": "stderr",
          "text": [
            "\rPREP (LOCAL): build dataset_cls with explicit BG:  53%|█████▎    | 56/106 [12:52<11:36, 13.92s/it]"
          ]
        },
        {
          "output_type": "stream",
          "name": "stdout",
          "text": [
            "27_2_crop -> test | BG:27 R:137 Rt:129 H:13 IP:268 IS:311\n"
          ]
        },
        {
          "output_type": "stream",
          "name": "stderr",
          "text": [
            "\rPREP (LOCAL): build dataset_cls with explicit BG:  54%|█████▍    | 57/106 [13:06<11:12, 13.73s/it]"
          ]
        },
        {
          "output_type": "stream",
          "name": "stdout",
          "text": [
            "27_3_crop -> test | BG:56 R:118 Rt:105 H:138 IP:138 IS:178\n"
          ]
        },
        {
          "output_type": "stream",
          "name": "stderr",
          "text": [
            "\rPREP (LOCAL): build dataset_cls with explicit BG:  55%|█████▍    | 58/106 [13:19<10:58, 13.71s/it]"
          ]
        },
        {
          "output_type": "stream",
          "name": "stdout",
          "text": [
            "28_1_crop -> test | BG:32 R:83 Rt:110 H:105 IP:199 IS:314\n"
          ]
        },
        {
          "output_type": "stream",
          "name": "stderr",
          "text": [
            "\rPREP (LOCAL): build dataset_cls with explicit BG:  56%|█████▌    | 59/106 [13:33<10:42, 13.67s/it]"
          ]
        },
        {
          "output_type": "stream",
          "name": "stdout",
          "text": [
            "28_2_crop -> test | BG:48 R:109 Rt:146 H:86 IP:194 IS:270\n"
          ]
        },
        {
          "output_type": "stream",
          "name": "stderr",
          "text": [
            "\rPREP (LOCAL): build dataset_cls with explicit BG:  57%|█████▋    | 60/106 [13:46<10:19, 13.48s/it]"
          ]
        },
        {
          "output_type": "stream",
          "name": "stdout",
          "text": [
            "28_3_crop -> test | BG:40 R:128 Rt:131 H:149 IP:112 IS:229\n"
          ]
        },
        {
          "output_type": "stream",
          "name": "stderr",
          "text": [
            "\rPREP (LOCAL): build dataset_cls with explicit BG:  58%|█████▊    | 61/106 [14:00<10:17, 13.73s/it]"
          ]
        },
        {
          "output_type": "stream",
          "name": "stdout",
          "text": [
            "29_1_crop -> test | BG:51 R:67 Rt:76 H:122 IP:0 IS:544\n"
          ]
        },
        {
          "output_type": "stream",
          "name": "stderr",
          "text": [
            "\rPREP (LOCAL): build dataset_cls with explicit BG:  58%|█████▊    | 62/106 [14:16<10:27, 14.25s/it]"
          ]
        },
        {
          "output_type": "stream",
          "name": "stdout",
          "text": [
            "29_2_crop -> test | BG:47 R:115 Rt:114 H:126 IP:363 IS:138\n"
          ]
        },
        {
          "output_type": "stream",
          "name": "stderr",
          "text": [
            "\rPREP (LOCAL): build dataset_cls with explicit BG:  59%|█████▉    | 63/106 [14:32<10:37, 14.81s/it]"
          ]
        },
        {
          "output_type": "stream",
          "name": "stdout",
          "text": [
            "29_3_crop -> test | BG:69 R:89 Rt:63 H:656 IP:44 IS:169\n"
          ]
        },
        {
          "output_type": "stream",
          "name": "stderr",
          "text": [
            "\rPREP (LOCAL): build dataset_cls with explicit BG:  60%|██████    | 64/106 [14:44<09:51, 14.09s/it]"
          ]
        },
        {
          "output_type": "stream",
          "name": "stdout",
          "text": [
            "2_1_crop -> train | BG:40 R:183 Rt:172 H:170 IP:22 IS:162\n"
          ]
        },
        {
          "output_type": "stream",
          "name": "stderr",
          "text": [
            "\rPREP (LOCAL): build dataset_cls with explicit BG:  61%|██████▏   | 65/106 [14:58<09:28, 13.87s/it]"
          ]
        },
        {
          "output_type": "stream",
          "name": "stdout",
          "text": [
            "2_2_crop -> train | BG:35 R:140 Rt:121 H:163 IP:0 IS:308\n"
          ]
        },
        {
          "output_type": "stream",
          "name": "stderr",
          "text": [
            "\rPREP (LOCAL): build dataset_cls with explicit BG:  62%|██████▏   | 66/106 [15:10<08:56, 13.42s/it]"
          ]
        },
        {
          "output_type": "stream",
          "name": "stdout",
          "text": [
            "2_3_crop -> train | BG:19 R:192 Rt:252 H:216 IP:0 IS:122\n"
          ]
        },
        {
          "output_type": "stream",
          "name": "stderr",
          "text": [
            "\rPREP (LOCAL): build dataset_cls with explicit BG:  63%|██████▎   | 67/106 [15:24<08:49, 13.57s/it]"
          ]
        },
        {
          "output_type": "stream",
          "name": "stdout",
          "text": [
            "30_1_crop -> test | BG:36 R:148 Rt:153 H:158 IP:343 IS:69\n"
          ]
        },
        {
          "output_type": "stream",
          "name": "stderr",
          "text": [
            "\rPREP (LOCAL): build dataset_cls with explicit BG:  64%|██████▍   | 68/106 [15:38<08:38, 13.64s/it]"
          ]
        },
        {
          "output_type": "stream",
          "name": "stdout",
          "text": [
            "30_2_crop -> test | BG:36 R:85 Rt:64 H:25 IP:572 IS:72\n"
          ]
        },
        {
          "output_type": "stream",
          "name": "stderr",
          "text": [
            "\rPREP (LOCAL): build dataset_cls with explicit BG:  65%|██████▌   | 69/106 [15:52<08:33, 13.88s/it]"
          ]
        },
        {
          "output_type": "stream",
          "name": "stdout",
          "text": [
            "30_3_crop -> test | BG:32 R:189 Rt:159 H:117 IP:383 IS:67\n"
          ]
        },
        {
          "output_type": "stream",
          "name": "stderr",
          "text": [
            "\rPREP (LOCAL): build dataset_cls with explicit BG:  66%|██████▌   | 70/106 [16:05<08:09, 13.61s/it]"
          ]
        },
        {
          "output_type": "stream",
          "name": "stdout",
          "text": [
            "31_1_crop -> test | BG:29 R:146 Rt:149 H:66 IP:177 IS:311\n"
          ]
        },
        {
          "output_type": "stream",
          "name": "stderr",
          "text": [
            "\rPREP (LOCAL): build dataset_cls with explicit BG:  67%|██████▋   | 71/106 [16:19<07:55, 13.59s/it]"
          ]
        },
        {
          "output_type": "stream",
          "name": "stdout",
          "text": [
            "31_2_crop -> test | BG:27 R:196 Rt:162 H:102 IP:127 IS:267\n"
          ]
        },
        {
          "output_type": "stream",
          "name": "stderr",
          "text": [
            "\rPREP (LOCAL): build dataset_cls with explicit BG:  68%|██████▊   | 72/106 [16:31<07:28, 13.19s/it]"
          ]
        },
        {
          "output_type": "stream",
          "name": "stdout",
          "text": [
            "31_3_crop -> test | BG:39 R:53 Rt:74 H:58 IP:245 IS:276\n"
          ]
        },
        {
          "output_type": "stream",
          "name": "stderr",
          "text": [
            "\rPREP (LOCAL): build dataset_cls with explicit BG:  69%|██████▉   | 73/106 [16:45<07:26, 13.52s/it]"
          ]
        },
        {
          "output_type": "stream",
          "name": "stdout",
          "text": [
            "32_1_crop -> test | BG:32 R:163 Rt:149 H:262 IP:11 IS:269\n"
          ]
        },
        {
          "output_type": "stream",
          "name": "stderr",
          "text": [
            "\rPREP (LOCAL): build dataset_cls with explicit BG:  70%|██████▉   | 74/106 [16:57<06:59, 13.10s/it]"
          ]
        },
        {
          "output_type": "stream",
          "name": "stdout",
          "text": [
            "32_2_crop -> test | BG:17 R:138 Rt:114 H:118 IP:252 IS:241\n"
          ]
        },
        {
          "output_type": "stream",
          "name": "stderr",
          "text": [
            "\rPREP (LOCAL): build dataset_cls with explicit BG:  71%|███████   | 75/106 [17:11<06:47, 13.14s/it]"
          ]
        },
        {
          "output_type": "stream",
          "name": "stdout",
          "text": [
            "32_3_crop -> test | BG:21 R:145 Rt:183 H:245 IP:0 IS:248\n"
          ]
        },
        {
          "output_type": "stream",
          "name": "stderr",
          "text": [
            "\rPREP (LOCAL): build dataset_cls with explicit BG:  72%|███████▏  | 76/106 [17:24<06:33, 13.11s/it]"
          ]
        },
        {
          "output_type": "stream",
          "name": "stdout",
          "text": [
            "33_1_crop -> test | BG:34 R:143 Rt:171 H:86 IP:74 IS:283\n"
          ]
        },
        {
          "output_type": "stream",
          "name": "stderr",
          "text": [
            "\rPREP (LOCAL): build dataset_cls with explicit BG:  73%|███████▎  | 77/106 [17:37<06:21, 13.15s/it]"
          ]
        },
        {
          "output_type": "stream",
          "name": "stdout",
          "text": [
            "34_1_crop -> test | BG:27 R:156 Rt:133 H:28 IP:113 IS:402\n"
          ]
        },
        {
          "output_type": "stream",
          "name": "stderr",
          "text": [
            "\rPREP (LOCAL): build dataset_cls with explicit BG:  74%|███████▎  | 78/106 [17:49<05:59, 12.83s/it]"
          ]
        },
        {
          "output_type": "stream",
          "name": "stdout",
          "text": [
            "35_1_crop -> test | BG:64 R:122 Rt:116 H:54 IP:73 IS:218\n"
          ]
        },
        {
          "output_type": "stream",
          "name": "stderr",
          "text": [
            "\rPREP (LOCAL): build dataset_cls with explicit BG:  75%|███████▍  | 79/106 [18:01<05:41, 12.65s/it]"
          ]
        },
        {
          "output_type": "stream",
          "name": "stdout",
          "text": [
            "36_1_crop -> test | BG:47 R:135 Rt:199 H:51 IP:0 IS:278\n"
          ]
        },
        {
          "output_type": "stream",
          "name": "stderr",
          "text": [
            "\rPREP (LOCAL): build dataset_cls with explicit BG:  75%|███████▌  | 80/106 [18:15<05:36, 12.96s/it]"
          ]
        },
        {
          "output_type": "stream",
          "name": "stdout",
          "text": [
            "37_1_crop -> test | BG:21 R:166 Rt:215 H:137 IP:312 IS:49\n"
          ]
        },
        {
          "output_type": "stream",
          "name": "stderr",
          "text": [
            "\rPREP (LOCAL): build dataset_cls with explicit BG:  76%|███████▋  | 81/106 [18:27<05:19, 12.79s/it]"
          ]
        },
        {
          "output_type": "stream",
          "name": "stdout",
          "text": [
            "38_1_crop -> test | BG:44 R:129 Rt:132 H:81 IP:0 IS:375\n"
          ]
        },
        {
          "output_type": "stream",
          "name": "stderr",
          "text": [
            "\rPREP (LOCAL): build dataset_cls with explicit BG:  77%|███████▋  | 82/106 [18:40<05:07, 12.79s/it]"
          ]
        },
        {
          "output_type": "stream",
          "name": "stdout",
          "text": [
            "39_1_crop -> test | BG:46 R:170 Rt:201 H:32 IP:23 IS:293\n"
          ]
        },
        {
          "output_type": "stream",
          "name": "stderr",
          "text": [
            "\rPREP (LOCAL): build dataset_cls with explicit BG:  78%|███████▊  | 83/106 [18:51<04:42, 12.30s/it]"
          ]
        },
        {
          "output_type": "stream",
          "name": "stdout",
          "text": [
            "3_1_crop -> train | BG:65 R:105 Rt:114 H:37 IP:152 IS:121\n"
          ]
        },
        {
          "output_type": "stream",
          "name": "stderr",
          "text": [
            "\rPREP (LOCAL): build dataset_cls with explicit BG:  79%|███████▉  | 84/106 [19:04<04:31, 12.34s/it]"
          ]
        },
        {
          "output_type": "stream",
          "name": "stdout",
          "text": [
            "3_2_crop -> train | BG:45 R:185 Rt:118 H:79 IP:139 IS:144\n"
          ]
        },
        {
          "output_type": "stream",
          "name": "stderr",
          "text": [
            "\rPREP (LOCAL): build dataset_cls with explicit BG:  80%|████████  | 85/106 [19:16<04:16, 12.20s/it]"
          ]
        },
        {
          "output_type": "stream",
          "name": "stdout",
          "text": [
            "3_3_crop -> train | BG:32 R:133 Rt:134 H:64 IP:141 IS:210\n"
          ]
        },
        {
          "output_type": "stream",
          "name": "stderr",
          "text": [
            "\rPREP (LOCAL): build dataset_cls with explicit BG:  81%|████████  | 86/106 [19:29<04:10, 12.53s/it]"
          ]
        },
        {
          "output_type": "stream",
          "name": "stdout",
          "text": [
            "40_1_crop -> test | BG:35 R:109 Rt:114 H:186 IP:0 IS:381\n"
          ]
        },
        {
          "output_type": "stream",
          "name": "stderr",
          "text": [
            "\rPREP (LOCAL): build dataset_cls with explicit BG:  82%|████████▏ | 87/106 [19:42<04:01, 12.70s/it]"
          ]
        },
        {
          "output_type": "stream",
          "name": "stdout",
          "text": [
            "41_1_crop -> test | BG:18 R:207 Rt:204 H:122 IP:258 IS:190\n"
          ]
        },
        {
          "output_type": "stream",
          "name": "stderr",
          "text": [
            "\rPREP (LOCAL): build dataset_cls with explicit BG:  83%|████████▎ | 88/106 [19:56<03:54, 13.04s/it]"
          ]
        },
        {
          "output_type": "stream",
          "name": "stdout",
          "text": [
            "41_2_crop -> test | BG:29 R:169 Rt:157 H:77 IP:45 IS:303\n"
          ]
        },
        {
          "output_type": "stream",
          "name": "stderr",
          "text": [
            "\rPREP (LOCAL): build dataset_cls with explicit BG:  84%|████████▍ | 89/106 [20:10<03:48, 13.44s/it]"
          ]
        },
        {
          "output_type": "stream",
          "name": "stdout",
          "text": [
            "4_1_crop -> train | BG:48 R:110 Rt:114 H:19 IP:211 IS:250\n"
          ]
        },
        {
          "output_type": "stream",
          "name": "stderr",
          "text": [
            "\rPREP (LOCAL): build dataset_cls with explicit BG:  85%|████████▍ | 90/106 [20:23<03:33, 13.33s/it]"
          ]
        },
        {
          "output_type": "stream",
          "name": "stdout",
          "text": [
            "4_2_crop -> train | BG:21 R:103 Rt:117 H:25 IP:64 IS:530\n"
          ]
        },
        {
          "output_type": "stream",
          "name": "stderr",
          "text": [
            "\rPREP (LOCAL): build dataset_cls with explicit BG:  86%|████████▌ | 91/106 [20:36<03:18, 13.25s/it]"
          ]
        },
        {
          "output_type": "stream",
          "name": "stdout",
          "text": [
            "4_3_crop -> train | BG:29 R:110 Rt:131 H:43 IP:0 IS:481\n"
          ]
        },
        {
          "output_type": "stream",
          "name": "stderr",
          "text": [
            "\rPREP (LOCAL): build dataset_cls with explicit BG:  87%|████████▋ | 92/106 [20:49<03:02, 13.02s/it]"
          ]
        },
        {
          "output_type": "stream",
          "name": "stdout",
          "text": [
            "5_1_crop -> train | BG:55 R:89 Rt:69 H:23 IP:13 IS:405\n"
          ]
        },
        {
          "output_type": "stream",
          "name": "stderr",
          "text": [
            "\rPREP (LOCAL): build dataset_cls with explicit BG:  88%|████████▊ | 93/106 [21:01<02:47, 12.87s/it]"
          ]
        },
        {
          "output_type": "stream",
          "name": "stdout",
          "text": [
            "5_2_crop -> train | BG:28 R:157 Rt:104 H:57 IP:190 IS:312\n"
          ]
        },
        {
          "output_type": "stream",
          "name": "stderr",
          "text": [
            "\rPREP (LOCAL): build dataset_cls with explicit BG:  89%|████████▊ | 94/106 [21:15<02:38, 13.21s/it]"
          ]
        },
        {
          "output_type": "stream",
          "name": "stdout",
          "text": [
            "5_3_crop -> train | BG:28 R:132 Rt:122 H:0 IP:499 IS:136\n"
          ]
        },
        {
          "output_type": "stream",
          "name": "stderr",
          "text": [
            "\rPREP (LOCAL): build dataset_cls with explicit BG:  90%|████████▉ | 95/106 [21:27<02:20, 12.78s/it]"
          ]
        },
        {
          "output_type": "stream",
          "name": "stdout",
          "text": [
            "6_1_crop -> train | BG:62 R:143 Rt:157 H:48 IP:116 IS:114\n"
          ]
        },
        {
          "output_type": "stream",
          "name": "stderr",
          "text": [
            "\rPREP (LOCAL): build dataset_cls with explicit BG:  91%|█████████ | 96/106 [21:40<02:07, 12.72s/it]"
          ]
        },
        {
          "output_type": "stream",
          "name": "stdout",
          "text": [
            "6_2_crop -> train | BG:36 R:96 Rt:170 H:0 IP:0 IS:494\n"
          ]
        },
        {
          "output_type": "stream",
          "name": "stderr",
          "text": [
            "\rPREP (LOCAL): build dataset_cls with explicit BG:  92%|█████████▏| 97/106 [21:52<01:53, 12.61s/it]"
          ]
        },
        {
          "output_type": "stream",
          "name": "stdout",
          "text": [
            "6_3_crop -> train | BG:33 R:168 Rt:299 H:0 IP:154 IS:147\n"
          ]
        },
        {
          "output_type": "stream",
          "name": "stderr",
          "text": [
            "\rPREP (LOCAL): build dataset_cls with explicit BG:  92%|█████████▏| 98/106 [22:04<01:39, 12.50s/it]"
          ]
        },
        {
          "output_type": "stream",
          "name": "stdout",
          "text": [
            "7_1_crop -> train | BG:34 R:158 Rt:128 H:149 IP:150 IS:169\n"
          ]
        },
        {
          "output_type": "stream",
          "name": "stderr",
          "text": [
            "\rPREP (LOCAL): build dataset_cls with explicit BG:  93%|█████████▎| 99/106 [22:17<01:27, 12.52s/it]"
          ]
        },
        {
          "output_type": "stream",
          "name": "stdout",
          "text": [
            "7_2_crop -> train | BG:16 R:289 Rt:240 H:13 IP:169 IS:171\n"
          ]
        },
        {
          "output_type": "stream",
          "name": "stderr",
          "text": [
            "\rPREP (LOCAL): build dataset_cls with explicit BG:  94%|█████████▍| 100/106 [22:29<01:15, 12.53s/it]"
          ]
        },
        {
          "output_type": "stream",
          "name": "stdout",
          "text": [
            "7_3_crop -> train | BG:46 R:174 Rt:218 H:59 IP:49 IS:199\n"
          ]
        },
        {
          "output_type": "stream",
          "name": "stderr",
          "text": [
            "\rPREP (LOCAL): build dataset_cls with explicit BG:  95%|█████████▌| 101/106 [22:41<01:01, 12.26s/it]"
          ]
        },
        {
          "output_type": "stream",
          "name": "stdout",
          "text": [
            "8_1_crop -> train | BG:57 R:79 Rt:86 H:31 IP:121 IS:248\n"
          ]
        },
        {
          "output_type": "stream",
          "name": "stderr",
          "text": [
            "\rPREP (LOCAL): build dataset_cls with explicit BG:  96%|█████████▌| 102/106 [22:55<00:51, 12.90s/it]"
          ]
        },
        {
          "output_type": "stream",
          "name": "stdout",
          "text": [
            "8_2_crop -> train | BG:51 R:182 Rt:160 H:7 IP:406 IS:151\n"
          ]
        },
        {
          "output_type": "stream",
          "name": "stderr",
          "text": [
            "\rPREP (LOCAL): build dataset_cls with explicit BG:  97%|█████████▋| 103/106 [23:10<00:40, 13.42s/it]"
          ]
        },
        {
          "output_type": "stream",
          "name": "stdout",
          "text": [
            "8_3_crop -> train | BG:39 R:151 Rt:160 H:197 IP:160 IS:163\n"
          ]
        },
        {
          "output_type": "stream",
          "name": "stderr",
          "text": [
            "\rPREP (LOCAL): build dataset_cls with explicit BG:  98%|█████████▊| 104/106 [23:22<00:26, 13.12s/it]"
          ]
        },
        {
          "output_type": "stream",
          "name": "stdout",
          "text": [
            "9_1_crop -> train | BG:30 R:167 Rt:156 H:45 IP:62 IS:322\n"
          ]
        },
        {
          "output_type": "stream",
          "name": "stderr",
          "text": [
            "\rPREP (LOCAL): build dataset_cls with explicit BG:  99%|█████████▉| 105/106 [23:34<00:12, 12.78s/it]"
          ]
        },
        {
          "output_type": "stream",
          "name": "stdout",
          "text": [
            "9_2_crop -> train | BG:30 R:160 Rt:151 H:96 IP:50 IS:325\n"
          ]
        },
        {
          "output_type": "stream",
          "name": "stderr",
          "text": [
            "PREP (LOCAL): build dataset_cls with explicit BG: 100%|██████████| 106/106 [23:47<00:00, 13.47s/it]"
          ]
        },
        {
          "output_type": "stream",
          "name": "stdout",
          "text": [
            "9_3_crop -> train | BG:57 R:78 Rt:130 H:48 IP:180 IS:212\n",
            "\n",
            "PREP (LOCAL) done ✅  Path: /content/MERL_WORK_LOCAL/dataset_cls\n",
            "train {'Background': 2368, 'Reach_To_Shelf': 8585, 'Retract_From_Shelf': 8704, 'Hand_In_Shelf': 4473, 'Inspect_Product': 10889, 'Inspect_Shelf': 13920} | /content/MERL_WORK_LOCAL/dataset_cls/train\n",
            "val {'Background': 763, 'Reach_To_Shelf': 2236, 'Retract_From_Shelf': 2460, 'Hand_In_Shelf': 1118, 'Inspect_Product': 4234, 'Inspect_Shelf': 5630} | /content/MERL_WORK_LOCAL/dataset_cls/val\n",
            "test {'Background': 1054, 'Reach_To_Shelf': 3713, 'Retract_From_Shelf': 3817, 'Hand_In_Shelf': 3400, 'Inspect_Product': 4646, 'Inspect_Shelf': 6947} | /content/MERL_WORK_LOCAL/dataset_cls/test\n",
            "\n",
            "Global counts (accumulated while writing):\n",
            "train {'Background': 2368, 'Reach_To_Shelf': 8585, 'Retract_From_Shelf': 8704, 'Hand_In_Shelf': 4473, 'Inspect_Product': 10889, 'Inspect_Shelf': 13920}\n",
            "val {'Background': 763, 'Reach_To_Shelf': 2236, 'Retract_From_Shelf': 2460, 'Hand_In_Shelf': 1118, 'Inspect_Product': 4234, 'Inspect_Shelf': 5630}\n",
            "test {'Background': 1054, 'Reach_To_Shelf': 3713, 'Retract_From_Shelf': 3817, 'Hand_In_Shelf': 3400, 'Inspect_Product': 4646, 'Inspect_Shelf': 6947}\n"
          ]
        },
        {
          "output_type": "stream",
          "name": "stderr",
          "text": [
            "\n"
          ]
        }
      ]
    },
    {
      "cell_type": "markdown",
      "source": [
        "**ANALYZ THE DATASET**"
      ],
      "metadata": {
        "id": "DLEqGPph-BcB"
      }
    },
    {
      "cell_type": "code",
      "source": [
        "# COUNT IMAGES PER SPLIT/CLASS + SAVE CSV TO DRIVE + QUICK PREVIEW\n",
        "!pip -q install pandas matplotlib\n",
        "\n",
        "import os, glob, time\n",
        "import pandas as pd\n",
        "import numpy as np\n",
        "import matplotlib.pyplot as plt\n",
        "\n",
        "# Dataset kökü\n",
        "DATASET_CLS = \"/content/MERL_WORK_LOCAL/dataset_cls\"\n",
        "\n",
        "splits  = [\"train\", \"val\", \"test\"]\n",
        "classes = [\"Background\",\"Reach_To_Shelf\",\"Retract_From_Shelf\",\"Hand_In_Shelf\",\"Inspect_Product\",\"Inspect_Shelf\"]\n",
        "\n",
        "# 1) Sayım\n",
        "rows = []\n",
        "for sp in splits:\n",
        "    for cls in classes:\n",
        "        n = 0\n",
        "        for ext in (\"*.jpg\",\"*.jpeg\",\"*.png\"):\n",
        "            n += len(glob.glob(os.path.join(DATASET_CLS, sp, cls, ext)))\n",
        "        rows.append({\"split\": sp, \"class\": cls, \"count\": n})\n",
        "\n",
        "df = pd.DataFrame(rows)\n",
        "pt = df.pivot(index=\"class\", columns=\"split\", values=\"count\").fillna(0).astype(int)\n",
        "pt[\"total\"] = pt.sum(axis=1)\n",
        "totals_row = list(pt.sum(axis=0))\n",
        "pt.loc[\"__TOTAL__\"] = totals_row\n",
        "\n",
        "print(\"\\n=== Görsel Sayıları (class x split) ===\")\n",
        "display(pt)\n",
        "\n",
        "# 2) Eksik sınıf uyarısı\n",
        "for sp in splits:\n",
        "    missing = [c for c in classes if pt.loc[c, sp] == 0]\n",
        "    if missing:\n",
        "        print(f\"[UYARI] {sp} içinde görüntüsü olmayan sınıflar: {missing}\")\n",
        "\n",
        "# 3) CSV olarak Drive'a kaydet\n",
        "OUT_DIR = \"/content/drive/MyDrive/TURKCELL-CodeFem3/MERL_WORK_DRIVE/label_analysis\"\n",
        "os.makedirs(OUT_DIR, exist_ok=True)\n",
        "ts = time.strftime(\"%Y%m%d_%H%M%S\")\n",
        "csv_path = os.path.join(OUT_DIR, f\"split_image_counts_{ts}.csv\")\n",
        "pt.to_csv(csv_path)\n",
        "print(\"\\n[OK] CSV kaydedildi →\", csv_path)\n",
        "\n",
        "# 4) Hızlı görselleştirme (class x split bar chart)\n",
        "plt.figure(figsize=(10,5))\n",
        "pt.loc[classes, splits].plot(kind=\"bar\")\n",
        "plt.title(\"Görüntü dağılımı: sınıf x split\")\n",
        "plt.xlabel(\"Sınıf\")\n",
        "plt.ylabel(\"Görüntü sayısı\")\n",
        "plt.xticks(rotation=30, ha=\"right\")\n",
        "plt.tight_layout()\n",
        "plt.show()\n",
        "\n",
        "# 5) Hızlı örnek dosya listesi (ilk 5)\n",
        "def head_files(sp, cls, k=5):\n",
        "    files = []\n",
        "    for ext in (\"*.jpg\",\"*.jpeg\",\"*.png\"):\n",
        "        files += glob.glob(os.path.join(DATASET_CLS, sp, cls, ext))\n",
        "    return sorted(files)[:k]\n",
        "\n",
        "print(\"\\nÖrnek dosyalar (val/Inspect_Product):\")\n",
        "for p in head_files(\"val\",\"Inspect_Product\",5):\n",
        "    print(\" -\", p)\n",
        "\n",
        "print(\"\\nÖrnek dosyalar (test/Background):\")\n",
        "for p in head_files(\"test\",\"Background\",5):\n",
        "    print(\" -\", p)\n"
      ],
      "metadata": {
        "colab": {
          "base_uri": "https://localhost:8080/",
          "height": 1000
        },
        "id": "2gbp2B75cHDg",
        "outputId": "863d7459-e57b-4a2c-f244-f0b7c78cf992"
      },
      "execution_count": null,
      "outputs": [
        {
          "output_type": "stream",
          "name": "stdout",
          "text": [
            "\n",
            "=== Görsel Sayıları (class x split) ===\n"
          ]
        },
        {
          "output_type": "display_data",
          "data": {
            "text/plain": [
              "split                test  train    val  total\n",
              "class                                         \n",
              "Background           1054   2368    763   4185\n",
              "Hand_In_Shelf        3400   4473   1118   8991\n",
              "Inspect_Product      4646  10889   4234  19769\n",
              "Inspect_Shelf        6947  13920   5630  26497\n",
              "Reach_To_Shelf       3713   8585   2236  14534\n",
              "Retract_From_Shelf   3817   8704   2460  14981\n",
              "__TOTAL__           23577  48939  16441  88957"
            ],
            "text/html": [
              "\n",
              "  <div id=\"df-7dcafb53-0808-484f-8abf-77c13a49df55\" class=\"colab-df-container\">\n",
              "    <div>\n",
              "<style scoped>\n",
              "    .dataframe tbody tr th:only-of-type {\n",
              "        vertical-align: middle;\n",
              "    }\n",
              "\n",
              "    .dataframe tbody tr th {\n",
              "        vertical-align: top;\n",
              "    }\n",
              "\n",
              "    .dataframe thead th {\n",
              "        text-align: right;\n",
              "    }\n",
              "</style>\n",
              "<table border=\"1\" class=\"dataframe\">\n",
              "  <thead>\n",
              "    <tr style=\"text-align: right;\">\n",
              "      <th>split</th>\n",
              "      <th>test</th>\n",
              "      <th>train</th>\n",
              "      <th>val</th>\n",
              "      <th>total</th>\n",
              "    </tr>\n",
              "    <tr>\n",
              "      <th>class</th>\n",
              "      <th></th>\n",
              "      <th></th>\n",
              "      <th></th>\n",
              "      <th></th>\n",
              "    </tr>\n",
              "  </thead>\n",
              "  <tbody>\n",
              "    <tr>\n",
              "      <th>Background</th>\n",
              "      <td>1054</td>\n",
              "      <td>2368</td>\n",
              "      <td>763</td>\n",
              "      <td>4185</td>\n",
              "    </tr>\n",
              "    <tr>\n",
              "      <th>Hand_In_Shelf</th>\n",
              "      <td>3400</td>\n",
              "      <td>4473</td>\n",
              "      <td>1118</td>\n",
              "      <td>8991</td>\n",
              "    </tr>\n",
              "    <tr>\n",
              "      <th>Inspect_Product</th>\n",
              "      <td>4646</td>\n",
              "      <td>10889</td>\n",
              "      <td>4234</td>\n",
              "      <td>19769</td>\n",
              "    </tr>\n",
              "    <tr>\n",
              "      <th>Inspect_Shelf</th>\n",
              "      <td>6947</td>\n",
              "      <td>13920</td>\n",
              "      <td>5630</td>\n",
              "      <td>26497</td>\n",
              "    </tr>\n",
              "    <tr>\n",
              "      <th>Reach_To_Shelf</th>\n",
              "      <td>3713</td>\n",
              "      <td>8585</td>\n",
              "      <td>2236</td>\n",
              "      <td>14534</td>\n",
              "    </tr>\n",
              "    <tr>\n",
              "      <th>Retract_From_Shelf</th>\n",
              "      <td>3817</td>\n",
              "      <td>8704</td>\n",
              "      <td>2460</td>\n",
              "      <td>14981</td>\n",
              "    </tr>\n",
              "    <tr>\n",
              "      <th>__TOTAL__</th>\n",
              "      <td>23577</td>\n",
              "      <td>48939</td>\n",
              "      <td>16441</td>\n",
              "      <td>88957</td>\n",
              "    </tr>\n",
              "  </tbody>\n",
              "</table>\n",
              "</div>\n",
              "    <div class=\"colab-df-buttons\">\n",
              "\n",
              "  <div class=\"colab-df-container\">\n",
              "    <button class=\"colab-df-convert\" onclick=\"convertToInteractive('df-7dcafb53-0808-484f-8abf-77c13a49df55')\"\n",
              "            title=\"Convert this dataframe to an interactive table.\"\n",
              "            style=\"display:none;\">\n",
              "\n",
              "  <svg xmlns=\"http://www.w3.org/2000/svg\" height=\"24px\" viewBox=\"0 -960 960 960\">\n",
              "    <path d=\"M120-120v-720h720v720H120Zm60-500h600v-160H180v160Zm220 220h160v-160H400v160Zm0 220h160v-160H400v160ZM180-400h160v-160H180v160Zm440 0h160v-160H620v160ZM180-180h160v-160H180v160Zm440 0h160v-160H620v160Z\"/>\n",
              "  </svg>\n",
              "    </button>\n",
              "\n",
              "  <style>\n",
              "    .colab-df-container {\n",
              "      display:flex;\n",
              "      gap: 12px;\n",
              "    }\n",
              "\n",
              "    .colab-df-convert {\n",
              "      background-color: #E8F0FE;\n",
              "      border: none;\n",
              "      border-radius: 50%;\n",
              "      cursor: pointer;\n",
              "      display: none;\n",
              "      fill: #1967D2;\n",
              "      height: 32px;\n",
              "      padding: 0 0 0 0;\n",
              "      width: 32px;\n",
              "    }\n",
              "\n",
              "    .colab-df-convert:hover {\n",
              "      background-color: #E2EBFA;\n",
              "      box-shadow: 0px 1px 2px rgba(60, 64, 67, 0.3), 0px 1px 3px 1px rgba(60, 64, 67, 0.15);\n",
              "      fill: #174EA6;\n",
              "    }\n",
              "\n",
              "    .colab-df-buttons div {\n",
              "      margin-bottom: 4px;\n",
              "    }\n",
              "\n",
              "    [theme=dark] .colab-df-convert {\n",
              "      background-color: #3B4455;\n",
              "      fill: #D2E3FC;\n",
              "    }\n",
              "\n",
              "    [theme=dark] .colab-df-convert:hover {\n",
              "      background-color: #434B5C;\n",
              "      box-shadow: 0px 1px 3px 1px rgba(0, 0, 0, 0.15);\n",
              "      filter: drop-shadow(0px 1px 2px rgba(0, 0, 0, 0.3));\n",
              "      fill: #FFFFFF;\n",
              "    }\n",
              "  </style>\n",
              "\n",
              "    <script>\n",
              "      const buttonEl =\n",
              "        document.querySelector('#df-7dcafb53-0808-484f-8abf-77c13a49df55 button.colab-df-convert');\n",
              "      buttonEl.style.display =\n",
              "        google.colab.kernel.accessAllowed ? 'block' : 'none';\n",
              "\n",
              "      async function convertToInteractive(key) {\n",
              "        const element = document.querySelector('#df-7dcafb53-0808-484f-8abf-77c13a49df55');\n",
              "        const dataTable =\n",
              "          await google.colab.kernel.invokeFunction('convertToInteractive',\n",
              "                                                    [key], {});\n",
              "        if (!dataTable) return;\n",
              "\n",
              "        const docLinkHtml = 'Like what you see? Visit the ' +\n",
              "          '<a target=\"_blank\" href=https://colab.research.google.com/notebooks/data_table.ipynb>data table notebook</a>'\n",
              "          + ' to learn more about interactive tables.';\n",
              "        element.innerHTML = '';\n",
              "        dataTable['output_type'] = 'display_data';\n",
              "        await google.colab.output.renderOutput(dataTable, element);\n",
              "        const docLink = document.createElement('div');\n",
              "        docLink.innerHTML = docLinkHtml;\n",
              "        element.appendChild(docLink);\n",
              "      }\n",
              "    </script>\n",
              "  </div>\n",
              "\n",
              "\n",
              "    <div id=\"df-512d1044-1537-43f7-9d0e-e5301c66e248\">\n",
              "      <button class=\"colab-df-quickchart\" onclick=\"quickchart('df-512d1044-1537-43f7-9d0e-e5301c66e248')\"\n",
              "                title=\"Suggest charts\"\n",
              "                style=\"display:none;\">\n",
              "\n",
              "<svg xmlns=\"http://www.w3.org/2000/svg\" height=\"24px\"viewBox=\"0 0 24 24\"\n",
              "     width=\"24px\">\n",
              "    <g>\n",
              "        <path d=\"M19 3H5c-1.1 0-2 .9-2 2v14c0 1.1.9 2 2 2h14c1.1 0 2-.9 2-2V5c0-1.1-.9-2-2-2zM9 17H7v-7h2v7zm4 0h-2V7h2v10zm4 0h-2v-4h2v4z\"/>\n",
              "    </g>\n",
              "</svg>\n",
              "      </button>\n",
              "\n",
              "<style>\n",
              "  .colab-df-quickchart {\n",
              "      --bg-color: #E8F0FE;\n",
              "      --fill-color: #1967D2;\n",
              "      --hover-bg-color: #E2EBFA;\n",
              "      --hover-fill-color: #174EA6;\n",
              "      --disabled-fill-color: #AAA;\n",
              "      --disabled-bg-color: #DDD;\n",
              "  }\n",
              "\n",
              "  [theme=dark] .colab-df-quickchart {\n",
              "      --bg-color: #3B4455;\n",
              "      --fill-color: #D2E3FC;\n",
              "      --hover-bg-color: #434B5C;\n",
              "      --hover-fill-color: #FFFFFF;\n",
              "      --disabled-bg-color: #3B4455;\n",
              "      --disabled-fill-color: #666;\n",
              "  }\n",
              "\n",
              "  .colab-df-quickchart {\n",
              "    background-color: var(--bg-color);\n",
              "    border: none;\n",
              "    border-radius: 50%;\n",
              "    cursor: pointer;\n",
              "    display: none;\n",
              "    fill: var(--fill-color);\n",
              "    height: 32px;\n",
              "    padding: 0;\n",
              "    width: 32px;\n",
              "  }\n",
              "\n",
              "  .colab-df-quickchart:hover {\n",
              "    background-color: var(--hover-bg-color);\n",
              "    box-shadow: 0 1px 2px rgba(60, 64, 67, 0.3), 0 1px 3px 1px rgba(60, 64, 67, 0.15);\n",
              "    fill: var(--button-hover-fill-color);\n",
              "  }\n",
              "\n",
              "  .colab-df-quickchart-complete:disabled,\n",
              "  .colab-df-quickchart-complete:disabled:hover {\n",
              "    background-color: var(--disabled-bg-color);\n",
              "    fill: var(--disabled-fill-color);\n",
              "    box-shadow: none;\n",
              "  }\n",
              "\n",
              "  .colab-df-spinner {\n",
              "    border: 2px solid var(--fill-color);\n",
              "    border-color: transparent;\n",
              "    border-bottom-color: var(--fill-color);\n",
              "    animation:\n",
              "      spin 1s steps(1) infinite;\n",
              "  }\n",
              "\n",
              "  @keyframes spin {\n",
              "    0% {\n",
              "      border-color: transparent;\n",
              "      border-bottom-color: var(--fill-color);\n",
              "      border-left-color: var(--fill-color);\n",
              "    }\n",
              "    20% {\n",
              "      border-color: transparent;\n",
              "      border-left-color: var(--fill-color);\n",
              "      border-top-color: var(--fill-color);\n",
              "    }\n",
              "    30% {\n",
              "      border-color: transparent;\n",
              "      border-left-color: var(--fill-color);\n",
              "      border-top-color: var(--fill-color);\n",
              "      border-right-color: var(--fill-color);\n",
              "    }\n",
              "    40% {\n",
              "      border-color: transparent;\n",
              "      border-right-color: var(--fill-color);\n",
              "      border-top-color: var(--fill-color);\n",
              "    }\n",
              "    60% {\n",
              "      border-color: transparent;\n",
              "      border-right-color: var(--fill-color);\n",
              "    }\n",
              "    80% {\n",
              "      border-color: transparent;\n",
              "      border-right-color: var(--fill-color);\n",
              "      border-bottom-color: var(--fill-color);\n",
              "    }\n",
              "    90% {\n",
              "      border-color: transparent;\n",
              "      border-bottom-color: var(--fill-color);\n",
              "    }\n",
              "  }\n",
              "</style>\n",
              "\n",
              "      <script>\n",
              "        async function quickchart(key) {\n",
              "          const quickchartButtonEl =\n",
              "            document.querySelector('#' + key + ' button');\n",
              "          quickchartButtonEl.disabled = true;  // To prevent multiple clicks.\n",
              "          quickchartButtonEl.classList.add('colab-df-spinner');\n",
              "          try {\n",
              "            const charts = await google.colab.kernel.invokeFunction(\n",
              "                'suggestCharts', [key], {});\n",
              "          } catch (error) {\n",
              "            console.error('Error during call to suggestCharts:', error);\n",
              "          }\n",
              "          quickchartButtonEl.classList.remove('colab-df-spinner');\n",
              "          quickchartButtonEl.classList.add('colab-df-quickchart-complete');\n",
              "        }\n",
              "        (() => {\n",
              "          let quickchartButtonEl =\n",
              "            document.querySelector('#df-512d1044-1537-43f7-9d0e-e5301c66e248 button');\n",
              "          quickchartButtonEl.style.display =\n",
              "            google.colab.kernel.accessAllowed ? 'block' : 'none';\n",
              "        })();\n",
              "      </script>\n",
              "    </div>\n",
              "\n",
              "  <div id=\"id_d33a6021-c73c-47a3-b209-75a0f6963c4f\">\n",
              "    <style>\n",
              "      .colab-df-generate {\n",
              "        background-color: #E8F0FE;\n",
              "        border: none;\n",
              "        border-radius: 50%;\n",
              "        cursor: pointer;\n",
              "        display: none;\n",
              "        fill: #1967D2;\n",
              "        height: 32px;\n",
              "        padding: 0 0 0 0;\n",
              "        width: 32px;\n",
              "      }\n",
              "\n",
              "      .colab-df-generate:hover {\n",
              "        background-color: #E2EBFA;\n",
              "        box-shadow: 0px 1px 2px rgba(60, 64, 67, 0.3), 0px 1px 3px 1px rgba(60, 64, 67, 0.15);\n",
              "        fill: #174EA6;\n",
              "      }\n",
              "\n",
              "      [theme=dark] .colab-df-generate {\n",
              "        background-color: #3B4455;\n",
              "        fill: #D2E3FC;\n",
              "      }\n",
              "\n",
              "      [theme=dark] .colab-df-generate:hover {\n",
              "        background-color: #434B5C;\n",
              "        box-shadow: 0px 1px 3px 1px rgba(0, 0, 0, 0.15);\n",
              "        filter: drop-shadow(0px 1px 2px rgba(0, 0, 0, 0.3));\n",
              "        fill: #FFFFFF;\n",
              "      }\n",
              "    </style>\n",
              "    <button class=\"colab-df-generate\" onclick=\"generateWithVariable('pt')\"\n",
              "            title=\"Generate code using this dataframe.\"\n",
              "            style=\"display:none;\">\n",
              "\n",
              "  <svg xmlns=\"http://www.w3.org/2000/svg\" height=\"24px\"viewBox=\"0 0 24 24\"\n",
              "       width=\"24px\">\n",
              "    <path d=\"M7,19H8.4L18.45,9,17,7.55,7,17.6ZM5,21V16.75L18.45,3.32a2,2,0,0,1,2.83,0l1.4,1.43a1.91,1.91,0,0,1,.58,1.4,1.91,1.91,0,0,1-.58,1.4L9.25,21ZM18.45,9,17,7.55Zm-12,3A5.31,5.31,0,0,0,4.9,8.1,5.31,5.31,0,0,0,1,6.5,5.31,5.31,0,0,0,4.9,4.9,5.31,5.31,0,0,0,6.5,1,5.31,5.31,0,0,0,8.1,4.9,5.31,5.31,0,0,0,12,6.5,5.46,5.46,0,0,0,6.5,12Z\"/>\n",
              "  </svg>\n",
              "    </button>\n",
              "    <script>\n",
              "      (() => {\n",
              "      const buttonEl =\n",
              "        document.querySelector('#id_d33a6021-c73c-47a3-b209-75a0f6963c4f button.colab-df-generate');\n",
              "      buttonEl.style.display =\n",
              "        google.colab.kernel.accessAllowed ? 'block' : 'none';\n",
              "\n",
              "      buttonEl.onclick = () => {\n",
              "        google.colab.notebook.generateWithVariable('pt');\n",
              "      }\n",
              "      })();\n",
              "    </script>\n",
              "  </div>\n",
              "\n",
              "    </div>\n",
              "  </div>\n"
            ],
            "application/vnd.google.colaboratory.intrinsic+json": {
              "type": "dataframe",
              "variable_name": "pt",
              "summary": "{\n  \"name\": \"pt\",\n  \"rows\": 7,\n  \"fields\": [\n    {\n      \"column\": \"class\",\n      \"properties\": {\n        \"dtype\": \"string\",\n        \"num_unique_values\": 7,\n        \"samples\": [\n          \"Background\",\n          \"Hand_In_Shelf\",\n          \"Retract_From_Shelf\"\n        ],\n        \"semantic_type\": \"\",\n        \"description\": \"\"\n      }\n    },\n    {\n      \"column\": \"test\",\n      \"properties\": {\n        \"dtype\": \"number\",\n        \"std\": 7627,\n        \"min\": 1054,\n        \"max\": 23577,\n        \"num_unique_values\": 7,\n        \"samples\": [\n          1054,\n          3400,\n          3817\n        ],\n        \"semantic_type\": \"\",\n        \"description\": \"\"\n      }\n    },\n    {\n      \"column\": \"train\",\n      \"properties\": {\n        \"dtype\": \"number\",\n        \"std\": 15884,\n        \"min\": 2368,\n        \"max\": 48939,\n        \"num_unique_values\": 7,\n        \"samples\": [\n          2368,\n          4473,\n          8704\n        ],\n        \"semantic_type\": \"\",\n        \"description\": \"\"\n      }\n    },\n    {\n      \"column\": \"val\",\n      \"properties\": {\n        \"dtype\": \"number\",\n        \"std\": 5452,\n        \"min\": 763,\n        \"max\": 16441,\n        \"num_unique_values\": 7,\n        \"samples\": [\n          763,\n          1118,\n          2460\n        ],\n        \"semantic_type\": \"\",\n        \"description\": \"\"\n      }\n    },\n    {\n      \"column\": \"total\",\n      \"properties\": {\n        \"dtype\": \"number\",\n        \"std\": 28920,\n        \"min\": 4185,\n        \"max\": 88957,\n        \"num_unique_values\": 7,\n        \"samples\": [\n          4185,\n          8991,\n          14981\n        ],\n        \"semantic_type\": \"\",\n        \"description\": \"\"\n      }\n    }\n  ]\n}"
            }
          },
          "metadata": {}
        },
        {
          "output_type": "stream",
          "name": "stdout",
          "text": [
            "\n",
            "[OK] CSV kaydedildi → /content/drive/MyDrive/TURKCELL-CodeFem3/MERL_WORK_DRIVE/label_analysis/split_image_counts_20251014_174326.csv\n"
          ]
        },
        {
          "output_type": "display_data",
          "data": {
            "text/plain": [
              "<Figure size 1000x500 with 0 Axes>"
            ]
          },
          "metadata": {}
        },
        {
          "output_type": "display_data",
          "data": {
            "text/plain": [
              "<Figure size 640x480 with 1 Axes>"
            ],
            "image/png": "[encoded data removed]"
          },
          "metadata": {}
        },
        {
          "output_type": "stream",
          "name": "stdout",
          "text": [
            "\n",
            "Örnek dosyalar (val/Inspect_Product):\n",
            " - /content/MERL_WORK_LOCAL/dataset_cls/val/Inspect_Product/21_1_crop_f000497.jpg\n",
            " - /content/MERL_WORK_LOCAL/dataset_cls/val/Inspect_Product/21_1_crop_f000499.jpg\n",
            " - /content/MERL_WORK_LOCAL/dataset_cls/val/Inspect_Product/21_1_crop_f000501.jpg\n",
            " - /content/MERL_WORK_LOCAL/dataset_cls/val/Inspect_Product/21_1_crop_f000503.jpg\n",
            " - /content/MERL_WORK_LOCAL/dataset_cls/val/Inspect_Product/21_1_crop_f000505.jpg\n",
            "\n",
            "Örnek dosyalar (test/Background):\n",
            " - /content/MERL_WORK_LOCAL/dataset_cls/test/Background/27_1_crop_f000011.jpg\n",
            " - /content/MERL_WORK_LOCAL/dataset_cls/test/Background/27_1_crop_f000023.jpg\n",
            " - /content/MERL_WORK_LOCAL/dataset_cls/test/Background/27_1_crop_f000035.jpg\n",
            " - /content/MERL_WORK_LOCAL/dataset_cls/test/Background/27_1_crop_f000047.jpg\n",
            " - /content/MERL_WORK_LOCAL/dataset_cls/test/Background/27_1_crop_f000059.jpg\n"
          ]
        }
      ]
    },
    {
      "cell_type": "markdown",
      "source": [
        "# **TRAIN**"
      ],
      "metadata": {
        "id": "ViZqD-FYcYlf"
      }
    },
    {
      "cell_type": "markdown",
      "source": [
        "**TRAIN WITH THE DATASET FROM COLAB LOCAL (EARLY STOPPING)**"
      ],
      "metadata": {
        "id": "fmSui6QKMJph"
      }
    },
    {
      "cell_type": "code",
      "source": [
        "# ============================\n",
        "# TRAIN (LOCAL DATASET + EARLY STOP)\n",
        "# ============================\n",
        "!pip -q install ultralytics\n",
        "\n",
        "import os, shutil, gc\n",
        "from datetime import datetime\n",
        "\n",
        "# Drive sadece çıktı kopyalamak için (best.pt vs.)\n",
        "from google.colab import drive\n",
        "try:\n",
        "    drive.mount('/content/drive')\n",
        "except Exception:\n",
        "    drive.mount('/content/drive', force_remount=True)\n",
        "\n",
        "# ---- Yollar ----\n",
        "DATASET_CLS = \"/content/MERL_WORK_LOCAL/dataset_cls\"   # PREP (LOCAL) hücresinden gelen dataset\n",
        "RUNS_LOCAL  = \"/content/YOLOCLS_runs_local\"            # Ultralytics runs/ (LOCAL)\n",
        "OUT_DRIVE   = \"/content/drive/MyDrive/TURKCELL-CodeFem3/Outputs_MERL_YOLOCLS\"  # best.pt + sonuçlar\n",
        "os.makedirs(RUNS_LOCAL, exist_ok=True)\n",
        "os.makedirs(OUT_DRIVE,  exist_ok=True)\n",
        "\n",
        "assert os.path.isdir(DATASET_CLS), \"Dataset bulunamadı: /content/MERL_WORK_LOCAL/dataset_cls (Önce PREP (LOCAL) hücresini çalıştır.)\"\n",
        "\n",
        "# ---- Hiperparametreler ----\n",
        "IMG_SIZE = 224      # bir tık daha iyi doğruluk için 224\n",
        "BATCH    = 32       # GPU'na göre artır/azalt\n",
        "WORKERS  = 2        # LOCAL disk hızlı -> 2 makul; OOM olursa 0 yap\n",
        "EPOCHS   = 60\n",
        "PATIENCE = 10       # <<< Erken durdurma AÇIK\n",
        "\n",
        "from ultralytics import YOLO\n",
        "import torch, glob\n",
        "\n",
        "gc.collect()\n",
        "try:\n",
        "    torch.cuda.empty_cache()\n",
        "except:\n",
        "    pass\n",
        "\n",
        "# ---- Model checkpoint fallback (12 -> 11 -> 8) ----\n",
        "model = None\n",
        "for ckpt in [\"yolo12n-cls.pt\",\"yolo11n-cls.pt\",\"yolov8n-cls.pt\"]:\n",
        "    try:\n",
        "        model = YOLO(ckpt)\n",
        "        print(\"Using\", ckpt)\n",
        "        break\n",
        "    except Exception as e:\n",
        "        print(\"Cannot load\", ckpt, \"->\", e)\n",
        "assert model is not None\n",
        "\n",
        "ts = datetime.now().strftime(\"%Y%m%d_%H%M%S\")\n",
        "run_name = f\"train_{ts}\"\n",
        "\n",
        "# ---- Eğitim ----\n",
        "results = model.train(\n",
        "    data=DATASET_CLS,   # root: train/ val/ test/ altında sınıf klasörleri\n",
        "    epochs=EPOCHS,\n",
        "    imgsz=IMG_SIZE,\n",
        "    batch=BATCH,\n",
        "    workers=WORKERS,\n",
        "    cache=False,        # RAM şişirmesin\n",
        "    patience=PATIENCE,  # <<< EarlyStopping ON\n",
        "    amp=False,          # NaN/Inf riskini azalt\n",
        "    lr0=5e-4,\n",
        "    mixup=0.0,\n",
        "    cutmix=0.0,\n",
        "    optimizer='AdamW',\n",
        "    seed=0,\n",
        "    device=0,\n",
        "    project=RUNS_LOCAL, # runs -> LOCAL\n",
        "    name=run_name,\n",
        "    verbose=True\n",
        ")\n",
        "\n",
        "# ---- En iyi ağırlıkları ve sonuç dosyalarını Drive'a kopyala ----\n",
        "run_dir   = os.path.join(RUNS_LOCAL, run_name)\n",
        "best_src  = os.path.join(run_dir, \"weights\", \"best.pt\")\n",
        "last_src  = os.path.join(run_dir, \"weights\", \"last.pt\")\n",
        "csv_src   = os.path.join(run_dir, \"results.csv\")  # Ultralytics sonuç CSV\n",
        "\n",
        "best_dst  = os.path.join(OUT_DRIVE, f\"best_from_train_{ts}.pt\")\n",
        "last_dst  = os.path.join(OUT_DRIVE, f\"last_from_train_{ts}.pt\")\n",
        "csv_dst   = os.path.join(OUT_DRIVE, f\"results_{ts}.csv\")\n",
        "\n",
        "if os.path.exists(best_src):\n",
        "    shutil.copy2(best_src, best_dst)\n",
        "    print(\"✓ BEST copied to Drive ->\", best_dst)\n",
        "else:\n",
        "    print(\"! best.pt bulunamadı:\", best_src)\n",
        "\n",
        "if os.path.exists(last_src):\n",
        "    shutil.copy2(last_src, last_dst)\n",
        "    print(\"✓ LAST copied to Drive ->\", last_dst)\n",
        "\n",
        "if os.path.exists(csv_src):\n",
        "    shutil.copy2(csv_src, csv_dst)\n",
        "    print(\"✓ results.csv copied to Drive ->\", csv_dst)\n",
        "\n",
        "print(\"TRAIN bitti ✅  EarlyStopping =\",\n",
        "      PATIENCE, \"| Çıkış klasörü (LOCAL):\", run_dir)\n"
      ],
      "metadata": {
        "colab": {
          "base_uri": "https://localhost:8080/"
        },
        "id": "8Rdu3WE7MFWw",
        "outputId": "b3708b5e-dd68-49bc-e66e-621b42b5e8e8"
      },
      "execution_count": null,
      "outputs": [
        {
          "output_type": "stream",
          "name": "stdout",
          "text": [
            "\u001b[?25l   \u001b[90m━━━━━━━━━━━━━━━━━━━━━━━━━━━━━━━━━━━━━━━━\u001b[0m \u001b[32m0.0/1.1 MB\u001b[0m \u001b[31m?\u001b[0m eta \u001b[36m-:--:--\u001b[0m\r\u001b[2K   \u001b[90m━━━━━━━━━━━━━━━━━━━━━━━━━━━━━━━━━━━━━━━━\u001b[0m \u001b[32m1.1/1.1 MB\u001b[0m \u001b[31m71.6 MB/s\u001b[0m eta \u001b[36m0:00:00\u001b[0m\n",
            "\u001b[?25hDrive already mounted at /content/drive; to attempt to forcibly remount, call drive.mount(\"/content/drive\", force_remount=True).\n",
            "Creating new Ultralytics Settings v0.0.6 file ✅ \n",
            "View Ultralytics Settings with 'yolo settings' or at '/root/.config/Ultralytics/settings.json'\n",
            "Update Settings with 'yolo settings key=value', i.e. 'yolo settings runs_dir=path/to/dir'. For help see https://docs.ultralytics.com/quickstart/#ultralytics-settings.\n",
            "Cannot load yolo12n-cls.pt -> [Errno 2] No such file or directory: 'yolo12n-cls.pt'\n",
            "\u001b[KDownloading https://github.com/ultralytics/assets/releases/download/v8.3.0/yolo11n-cls.pt to 'yolo11n-cls.pt': 100% ━━━━━━━━━━━━ 5.5MB 366.7MB/s 0.0s\n",
            "Using yolo11n-cls.pt\n",
            "Ultralytics 8.3.214 🚀 Python-3.12.12 torch-2.8.0+cu126 CUDA:0 (NVIDIA A100-SXM4-80GB, 81222MiB)\n",
            "\u001b[34m\u001b[1mengine/trainer: \u001b[0magnostic_nms=False, amp=False, augment=False, auto_augment=randaugment, batch=32, bgr=0.0, box=7.5, cache=False, cfg=None, classes=None, close_mosaic=10, cls=0.5, compile=False, conf=None, copy_paste=0.0, copy_paste_mode=flip, cos_lr=False, cutmix=0.0, data=/content/MERL_WORK_LOCAL/dataset_cls, degrees=0.0, deterministic=True, device=0, dfl=1.5, dnn=False, dropout=0.0, dynamic=False, embed=None, epochs=60, erasing=0.4, exist_ok=False, fliplr=0.5, flipud=0.0, format=torchscript, fraction=1.0, freeze=None, half=False, hsv_h=0.015, hsv_s=0.7, hsv_v=0.4, imgsz=224, int8=False, iou=0.7, keras=False, kobj=1.0, line_width=None, lr0=0.0005, lrf=0.01, mask_ratio=4, max_det=300, mixup=0.0, mode=train, model=yolo11n-cls.pt, momentum=0.937, mosaic=1.0, multi_scale=False, name=train_20251014_174721, nbs=64, nms=False, opset=None, optimize=False, optimizer=AdamW, overlap_mask=True, patience=10, perspective=0.0, plots=True, pose=12.0, pretrained=True, profile=False, project=/content/YOLOCLS_runs_local, rect=False, resume=False, retina_masks=False, save=True, save_conf=False, save_crop=False, save_dir=/content/YOLOCLS_runs_local/train_20251014_174721, save_frames=False, save_json=False, save_period=-1, save_txt=False, scale=0.5, seed=0, shear=0.0, show=False, show_boxes=True, show_conf=True, show_labels=True, simplify=True, single_cls=False, source=None, split=val, stream_buffer=False, task=classify, time=None, tracker=botsort.yaml, translate=0.1, val=True, verbose=True, vid_stride=1, visualize=False, warmup_bias_lr=0.1, warmup_epochs=3.0, warmup_momentum=0.8, weight_decay=0.0005, workers=2, workspace=None\n",
            "\u001b[34m\u001b[1mtrain:\u001b[0m /content/MERL_WORK_LOCAL/dataset_cls/train... found 48939 images in 6 classes ✅ \n",
            "\u001b[34m\u001b[1mval:\u001b[0m /content/MERL_WORK_LOCAL/dataset_cls/val... found 16441 images in 6 classes ✅ \n",
            "\u001b[34m\u001b[1mtest:\u001b[0m /content/MERL_WORK_LOCAL/dataset_cls/test... found 23577 images in 6 classes ✅ \n",
            "Overriding model.yaml nc=80 with nc=6\n",
            "\n",
            "                   from  n    params  module                                       arguments                     \n",
            "  0                  -1  1       464  ultralytics.nn.modules.conv.Conv             [3, 16, 3, 2]                 \n",
            "  1                  -1  1      4672  ultralytics.nn.modules.conv.Conv             [16, 32, 3, 2]                \n",
            "  2                  -1  1      6640  ultralytics.nn.modules.block.C3k2            [32, 64, 1, False, 0.25]      \n",
            "  3                  -1  1     36992  ultralytics.nn.modules.conv.Conv             [64, 64, 3, 2]                \n",
            "  4                  -1  1     26080  ultralytics.nn.modules.block.C3k2            [64, 128, 1, False, 0.25]     \n",
            "  5                  -1  1    147712  ultralytics.nn.modules.conv.Conv             [128, 128, 3, 2]              \n",
            "  6                  -1  1     87040  ultralytics.nn.modules.block.C3k2            [128, 128, 1, True]           \n",
            "  7                  -1  1    295424  ultralytics.nn.modules.conv.Conv             [128, 256, 3, 2]              \n",
            "  8                  -1  1    346112  ultralytics.nn.modules.block.C3k2            [256, 256, 1, True]           \n",
            "  9                  -1  1    249728  ultralytics.nn.modules.block.C2PSA           [256, 256, 1]                 \n",
            " 10                  -1  1    337926  ultralytics.nn.modules.head.Classify         [256, 6]                      \n",
            "YOLO11n-cls summary: 86 layers, 1,538,790 parameters, 1,538,790 gradients, 3.3 GFLOPs\n",
            "Transferred 234/236 items from pretrained weights\n",
            "\u001b[34m\u001b[1mtrain: \u001b[0mFast image access ✅ (ping: 0.0±0.0 ms, read: 2642.7±742.9 MB/s, size: 119.9 KB)\n",
            "\u001b[K\u001b[34m\u001b[1mtrain: \u001b[0mScanning /content/MERL_WORK_LOCAL/dataset_cls/train... 48939 images, 0 corrupt: 100% ━━━━━━━━━━━━ 48939/48939 3.5Kit/s 13.8s\n",
            "\u001b[34m\u001b[1mtrain: \u001b[0mNew cache created: /content/MERL_WORK_LOCAL/dataset_cls/train.cache\n",
            "\u001b[34m\u001b[1mval: \u001b[0mFast image access ✅ (ping: 0.0±0.0 ms, read: 2393.0±1020.6 MB/s, size: 122.2 KB)\n",
            "\u001b[K\u001b[34m\u001b[1mval: \u001b[0mScanning /content/MERL_WORK_LOCAL/dataset_cls/val... 16441 images, 0 corrupt: 100% ━━━━━━━━━━━━ 16441/16441 3.3Kit/s 5.0s\n",
            "\u001b[34m\u001b[1mval: \u001b[0mNew cache created: /content/MERL_WORK_LOCAL/dataset_cls/val.cache\n",
            "\u001b[34m\u001b[1moptimizer:\u001b[0m AdamW(lr=0.0005, momentum=0.937) with parameter groups 39 weight(decay=0.0), 40 weight(decay=0.0005), 40 bias(decay=0.0)\n",
            "Image sizes 224 train, 224 val\n",
            "Using 2 dataloader workers\n",
            "Logging results to \u001b[1m/content/YOLOCLS_runs_local/train_20251014_174721\u001b[0m\n",
            "Starting training for 60 epochs...\n",
            "\n",
            "      Epoch    GPU_mem       loss  Instances       Size\n",
            "\u001b[KDownloading https://ultralytics.com/assets/Arial.ttf to '/root/.config/Ultralytics/Arial.ttf': 100% ━━━━━━━━━━━━ 755.1KB 78.2MB/s 0.0s\n",
            "\u001b[K       1/60     0.723G      1.672         11        224: 100% ━━━━━━━━━━━━ 1530/1530 5.6it/s 4:33\n",
            "\u001b[K               classes   top1_acc   top5_acc: 100% ━━━━━━━━━━━━ 257/257 3.2it/s 1:20\n",
            "                   all      0.238      0.948\n",
            "\n",
            "      Epoch    GPU_mem       loss  Instances       Size\n",
            "\u001b[K       2/60     0.904G      1.616         11        224: 100% ━━━━━━━━━━━━ 1530/1530 5.7it/s 4:29\n",
            "\u001b[K               classes   top1_acc   top5_acc: 100% ━━━━━━━━━━━━ 257/257 3.2it/s 1:20\n",
            "                   all      0.315      0.951\n",
            "\n",
            "      Epoch    GPU_mem       loss  Instances       Size\n",
            "\u001b[K       3/60     0.914G       1.57         11        224: 100% ━━━━━━━━━━━━ 1530/1530 5.7it/s 4:29\n",
            "\u001b[K               classes   top1_acc   top5_acc: 100% ━━━━━━━━━━━━ 257/257 3.2it/s 1:19\n",
            "                   all      0.296      0.947\n",
            "\n",
            "      Epoch    GPU_mem       loss  Instances       Size\n",
            "\u001b[K       4/60     0.922G      1.527         11        224: 100% ━━━━━━━━━━━━ 1530/1530 5.7it/s 4:31\n",
            "\u001b[K               classes   top1_acc   top5_acc: 100% ━━━━━━━━━━━━ 257/257 3.2it/s 1:21\n",
            "                   all      0.293      0.939\n",
            "\n",
            "      Epoch    GPU_mem       loss  Instances       Size\n",
            "\u001b[K       5/60      0.93G      1.482         11        224: 100% ━━━━━━━━━━━━ 1530/1530 5.7it/s 4:28\n",
            "\u001b[K               classes   top1_acc   top5_acc: 100% ━━━━━━━━━━━━ 257/257 3.2it/s 1:19\n",
            "                   all      0.277       0.93\n",
            "\n",
            "      Epoch    GPU_mem       loss  Instances       Size\n",
            "\u001b[K       6/60     0.939G      1.439         11        224: 100% ━━━━━━━━━━━━ 1530/1530 5.7it/s 4:29\n",
            "\u001b[K               classes   top1_acc   top5_acc: 100% ━━━━━━━━━━━━ 257/257 3.2it/s 1:20\n",
            "                   all      0.257       0.92\n",
            "\n",
            "      Epoch    GPU_mem       loss  Instances       Size\n",
            "\u001b[K       7/60     0.947G      1.403         11        224: 100% ━━━━━━━━━━━━ 1530/1530 5.7it/s 4:31\n",
            "\u001b[K               classes   top1_acc   top5_acc: 100% ━━━━━━━━━━━━ 257/257 3.2it/s 1:20\n",
            "                   all      0.249      0.915\n",
            "\n",
            "      Epoch    GPU_mem       loss  Instances       Size\n",
            "\u001b[K       8/60     0.957G      1.367         11        224: 100% ━━━━━━━━━━━━ 1530/1530 5.6it/s 4:33\n",
            "\u001b[K               classes   top1_acc   top5_acc: 100% ━━━━━━━━━━━━ 257/257 3.2it/s 1:21\n",
            "                   all       0.26      0.892\n",
            "\n",
            "      Epoch    GPU_mem       loss  Instances       Size\n",
            "\u001b[K       9/60     0.965G      1.332         11        224: 100% ━━━━━━━━━━━━ 1530/1530 5.6it/s 4:32\n",
            "\u001b[K               classes   top1_acc   top5_acc: 100% ━━━━━━━━━━━━ 257/257 3.2it/s 1:21\n",
            "                   all      0.233      0.886\n",
            "\n",
            "      Epoch    GPU_mem       loss  Instances       Size\n",
            "\u001b[K      10/60     0.975G      1.301         11        224: 100% ━━━━━━━━━━━━ 1530/1530 5.7it/s 4:30\n",
            "\u001b[K               classes   top1_acc   top5_acc: 100% ━━━━━━━━━━━━ 257/257 3.2it/s 1:20\n",
            "                   all      0.242      0.886\n",
            "\n",
            "      Epoch    GPU_mem       loss  Instances       Size\n",
            "\u001b[K      11/60     0.982G      1.267         11        224: 100% ━━━━━━━━━━━━ 1530/1530 5.7it/s 4:29\n",
            "\u001b[K               classes   top1_acc   top5_acc: 100% ━━━━━━━━━━━━ 257/257 3.2it/s 1:20\n",
            "                   all      0.244      0.884\n",
            "\n",
            "      Epoch    GPU_mem       loss  Instances       Size\n",
            "\u001b[K      12/60     0.992G      1.238         11        224: 100% ━━━━━━━━━━━━ 1530/1530 5.7it/s 4:29\n",
            "\u001b[K               classes   top1_acc   top5_acc: 100% ━━━━━━━━━━━━ 257/257 3.2it/s 1:20\n",
            "                   all      0.234      0.873\n",
            "\u001b[34m\u001b[1mEarlyStopping: \u001b[0mTraining stopped early as no improvement observed in last 10 epochs. Best results observed at epoch 2, best model saved as best.pt.\n",
            "To update EarlyStopping(patience=10) pass a new patience value, i.e. `patience=300` or use `patience=0` to disable EarlyStopping.\n",
            "\n",
            "12 epochs completed in 1.168 hours.\n",
            "Optimizer stripped from /content/YOLOCLS_runs_local/train_20251014_174721/weights/last.pt, 3.2MB\n",
            "Optimizer stripped from /content/YOLOCLS_runs_local/train_20251014_174721/weights/best.pt, 3.2MB\n",
            "\n",
            "Validating /content/YOLOCLS_runs_local/train_20251014_174721/weights/best.pt...\n",
            "Ultralytics 8.3.214 🚀 Python-3.12.12 torch-2.8.0+cu126 CUDA:0 (NVIDIA A100-SXM4-80GB, 81222MiB)\n",
            "YOLO11n-cls summary (fused): 47 layers, 1,533,710 parameters, 0 gradients, 3.2 GFLOPs\n",
            "\u001b[34m\u001b[1mtrain:\u001b[0m /content/MERL_WORK_LOCAL/dataset_cls/train... found 48939 images in 6 classes ✅ \n",
            "\u001b[34m\u001b[1mval:\u001b[0m /content/MERL_WORK_LOCAL/dataset_cls/val... found 16441 images in 6 classes ✅ \n",
            "\u001b[34m\u001b[1mtest:\u001b[0m /content/MERL_WORK_LOCAL/dataset_cls/test... found 23577 images in 6 classes ✅ \n",
            "\u001b[K               classes   top1_acc   top5_acc: 100% ━━━━━━━━━━━━ 257/257 3.2it/s 1:21\n",
            "                   all      0.315      0.951\n",
            "Speed: 0.1ms preprocess, 0.1ms inference, 0.0ms loss, 0.0ms postprocess per image\n",
            "Results saved to \u001b[1m/content/YOLOCLS_runs_local/train_20251014_174721\u001b[0m\n",
            "✓ BEST copied to Drive -> /content/drive/MyDrive/TURKCELL-CodeFem3/Outputs_MERL_YOLOCLS/best_from_train_20251014_174721.pt\n",
            "✓ LAST copied to Drive -> /content/drive/MyDrive/TURKCELL-CodeFem3/Outputs_MERL_YOLOCLS/last_from_train_20251014_174721.pt\n",
            "✓ results.csv copied to Drive -> /content/drive/MyDrive/TURKCELL-CodeFem3/Outputs_MERL_YOLOCLS/results_20251014_174721.csv\n",
            "TRAIN bitti ✅  EarlyStopping = 10 | Çıkış klasörü (LOCAL): /content/YOLOCLS_runs_local/train_20251014_174721\n"
          ]
        }
      ]
    },
    {
      "cell_type": "markdown",
      "source": [
        "# **VALIDATION**"
      ],
      "metadata": {
        "id": "pJjmRr_Hca44"
      }
    },
    {
      "cell_type": "code",
      "source": [
        "# ============================\n",
        "# VAL ONLY (LOCAL DATASET) — evaluate on val/\n",
        "# ============================\n",
        "!pip -q install ultralytics\n",
        "\n",
        "import os, shutil, glob, gc\n",
        "from datetime import datetime\n",
        "\n",
        "# Dataset ve çıktı yolları\n",
        "DATASET_CLS = \"/content/MERL_WORK_LOCAL/dataset_cls\"     # PREP (LOCAL)'den\n",
        "RUNS_LOCAL  = \"/content/YOLOCLS_runs_local\"              # Ultralytics runs/ (LOCAL)\n",
        "OUT_DRIVE   = \"/content/drive/MyDrive/TURKCELL-CodeFem3/Outputs_MERL_YOLOCLS\"  # rapor/figür kopyası\n",
        "os.makedirs(RUNS_LOCAL, exist_ok=True)\n",
        "os.makedirs(OUT_DRIVE,  exist_ok=True)\n",
        "\n",
        "assert os.path.isdir(DATASET_CLS), \"Dataset yok: /content/MERL_WORK_LOCAL/dataset_cls\"\n",
        "\n",
        "# Hiperparametreler (eğitimle uyumlu tut)\n",
        "IMG_SIZE = 224\n",
        "BATCH    = 32\n",
        "WORKERS  = 2   # OOM olursa 0 yap\n",
        "\n",
        "from ultralytics import YOLO\n",
        "import torch, json\n",
        "gc.collect()\n",
        "try: torch.cuda.empty_cache()\n",
        "except: pass\n",
        "\n",
        "def _latest_train_best(runs_root):\n",
        "    \"\"\"En son train_* klasörünü bulup weights/best.pt döndürür.\"\"\"\n",
        "    if not os.path.isdir(runs_root):\n",
        "        return None\n",
        "    trains = sorted(\n",
        "        [d for d in glob.glob(os.path.join(runs_root, \"train_*\")) if os.path.isdir(d)],\n",
        "        key=lambda p: os.path.getmtime(p),\n",
        "        reverse=True\n",
        "    )\n",
        "    for tdir in trains:\n",
        "        cand = os.path.join(tdir, \"weights\", \"best.pt\")\n",
        "        if os.path.exists(cand):\n",
        "            return cand\n",
        "    return None\n",
        "\n",
        "def _latest_drive_best(out_drive):\n",
        "    \"\"\"Drive’daki Outputs_MERL_YOLOCLS altındaki en güncel best_from_train_*.pt’yi döndürür.\"\"\"\n",
        "    cands = sorted(\n",
        "        glob.glob(os.path.join(out_drive, \"best_from_train_*.pt\")),\n",
        "        key=lambda p: os.path.getmtime(p),\n",
        "        reverse=True\n",
        "    )\n",
        "    return cands[0] if cands else None\n",
        "\n",
        "# 1) Checkpoint seçimi: LOCAL -> DRIVE fallback\n",
        "CKPT = _latest_train_best(RUNS_LOCAL)\n",
        "if CKPT is None:\n",
        "    CKPT = _latest_drive_best(OUT_DRIVE)\n",
        "assert CKPT is not None, \"Checkpoint bulunamadı! Önce TRAIN hücresini çalıştırın.\"\n",
        "\n",
        "print(\"Using checkpoint:\", CKPT)\n",
        "model = YOLO(CKPT)\n",
        "\n",
        "# 2) Val çalıştır\n",
        "ts = datetime.now().strftime(\"%Y%m%d_%H%M%S\")\n",
        "val_name = f\"val_{ts}\"\n",
        "\n",
        "results = model.val(\n",
        "    data=DATASET_CLS,      # kök klasör: train/ val/ test/ yapısı\n",
        "    split='val',           # sadece val/\n",
        "    imgsz=IMG_SIZE,\n",
        "    batch=BATCH,\n",
        "    workers=WORKERS,\n",
        "    device=0,\n",
        "    project=RUNS_LOCAL,    # sonuçlar LOCAL'e\n",
        "    name=val_name,\n",
        "    verbose=True\n",
        ")\n",
        "\n",
        "# 3) Metrix kısa özet (uyumlu olanı yakala)\n",
        "top1 = top5 = None\n",
        "try:\n",
        "    # Ultralytics bazı versiyonlarda dict, bazılarında obj döndürebiliyor\n",
        "    m = getattr(results, \"metrics\", None)\n",
        "    if isinstance(m, dict):\n",
        "        top1 = m.get(\"accuracy_top1\", m.get(\"top1_acc\", None))\n",
        "        top5 = m.get(\"accuracy_top5\", m.get(\"top5_acc\", None))\n",
        "    else:\n",
        "        top1 = getattr(m, \"accuracy_top1\", getattr(m, \"top1_acc\", None))\n",
        "        top5 = getattr(m, \"accuracy_top5\", getattr(m, \"top5_acc\", None))\n",
        "except Exception:\n",
        "    pass\n",
        "\n",
        "print(f\"\\nVAL summary -> top1: {top1} | top5: {top5}\")\n",
        "\n",
        "# 4) Çıktıları Drive’a kopyala (val run klasöründeki faydalı dosyalar)\n",
        "val_dir = os.path.join(RUNS_LOCAL, val_name)\n",
        "assert os.path.isdir(val_dir), f\"Val klasörü bulunamadı: {val_dir}\"\n",
        "\n",
        "VAL_OUT = os.path.join(OUT_DRIVE, f\"VAL_{ts}\")\n",
        "os.makedirs(VAL_OUT, exist_ok=True)\n",
        "\n",
        "# Yaygın dosyaları topla: csv/json/png/jpg\n",
        "patterns = [\"*.csv\", \"*.json\", \"*.png\", \"*.jpg\", \"*.jpeg\", \"*.txt\"]\n",
        "copied = []\n",
        "for pat in patterns:\n",
        "    for f in glob.glob(os.path.join(val_dir, pat)):\n",
        "        try:\n",
        "            shutil.copy2(f, os.path.join(VAL_OUT, os.path.basename(f)))\n",
        "            copied.append(os.path.basename(f))\n",
        "        except Exception as e:\n",
        "            print(\"Copy skip:\", f, \"->\", e)\n",
        "\n",
        "# weights/best.pt de varsa (bazı sürümlerde val yeni beste çıkarmaz), bilgi için kopyala\n",
        "w_best = os.path.join(val_dir, \"weights\", \"best.pt\")\n",
        "if os.path.exists(w_best):\n",
        "    shutil.copy2(w_best, os.path.join(VAL_OUT, f\"best_from_val_{ts}.pt\"))\n",
        "    copied.append(f\"best_from_val_{ts}.pt\")\n",
        "\n",
        "print(\"\\nVAL tamam ✅\")\n",
        "print(\"Local run dir:\", val_dir)\n",
        "print(\"Drive export :\", VAL_OUT)\n",
        "print(\"Exported files:\", copied)\n"
      ],
      "metadata": {
        "colab": {
          "base_uri": "https://localhost:8080/"
        },
        "id": "HoF_-f66ccag",
        "outputId": "0b1d8216-645f-4538-8356-b13e85385aee"
      },
      "execution_count": null,
      "outputs": [
        {
          "output_type": "stream",
          "name": "stdout",
          "text": [
            "Using checkpoint: /content/YOLOCLS_runs_local/train_20251014_174721/weights/best.pt\n",
            "Ultralytics 8.3.214 🚀 Python-3.12.12 torch-2.8.0+cu126 CUDA:0 (NVIDIA A100-SXM4-80GB, 81222MiB)\n",
            "YOLO11n-cls summary (fused): 47 layers, 1,533,710 parameters, 0 gradients, 3.2 GFLOPs\n",
            "\u001b[34m\u001b[1mtrain:\u001b[0m /content/MERL_WORK_LOCAL/dataset_cls/train... found 48939 images in 6 classes ✅ \n",
            "\u001b[34m\u001b[1mval:\u001b[0m /content/MERL_WORK_LOCAL/dataset_cls/val... found 16441 images in 6 classes ✅ \n",
            "\u001b[34m\u001b[1mtest:\u001b[0m /content/MERL_WORK_LOCAL/dataset_cls/test... found 23577 images in 6 classes ✅ \n",
            "\u001b[34m\u001b[1mval: \u001b[0mFast image access ✅ (ping: 0.0±0.0 ms, read: 2596.2±1444.2 MB/s, size: 122.2 KB)\n",
            "\u001b[K\u001b[34m\u001b[1mval: \u001b[0mScanning /content/MERL_WORK_LOCAL/dataset_cls/val... 16441 images, 0 corrupt: 100% ━━━━━━━━━━━━ 16441/16441 28.0Mit/s 0.0s\n",
            "\u001b[K               classes   top1_acc   top5_acc: 100% ━━━━━━━━━━━━ 514/514 6.3it/s 1:21\n",
            "                   all      0.315      0.951\n",
            "Speed: 0.1ms preprocess, 0.2ms inference, 0.0ms loss, 0.0ms postprocess per image\n",
            "Results saved to \u001b[1m/content/YOLOCLS_runs_local/val_20251014_193732\u001b[0m\n",
            "\n",
            "VAL summary -> top1: None | top5: None\n",
            "\n",
            "VAL tamam ✅\n",
            "Local run dir: /content/YOLOCLS_runs_local/val_20251014_193732\n",
            "Drive export : /content/drive/MyDrive/TURKCELL-CodeFem3/Outputs_MERL_YOLOCLS/VAL_20251014_193732\n",
            "Exported files: ['confusion_matrix.png', 'confusion_matrix_normalized.png', 'val_batch0_labels.jpg', 'val_batch2_labels.jpg', 'val_batch0_pred.jpg', 'val_batch1_pred.jpg', 'val_batch1_labels.jpg', 'val_batch2_pred.jpg']\n"
          ]
        }
      ]
    },
    {
      "cell_type": "markdown",
      "source": [
        "# **TEST**"
      ],
      "metadata": {
        "id": "Ezqwpb55cc0j"
      }
    },
    {
      "cell_type": "code",
      "source": [
        "# ============================\n",
        "# TEST ONLY (LOCAL DATASET) — robust top1/top5 readout\n",
        "# ============================\n",
        "!pip -q install ultralytics\n",
        "\n",
        "import os, shutil, glob, gc, json\n",
        "from datetime import datetime\n",
        "\n",
        "# Yollar\n",
        "DATASET_CLS = \"/content/MERL_WORK_LOCAL/dataset_cls\"   # PREP (LOCAL) çıktısı\n",
        "RUNS_LOCAL  = \"/content/YOLOCLS_runs_local\"            # Ultralytics runs/ (LOCAL)\n",
        "OUT_DRIVE   = \"/content/drive/MyDrive/TURKCELL-CodeFem3/Outputs_MERL_YOLOCLS\"\n",
        "os.makedirs(RUNS_LOCAL, exist_ok=True)\n",
        "os.makedirs(OUT_DRIVE,  exist_ok=True)\n",
        "assert os.path.isdir(os.path.join(DATASET_CLS, \"test\")), \"Test split bulunamadı!\"\n",
        "\n",
        "# Hiperparametreler\n",
        "IMG_SIZE = 224\n",
        "BATCH    = 32\n",
        "WORKERS  = 2\n",
        "\n",
        "from ultralytics import YOLO\n",
        "import torch\n",
        "gc.collect()\n",
        "try: torch.cuda.empty_cache()\n",
        "except: pass\n",
        "\n",
        "def _latest_train_best(runs_root):\n",
        "    if not os.path.isdir(runs_root):\n",
        "        return None\n",
        "    trains = sorted(\n",
        "        [d for d in glob.glob(os.path.join(runs_root, \"train_*\")) if os.path.isdir(d)],\n",
        "        key=lambda p: os.path.getmtime(p),\n",
        "        reverse=True\n",
        "    )\n",
        "    for tdir in trains:\n",
        "        cand = os.path.join(tdir, \"weights\", \"best.pt\")\n",
        "        if os.path.exists(cand):\n",
        "            return cand\n",
        "    return None\n",
        "\n",
        "def _latest_drive_best(out_drive):\n",
        "    cands = sorted(\n",
        "        glob.glob(os.path.join(out_drive, \"best_from_train_*.pt\")),\n",
        "        key=lambda p: os.path.getmtime(p),\n",
        "        reverse=True\n",
        "    )\n",
        "    return cands[0] if cands else None\n",
        "\n",
        "# En güncel best.pt\n",
        "CKPT = _latest_train_best(RUNS_LOCAL) or _latest_drive_best(OUT_DRIVE)\n",
        "assert CKPT is not None, \"Checkpoint bulunamadı! Önce TRAIN hücresini çalıştırın.\"\n",
        "print(\"Using checkpoint:\", CKPT)\n",
        "\n",
        "model = YOLO(CKPT)\n",
        "\n",
        "ts = datetime.now().strftime(\"%Y%m%d_%H%M%S\")\n",
        "test_name = f\"test_{ts}\"\n",
        "\n",
        "# Değerlendirme (TEST split)\n",
        "res = model.val(\n",
        "    data=DATASET_CLS,\n",
        "    split='test',\n",
        "    imgsz=IMG_SIZE,\n",
        "    batch=BATCH,\n",
        "    workers=WORKERS,\n",
        "    device=0,\n",
        "    project=RUNS_LOCAL,\n",
        "    name=test_name,\n",
        "    verbose=True\n",
        ")\n",
        "\n",
        "# ---- Robust metrik yakalama (sürüm bağımsız) ----\n",
        "def _extract_metric(obj, candidates):\n",
        "    for path in candidates:\n",
        "        cur = obj\n",
        "        ok = True\n",
        "        for key in path:\n",
        "            if isinstance(cur, dict):\n",
        "                cur = cur.get(key, None)\n",
        "            else:\n",
        "                cur = getattr(cur, key, None)\n",
        "            if cur is None:\n",
        "                ok = False\n",
        "                break\n",
        "        if ok and cur is not None:\n",
        "            try:\n",
        "                return float(cur)\n",
        "            except Exception:\n",
        "                return cur\n",
        "    return None\n",
        "\n",
        "top1 = _extract_metric(\n",
        "    res,\n",
        "    [('metrics','top1'), ('metrics','top1_acc'), ('metrics','accuracy_top1'),\n",
        "     ('top1',), ('top1_acc',), ('accuracy_top1',)]\n",
        ")\n",
        "top5 = _extract_metric(\n",
        "    res,\n",
        "    [('metrics','top5'), ('metrics','top5_acc'), ('metrics','accuracy_top5'),\n",
        "     ('top5',), ('top5_acc',), ('accuracy_top5',)]\n",
        ")\n",
        "\n",
        "print(f\"\\nTEST summary (parsed) -> top1: {top1} | top5: {top5}\")\n",
        "\n",
        "# ---- Çıktıları Drive’a kopyala + metrikleri json olarak yaz ----\n",
        "test_dir = os.path.join(RUNS_LOCAL, test_name)\n",
        "TEST_OUT = os.path.join(OUT_DRIVE, f\"TEST_{ts}\")\n",
        "os.makedirs(TEST_OUT, exist_ok=True)\n",
        "\n",
        "# görseller/raporlar\n",
        "for pat in [\"*.csv\", \"*.json\", \"*.png\", \"*.jpg\", \"*.jpeg\", \"*.txt\"]:\n",
        "    for f in glob.glob(os.path.join(test_dir, pat)):\n",
        "        try: shutil.copy2(f, os.path.join(TEST_OUT, os.path.basename(f)))\n",
        "        except: pass\n",
        "\n",
        "# metrik json\n",
        "metrics_json = {\"top1\": top1, \"top5\": top5, \"imgsz\": IMG_SIZE, \"batch\": BATCH}\n",
        "with open(os.path.join(test_dir, \"metrics_manual.json\"), \"w\") as f:\n",
        "    json.dump(metrics_json, f, indent=2)\n",
        "shutil.copy2(os.path.join(test_dir, \"metrics_manual.json\"),\n",
        "             os.path.join(TEST_OUT, \"metrics_manual.json\"))\n",
        "\n",
        "print(\"\\nTEST tamam ✅\")\n",
        "print(\"Local run dir:\", test_dir)\n",
        "print(\"Drive export :\", TEST_OUT)\n"
      ],
      "metadata": {
        "colab": {
          "base_uri": "https://localhost:8080/"
        },
        "id": "TxVo-XoUcdiX",
        "outputId": "df97f236-df9a-4c35-ac40-c950daa05337"
      },
      "execution_count": null,
      "outputs": [
        {
          "output_type": "stream",
          "name": "stdout",
          "text": [
            "Using checkpoint: /content/YOLOCLS_runs_local/train_20251014_174721/weights/best.pt\n",
            "Ultralytics 8.3.214 🚀 Python-3.12.12 torch-2.8.0+cu126 CUDA:0 (NVIDIA A100-SXM4-80GB, 81222MiB)\n",
            "YOLO11n-cls summary (fused): 47 layers, 1,533,710 parameters, 0 gradients, 3.2 GFLOPs\n",
            "\u001b[34m\u001b[1mtrain:\u001b[0m /content/MERL_WORK_LOCAL/dataset_cls/train... found 48939 images in 6 classes ✅ \n",
            "\u001b[34m\u001b[1mval:\u001b[0m /content/MERL_WORK_LOCAL/dataset_cls/val... found 16441 images in 6 classes ✅ \n",
            "\u001b[34m\u001b[1mtest:\u001b[0m /content/MERL_WORK_LOCAL/dataset_cls/test... found 23577 images in 6 classes ✅ \n",
            "\u001b[34m\u001b[1mtest: \u001b[0mFast image access ✅ (ping: 0.0±0.0 ms, read: 2528.6±836.3 MB/s, size: 123.2 KB)\n",
            "\u001b[K\u001b[34m\u001b[1mtest: \u001b[0mScanning /content/MERL_WORK_LOCAL/dataset_cls/test... 23577 images, 0 corrupt: 100% ━━━━━━━━━━━━ 23577/23577 3.3Kit/s 7.2s\n",
            "\u001b[34m\u001b[1mtest: \u001b[0mNew cache created: /content/MERL_WORK_LOCAL/dataset_cls/test.cache\n",
            "\u001b[K               classes   top1_acc   top5_acc: 100% ━━━━━━━━━━━━ 737/737 6.3it/s 1:57\n",
            "                   all      0.276      0.941\n",
            "Speed: 0.1ms preprocess, 0.2ms inference, 0.0ms loss, 0.0ms postprocess per image\n",
            "Results saved to \u001b[1m/content/YOLOCLS_runs_local/test_20251014_194331\u001b[0m\n",
            "\n",
            "TEST summary (parsed) -> top1: 0.27620139718055725 | top5: 0.9410866498947144\n",
            "\n",
            "TEST tamam ✅\n",
            "Local run dir: /content/YOLOCLS_runs_local/test_20251014_194331\n",
            "Drive export : /content/drive/MyDrive/TURKCELL-CodeFem3/Outputs_MERL_YOLOCLS/TEST_20251014_194331\n"
          ]
        }
      ]
    },
    {
      "cell_type": "markdown",
      "source": [
        "# **TEST MODEL WITH A .MP4 VİDEO FILE**"
      ],
      "metadata": {
        "id": "55V_W3L6SeB0"
      }
    },
    {
      "cell_type": "code",
      "source": [
        "# ============================\n",
        "# VIDEO INFERENCE (YOLO-CLS) — best.pt ile tek mp4 değerlendirme\n",
        "# ============================\n",
        "!pip -q install ultralytics pandas opencv-python\n",
        "\n",
        "import os, gc, glob, json, math, shutil\n",
        "from datetime import datetime\n",
        "from collections import Counter, defaultdict\n",
        "\n",
        "import cv2\n",
        "import numpy as np\n",
        "import pandas as pd\n",
        "from ultralytics import YOLO\n",
        "import torch\n",
        "\n",
        "# -------------------\n",
        "# USER CONFIG\n",
        "# -------------------\n",
        "VIDEO_PATH   = \"/content/40_1_crop.mp4\" # <-- KENDİ MP4 YOLUNU YAZ\n",
        "CKPT_PATH    = \"/content/best.pt\"       # <-- KENDİ MODEL YOLUNU YAZ\n",
        "DRIVE_OUT    = \"/content/drive/MyDrive/TURKCELL-CodeFem3/Video_Evals\"  # Drive’a kopyalanacak yer\n",
        "\n",
        "OUT_ROOT     = \"/content\"  # çıktıların kök klasörü\n",
        "COPY_TO_DRIVE = True\n",
        "IMG_SIZE     = 224        # eğitimle uyumlu\n",
        "BATCH_INFER  = 64         # GPU'na göre artır/azalt\n",
        "TARGET_FPS   = 15         # videodan örneklenecek efektif FPS (yaklaşık)\n",
        "SMOOTH_WIN   = 5          # tekil kare flicker'ını azaltmak için çoğunluk filtresi (tek sayı; 1=kapalı)\n",
        "WRITE_ANNOTATED = True    # anotasyonlu video kaydet\n",
        "HALF         = False      # FP16 (destekleyen GPU’da hızlanabilir)\n",
        "\n",
        "# -------------------\n",
        "# checkpoint & model\n",
        "# -------------------\n",
        "assert CKPT_PATH and os.path.exists(CKPT_PATH), f\"best.pt bulunamadı: {CKPT_PATH}\"\n",
        "\n",
        "device = 0 if torch.cuda.is_available() else \"cpu\"\n",
        "model = YOLO(CKPT_PATH)\n",
        "if HALF and device != \"cpu\":\n",
        "    model.model.half()\n",
        "\n",
        "print(\"Using checkpoint:\", CKPT_PATH)\n",
        "print(\"Device:\", device)\n",
        "\n",
        "# -------------------\n",
        "# video okuma / örnekleme\n",
        "# -------------------\n",
        "assert os.path.exists(VIDEO_PATH), f\"Video yok: {VIDEO_PATH}\"\n",
        "cap = cv2.VideoCapture(VIDEO_PATH)\n",
        "src_fps = cap.get(cv2.CAP_PROP_FPS) or 30.0\n",
        "src_w   = int(cap.get(cv2.CAP_PROP_FRAME_WIDTH))\n",
        "src_h   = int(cap.get(cv2.CAP_PROP_FRAME_HEIGHT))\n",
        "src_n   = int(cap.get(cv2.CAP_PROP_FRAME_COUNT))\n",
        "stride  = max(1, int(round(src_fps / TARGET_FPS)))\n",
        "eff_fps = src_fps / stride\n",
        "print(f\"Video: {VIDEO_PATH} | fps_in={src_fps:.3f}, stride={stride} -> eff_fps≈{eff_fps:.3f}, frames={src_n}\")\n",
        "\n",
        "# -------------------\n",
        "# çıktı klasörleri\n",
        "# -------------------\n",
        "ts = datetime.now().strftime(\"%Y%m%d_%H%M%S\")\n",
        "EVAL_DIR = os.path.join(OUT_ROOT, f\"VIDEO_EVAL_{ts}\")\n",
        "os.makedirs(EVAL_DIR, exist_ok=True)\n",
        "\n",
        "CSV_FRAMES   = os.path.join(EVAL_DIR, \"per_frame_predictions.csv\")\n",
        "CSV_SEGMENTS = os.path.join(EVAL_DIR, \"segments.csv\")\n",
        "JSON_SUMMARY = os.path.join(EVAL_DIR, \"summary.json\")\n",
        "VID_OUT      = os.path.join(EVAL_DIR, \"annotated.mp4\")\n",
        "\n",
        "# -------------------\n",
        "# renkler (sınıf id -> BGR)\n",
        "# -------------------\n",
        "def _color_for(i):\n",
        "    # basit sabit palet\n",
        "    palette = [\n",
        "        (60,180,255), (80,220,100), (240,180,70),\n",
        "        (200,120,255), (60,60,255), (60,255,255),\n",
        "        (120,120,120), (180,180,60), (255,120,120),\n",
        "    ]\n",
        "    return palette[i % len(palette)]\n",
        "\n",
        "# -------------------\n",
        "# toplu (batch) inference\n",
        "# -------------------\n",
        "names = None\n",
        "frame_idxs_src = []   # orijinal frame index (0-based)\n",
        "times_sec      = []   # frame zamanı (s)\n",
        "top1_ids       = []\n",
        "top1_names     = []\n",
        "top1_confs     = []\n",
        "top5_list      = []   # [(id, name, conf), ...]\n",
        "\n",
        "batch_imgs = []\n",
        "batch_meta = []  # (src_idx, t_sec)\n",
        "\n",
        "def run_batch():\n",
        "    global batch_imgs, batch_meta, names\n",
        "    if not batch_imgs:\n",
        "        return\n",
        "    preds = model.predict(\n",
        "        batch_imgs,\n",
        "        imgsz=IMG_SIZE,\n",
        "        device=device,\n",
        "        verbose=False\n",
        "    )\n",
        "    if names is None:\n",
        "        # Ultralytics classification isimleri\n",
        "        names = preds[0].names\n",
        "    for pr, (src_idx, t_sec) in zip(preds, batch_meta):\n",
        "        probs = pr.probs  # tensor\n",
        "        # top-1\n",
        "        tid = int(probs.top1)\n",
        "        conf1 = float(probs.data[tid])\n",
        "        tname = names.get(tid, str(tid)) if isinstance(names, dict) else (names[tid] if tid < len(names) else str(tid))\n",
        "        # top-5\n",
        "        t5_ids = list(map(int, probs.top5))\n",
        "        t5 = []\n",
        "        for k in t5_ids:\n",
        "            nm = names.get(k, str(k)) if isinstance(names, dict) else (names[k] if k < len(names) else str(k))\n",
        "            t5.append((k, nm, float(probs.data[k])))\n",
        "\n",
        "        frame_idxs_src.append(src_idx)\n",
        "        times_sec.append(t_sec)\n",
        "        top1_ids.append(tid)\n",
        "        top1_names.append(tname)\n",
        "        top1_confs.append(conf1)\n",
        "        top5_list.append(t5)\n",
        "\n",
        "    batch_imgs = []\n",
        "    batch_meta = []\n",
        "    gc.collect()\n",
        "\n",
        "# oku + örnekle\n",
        "src_idx = -1\n",
        "while True:\n",
        "    ok, img = cap.read()\n",
        "    if not ok:\n",
        "        break\n",
        "    src_idx += 1\n",
        "    if (src_idx % stride) != 0:\n",
        "        continue\n",
        "    t_sec = src_idx / src_fps  # videonun gerçek zamanına göre\n",
        "    batch_imgs.append(img)\n",
        "    batch_meta.append((src_idx, t_sec))\n",
        "    if len(batch_imgs) >= BATCH_INFER:\n",
        "        run_batch()\n",
        "\n",
        "run_batch()\n",
        "cap.release()\n",
        "\n",
        "assert len(top1_ids) > 0, \"Hiç örnek frame çıkarılamadı; TARGET_FPS veya stride’ı kontrol et.\"\n",
        "\n",
        "# -------------------\n",
        "# opsiyonel temporal smoothing (çoğunluk)\n",
        "# -------------------\n",
        "def smooth_majority(ids, win):\n",
        "    if win <= 1 or win % 2 == 0:\n",
        "        return ids\n",
        "    r = []\n",
        "    half = win // 2\n",
        "    n = len(ids)\n",
        "    for i in range(n):\n",
        "        s = max(0, i - half)\n",
        "        e = min(n, i + half + 1)\n",
        "        seg = ids[s:e]\n",
        "        c = Counter(seg).most_common(1)[0][0]\n",
        "        r.append(int(c))\n",
        "    return r\n",
        "\n",
        "ids_raw = list(top1_ids)\n",
        "ids_smooth = smooth_majority(ids_raw, SMOOTH_WIN)\n",
        "names_map = names if isinstance(names, dict) else {i:n for i,n in enumerate(names)}\n",
        "\n",
        "# -------------------\n",
        "# segmentlere (zaman aralığı) birleştir\n",
        "# -------------------\n",
        "segments = []  # dict: class_id, class_name, start_idx_src, end_idx_src, start_sec, end_sec, duration_sec\n",
        "if ids_smooth:\n",
        "    cur_id = ids_smooth[0]\n",
        "    start_i = 0\n",
        "    for i in range(1, len(ids_smooth)):\n",
        "        if ids_smooth[i] != cur_id:\n",
        "            st_src = frame_idxs_src[start_i]\n",
        "            en_src = frame_idxs_src[i-1]\n",
        "            st_t   = times_sec[start_i]\n",
        "            en_t   = times_sec[i-1]\n",
        "            segments.append({\n",
        "                \"class_id\":   int(cur_id),\n",
        "                \"class_name\": names_map.get(int(cur_id), str(cur_id)),\n",
        "                \"start_frame_src\": int(st_src),\n",
        "                \"end_frame_src\":   int(en_src),\n",
        "                \"start_sec\":  float(st_t),\n",
        "                \"end_sec\":    float(en_t),\n",
        "                \"duration_sec\": float(max(0.0, en_t - st_t + (1.0/eff_fps)))  # yaklaşık\n",
        "            })\n",
        "            cur_id = ids_smooth[i]\n",
        "            start_i = i\n",
        "    # son segment\n",
        "    st_src = frame_idxs_src[start_i]\n",
        "    en_src = frame_idxs_src[len(ids_smooth)-1]\n",
        "    st_t   = times_sec[start_i]\n",
        "    en_t   = times_sec[len(ids_smooth)-1]\n",
        "    segments.append({\n",
        "        \"class_id\":   int(cur_id),\n",
        "        \"class_name\": names_map.get(int(cur_id), str(cur_id)),\n",
        "        \"start_frame_src\": int(st_src),\n",
        "        \"end_frame_src\":   int(en_src),\n",
        "        \"start_sec\":  float(st_t),\n",
        "        \"end_sec\":    float(en_t),\n",
        "        \"duration_sec\": float(max(0.0, en_t - st_t + (1.0/eff_fps)))\n",
        "    })\n",
        "\n",
        "# sınıf bazında özet\n",
        "dur_by_cls = defaultdict(float)\n",
        "count_by_cls = defaultdict(int)\n",
        "for seg in segments:\n",
        "    dur_by_cls[seg[\"class_name\"]]  += seg[\"duration_sec\"]\n",
        "    count_by_cls[seg[\"class_name\"]] += 1\n",
        "\n",
        "# -------------------\n",
        "# per-frame CSV\n",
        "# -------------------\n",
        "rows = []\n",
        "for i in range(len(times_sec)):\n",
        "    t5 = [{\"id\": k, \"name\": n, \"conf\": c} for (k,n,c) in top5_list[i]]\n",
        "    rows.append({\n",
        "        \"frame_src\": frame_idxs_src[i],\n",
        "        \"time_sec\":  times_sec[i],\n",
        "        \"top1_id_raw\": int(ids_raw[i]),\n",
        "        \"top1_name_raw\": names_map.get(int(ids_raw[i]), str(ids_raw[i])),\n",
        "        \"top1_id_smooth\": int(ids_smooth[i]),\n",
        "        \"top1_name_smooth\": names_map.get(int(ids_smooth[i]), str(ids_smooth[i])),\n",
        "        \"top1_conf\": float(top1_confs[i]),\n",
        "        \"top5\": json.dumps(t5, ensure_ascii=False)\n",
        "    })\n",
        "pd.DataFrame(rows).to_csv(CSV_FRAMES, index=False)\n",
        "\n",
        "# segment CSV\n",
        "pd.DataFrame(segments).to_csv(CSV_SEGMENTS, index=False)\n",
        "\n",
        "# summary JSON\n",
        "summary = {\n",
        "    \"video_path\": VIDEO_PATH,\n",
        "    \"checkpoint\": CKPT_PATH,\n",
        "    \"img_size\": IMG_SIZE,\n",
        "    \"target_fps\": TARGET_FPS,\n",
        "    \"effective_fps\": eff_fps,\n",
        "    \"stride\": stride,\n",
        "    \"smoothing_window\": SMOOTH_WIN,\n",
        "    \"classes\": names_map,\n",
        "    \"per_class\": {\n",
        "        k: {\"segments\": int(count_by_cls[k]), \"total_sec\": float(dur_by_cls[k])}\n",
        "        for k in sorted(dur_by_cls.keys())\n",
        "    }\n",
        "}\n",
        "with open(JSON_SUMMARY, \"w\") as f:\n",
        "    json.dump(summary, f, indent=2, ensure_ascii=False)\n",
        "\n",
        "print(\"Saved:\")\n",
        "print(\" - per-frame CSV   :\", CSV_FRAMES)\n",
        "print(\" - segments CSV    :\", CSV_SEGMENTS)\n",
        "print(\" - summary JSON    :\", JSON_SUMMARY)\n",
        "\n",
        "# -------------------\n",
        "# Anotasyonlu video (isteğe bağlı)\n",
        "# -------------------\n",
        "if WRITE_ANNOTATED:\n",
        "    fourcc = cv2.VideoWriter_fourcc(*\"mp4v\")\n",
        "    out = cv2.VideoWriter(VID_OUT, fourcc, eff_fps, (src_w, src_h))\n",
        "    for i in range(len(times_sec)):\n",
        "        # yeniden görüntüyü inputtan okumak yerine hızlıca tekrar oku (örneklenen frame’i çekeceğiz)\n",
        "        # Not: büyük videolarda ikinci okuma maliyetli olabilir; pratikte yeterli.\n",
        "        cap = cv2.VideoCapture(VIDEO_PATH)\n",
        "        cap.set(cv2.CAP_PROP_POS_FRAMES, frame_idxs_src[i])\n",
        "        ok, frame = cap.read()\n",
        "        cap.release()\n",
        "        if not ok:\n",
        "            continue\n",
        "        cid = int(ids_smooth[i])\n",
        "        cname = names_map.get(cid, str(cid))\n",
        "        conf = top1_confs[i]\n",
        "        tsec = times_sec[i]\n",
        "\n",
        "        # üst sol etiket\n",
        "        label = f\"{cname}  {conf:.2f}  t={tsec:6.2f}s\"\n",
        "        (tw, th), _ = cv2.getTextSize(label, cv2.FONT_HERSHEY_SIMPLEX, 0.8, 2)\n",
        "        cv2.rectangle(frame, (10, 10), (10+tw+10, 10+th+10), _color_for(cid), -1)\n",
        "        cv2.putText(frame, label, (15, 10+th+2), cv2.FONT_HERSHEY_SIMPLEX, 0.8, (0,0,0), 2, cv2.LINE_AA)\n",
        "\n",
        "        # alt zaman çizgisi\n",
        "        progress = i / max(1, (len(times_sec)-1))\n",
        "        bar_w = int(progress * src_w)\n",
        "        cv2.rectangle(frame, (0, src_h-12), (bar_w, src_h), _color_for(cid), -1)\n",
        "\n",
        "        out.write(frame)\n",
        "    out.release()\n",
        "    print(\" - annotated video :\", VID_OUT)\n",
        "\n",
        "# -------------------\n",
        "# Drive’a kopyala (opsiyonel)\n",
        "# -------------------\n",
        "if COPY_TO_DRIVE:\n",
        "    os.makedirs(DRIVE_OUT, exist_ok=True)\n",
        "    dst = os.path.join(DRIVE_OUT, os.path.basename(EVAL_DIR))\n",
        "    if os.path.exists(dst):\n",
        "        shutil.rmtree(dst, ignore_errors=True)\n",
        "    shutil.copytree(EVAL_DIR, dst)\n",
        "    print(\"Copied to Drive    :\", dst)\n",
        "\n",
        "print(\"\\nÖZET (segment bazında):\")\n",
        "for cls in sorted(dur_by_cls.keys()):\n",
        "    print(f\" - {cls:18s} -> segments: {count_by_cls[cls]:3d}  total: {dur_by_cls[cls]:7.2f}s\")\n"
      ],
      "metadata": {
        "colab": {
          "base_uri": "https://localhost:8080/"
        },
        "id": "A7-nCgqQSpI0",
        "outputId": "aa67db93-604a-432d-eff8-4b5cbeb37bb0"
      },
      "execution_count": 11,
      "outputs": [
        {
          "output_type": "stream",
          "name": "stdout",
          "text": [
            "Using checkpoint: /content/best.pt\n",
            "Device: 0\n",
            "Video: /content/40_1_crop.mp4 | fps_in=30.000, stride=2 -> eff_fps≈15.000, frames=4020\n",
            "Saved:\n",
            " - per-frame CSV   : /content/VIDEO_EVAL_20251015_111835/per_frame_predictions.csv\n",
            " - segments CSV    : /content/VIDEO_EVAL_20251015_111835/segments.csv\n",
            " - summary JSON    : /content/VIDEO_EVAL_20251015_111835/summary.json\n",
            " - annotated video : /content/VIDEO_EVAL_20251015_111835/annotated.mp4\n",
            "Copied to Drive    : /content/drive/MyDrive/TURKCELL-CodeFem3/Video_Evals/VIDEO_EVAL_20251015_111835\n",
            "\n",
            "ÖZET (segment bazında):\n",
            " - Hand_In_Shelf      -> segments:   6  total:    4.67s\n",
            " - Inspect_Product    -> segments:  18  total:    9.80s\n",
            " - Inspect_Shelf      -> segments:  25  total:  118.13s\n",
            " - Reach_To_Shelf     -> segments:   5  total:    0.93s\n",
            " - Retract_From_Shelf -> segments:   4  total:    0.47s\n"
          ]
        }
      ]
    },
    {
      "cell_type": "markdown",
      "source": [
        "# **DOWNLOAD RESULTS FOLDER**"
      ],
      "metadata": {
        "id": "jS7VJhh2Q_Fb"
      }
    },
    {
      "cell_type": "code",
      "source": [
        "# Zip (sessiz, rekürsif)\n",
        "!zip -r -q /content/YOLOCLS_runs_local.zip /content/YOLOCLS_runs_local\n",
        "from google.colab import files\n",
        "files.download(\"/content/YOLOCLS_runs_local.zip\")\n"
      ],
      "metadata": {
        "colab": {
          "base_uri": "https://localhost:8080/",
          "height": 17
        },
        "id": "L5f7kWTHQ9tV",
        "outputId": "9c2dcd84-47eb-4488-8d6f-b152514df5eb"
      },
      "execution_count": null,
      "outputs": [
        {
          "output_type": "display_data",
          "data": {
            "text/plain": [
              "<IPython.core.display.Javascript object>"
            ],
            "application/javascript": [
              "\n",
              "    async function download(id, filename, size) {\n",
              "      if (!google.colab.kernel.accessAllowed) {\n",
              "        return;\n",
              "      }\n",
              "      const div = document.createElement('div');\n",
              "      const label = document.createElement('label');\n",
              "      label.textContent = `Downloading \"${filename}\": `;\n",
              "      div.appendChild(label);\n",
              "      const progress = document.createElement('progress');\n",
              "      progress.max = size;\n",
              "      div.appendChild(progress);\n",
              "      document.body.appendChild(div);\n",
              "\n",
              "      const buffers = [];\n",
              "      let downloaded = 0;\n",
              "\n",
              "      const channel = await google.colab.kernel.comms.open(id);\n",
              "      // Send a message to notify the kernel that we're ready.\n",
              "      channel.send({})\n",
              "\n",
              "      for await (const message of channel.messages) {\n",
              "        // Send a message to notify the kernel that we're ready.\n",
              "        channel.send({})\n",
              "        if (message.buffers) {\n",
              "          for (const buffer of message.buffers) {\n",
              "            buffers.push(buffer);\n",
              "            downloaded += buffer.byteLength;\n",
              "            progress.value = downloaded;\n",
              "          }\n",
              "        }\n",
              "      }\n",
              "      const blob = new Blob(buffers, {type: 'application/binary'});\n",
              "      const a = document.createElement('a');\n",
              "      a.href = window.URL.createObjectURL(blob);\n",
              "      a.download = filename;\n",
              "      div.appendChild(a);\n",
              "      a.click();\n",
              "      div.remove();\n",
              "    }\n",
              "  "
            ]
          },
          "metadata": {}
        },
        {
          "output_type": "display_data",
          "data": {
            "text/plain": [
              "<IPython.core.display.Javascript object>"
            ],
            "application/javascript": [
              "download(\"download_e32260c5-0343-4421-9889-86e796e5a152\", \"YOLOCLS_runs_local.zip\", 10662613)"
            ]
          },
          "metadata": {}
        }
      ]
    },
    {
      "cell_type": "code",
      "source": [
        "# Zip (sessiz, rekürsif)\n",
        "!zip -r -q /content/VIDEO_EVAL_20251015_111835.zip /content/VIDEO_EVAL_20251015_111835\n",
        "from google.colab import files\n",
        "files.download(\"/content/VIDEO_EVAL_20251015_111835.zip\")\n"
      ],
      "metadata": {
        "colab": {
          "base_uri": "https://localhost:8080/",
          "height": 17
        },
        "id": "SU9IhozdY163",
        "outputId": "487fdcd3-08ec-4b69-dca6-ce8f8d305978"
      },
      "execution_count": 12,
      "outputs": [
        {
          "output_type": "display_data",
          "data": {
            "text/plain": [
              "<IPython.core.display.Javascript object>"
            ],
            "application/javascript": [
              "\n",
              "    async function download(id, filename, size) {\n",
              "      if (!google.colab.kernel.accessAllowed) {\n",
              "        return;\n",
              "      }\n",
              "      const div = document.createElement('div');\n",
              "      const label = document.createElement('label');\n",
              "      label.textContent = `Downloading \"${filename}\": `;\n",
              "      div.appendChild(label);\n",
              "      const progress = document.createElement('progress');\n",
              "      progress.max = size;\n",
              "      div.appendChild(progress);\n",
              "      document.body.appendChild(div);\n",
              "\n",
              "      const buffers = [];\n",
              "      let downloaded = 0;\n",
              "\n",
              "      const channel = await google.colab.kernel.comms.open(id);\n",
              "      // Send a message to notify the kernel that we're ready.\n",
              "      channel.send({})\n",
              "\n",
              "      for await (const message of channel.messages) {\n",
              "        // Send a message to notify the kernel that we're ready.\n",
              "        channel.send({})\n",
              "        if (message.buffers) {\n",
              "          for (const buffer of message.buffers) {\n",
              "            buffers.push(buffer);\n",
              "            downloaded += buffer.byteLength;\n",
              "            progress.value = downloaded;\n",
              "          }\n",
              "        }\n",
              "      }\n",
              "      const blob = new Blob(buffers, {type: 'application/binary'});\n",
              "      const a = document.createElement('a');\n",
              "      a.href = window.URL.createObjectURL(blob);\n",
              "      a.download = filename;\n",
              "      div.appendChild(a);\n",
              "      a.click();\n",
              "      div.remove();\n",
              "    }\n",
              "  "
            ]
          },
          "metadata": {}
        },
        {
          "output_type": "display_data",
          "data": {
            "text/plain": [
              "<IPython.core.display.Javascript object>"
            ],
            "application/javascript": [
              "download(\"download_0dc5e378-0b2d-4e66-950e-1f7b5f2cb017\", \"VIDEO_EVAL_20251015_111835.zip\", 36113430)"
            ]
          },
          "metadata": {}
        }
      ]
    }
  ]
}